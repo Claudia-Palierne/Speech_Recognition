{
  "cells": [
    {
      "cell_type": "markdown",
      "metadata": {
        "id": "0TF2ZlGxMTaJ"
      },
      "source": [
        "# Connect to Google drive"
      ]
    },
    {
      "cell_type": "code",
      "execution_count": null,
      "metadata": {
        "colab": {
          "base_uri": "https://localhost:8080/"
        },
        "id": "DIYekq-q1iQX",
        "outputId": "32f3a391-4cc4-47ad-a062-46a38d16bc31"
      },
      "outputs": [
        {
          "name": "stdout",
          "output_type": "stream",
          "text": [
            "Mounted at /content/drive\n"
          ]
        }
      ],
      "source": [
        "from google.colab import drive\n",
        "drive.mount('/content/drive')"
      ]
    },
    {
      "cell_type": "markdown",
      "metadata": {
        "id": "N3JgVGSzGoCc"
      },
      "source": [
        "# Download and extract the data\n",
        "\n",
        "files:\n",
        "- \"sample_submission\",\n",
        "- \"train\"\n",
        "\n",
        "\n",
        "source:\n",
        "https://www.kaggle.com/competitions/tensorflow-speech-recognition-challenge/data?select=test.7z\n",
        "\n",
        "\n",
        "Google Drive:\n",
        "https://drive.google.com/drive/folders/1--pB3cJQl5UMM_Z-J4AAhhOne4KegOLI?usp=sharing"
      ]
    },
    {
      "cell_type": "markdown",
      "metadata": {
        "id": "eVgD859U3SlN"
      },
      "source": [
        "\n",
        "The following code block is written in Python and is intended to be used in a Colab notebook. It performs the extraction of .7z files for the TensorFlow Speech Recognition Challenge dataset. Here is a summary of the code's functionality:\n",
        "\n",
        "1. The code starts by defining the paths to the training directory (`drive_train_dir`) and the sample submission file (`drive_sample_submission`).\n",
        "\n",
        "2. The `extract_7z` function is defined to extract .7z files using the `py7zr` library.\n",
        "\n",
        "3. The code checks if the `drive_train_dir` directory exists. If it doesn't, it proceeds to the next steps to extract the training data.\n",
        "\n",
        "4. Inside the conditional block, the code checks if the file `train.7z` exists. If it doesn't, it installs the Kaggle API, uploads the Kaggle API key file, and downloads the required files using the Kaggle API.\n",
        "\n",
        "5. After downloading the files, the `py7zr` library is installed, and the `extract_7z` function is called to extract the training data to the specified target directory (`train_dir`).\n",
        "\n",
        "6. The code then checks if the `drive_sample_submission` directory exists. If it doesn't, it proceeds to the next steps to extract the sample submission data.\n",
        "\n",
        "7. Inside the conditional block, the code checks if the file `sample_submission.7z` exists. If it doesn't, it installs the Kaggle API, uploads the Kaggle API key file, and downloads the required files using the Kaggle API.\n",
        "\n",
        "8. After downloading the files, the `py7zr` library is installed, and the `extract_7z` function is called to extract the sample submission data to the specified target directory (`sample_submission_dir`).\n",
        "\n",
        "The code ensures that the necessary files are downloaded and extracted to their respective directories. It handles the extraction of .7z files using the `py7zr` library and checks if the files already exist before performing any downloads.\n"
      ]
    },
    {
      "cell_type": "code",
      "execution_count": null,
      "metadata": {
        "id": "YjziOvf-c6Kx"
      },
      "outputs": [],
      "source": [
        "import os\n",
        "\n",
        "\n",
        "drive_train_dir = r'/content/drive/MyDrive/ITC_final_project/Data/train'\n",
        "drive_sample_submission = r'/content/drive/MyDrive/ITC_final_project/Data/sample_submission.csv'\n",
        "\n",
        "\n",
        "\n",
        "# Function to extract .7z files\n",
        "def extract_7z(file_path, target_dir):\n",
        "  unpack_7zarchive(file_path, target_dir)\n",
        "\n",
        "\n",
        "# If \"drive_train_dir\" directory dones't exist, perform the extraction\n",
        "if not os.path.exists(drive_train_dir):\n",
        "    from pathlib import Path\n",
        "\n",
        "    # Check if the file \"train.7z\" exist\n",
        "    if not Path('/content/train.7z').exists():\n",
        "        # Install the Kaggle API\n",
        "        !pip install kaggle\n",
        "\n",
        "        # Upload your Kaggle API key file (kaggle.json) to Colab\n",
        "        from google.colab import files\n",
        "        files.upload()\n",
        "\n",
        "        # Move the uploaded Kaggle API key file to the required directory\n",
        "        !mkdir ~/.kaggle\n",
        "        !mv kaggle.json ~/.kaggle/\n",
        "        !chmod 600 ~/.kaggle/kaggle.json\n",
        "\n",
        "        # Download the files using the Kaggle API\n",
        "        !kaggle competitions download -c tensorflow-speech-recognition-challenge -f train.7z -p /content\n",
        "\n",
        "\n",
        "    # Extract the downloaded .7z files\n",
        "    !pip install py7zr\n",
        "    from py7zr import unpack_7zarchive\n",
        "\n",
        "    # Specify the target directories for extraction\n",
        "    train_dir = '/content/drive/MyDrive/ITC_final_project/Data'\n",
        "\n",
        "    # Specify the paths of the .7z files\n",
        "    train_7z_path = '/content/train.7z'\n",
        "\n",
        "    # Create the target directories if they don't exist\n",
        "    os.makedirs(train_dir, exist_ok=True)\n",
        "\n",
        "    # Extract the files\n",
        "    extract_7z(train_7z_path, train_dir)\n",
        "\n",
        "\n",
        "\n",
        "# If the directory in \"drive_sample_submission\" doesn't exist, perform the extraction\n",
        "if not os.path.exists(drive_sample_submission):\n",
        "    import os\n",
        "    from pathlib import Path\n",
        "\n",
        "    # Check if the files exist\n",
        "    if not Path('/content/sample_submission.7z').exists():\n",
        "        # Install the Kaggle API\n",
        "        !pip install kaggle\n",
        "\n",
        "        # Upload your Kaggle API key file (kaggle.json) to Colab\n",
        "        from google.colab import files\n",
        "        files.upload()\n",
        "\n",
        "        # Move the uploaded Kaggle API key file to the required directory\n",
        "        !mkdir ~/.kaggle\n",
        "        !mv kaggle.json ~/.kaggle/\n",
        "        !chmod 600 ~/.kaggle/kaggle.json\n",
        "\n",
        "        # Download the files using the Kaggle API\n",
        "        !kaggle competitions download -c tensorflow-speech-recognition-challenge -f sample_submission.7z -p /content\n",
        "\n",
        "\n",
        "    # Extract the downloaded .7z files\n",
        "    !pip install py7zr\n",
        "    from py7zr import unpack_7zarchive\n",
        "\n",
        "    # Specify the target directories for extraction\n",
        "    sample_submission_dir = '/content/drive/MyDrive/ITC_final_project/Data'\n",
        "\n",
        "    # Specify the paths of the .7z files\n",
        "    sample_submission_7z_path = '/content/sample_submission.7z'\n",
        "\n",
        "    # Create the target directories if they don't exist\n",
        "    os.makedirs(sample_submission_dir, exist_ok=True)\n",
        "\n",
        "    # Extract the files\n",
        "    extract_7z(sample_submission_7z_path, sample_submission_dir)"
      ]
    },
    {
      "cell_type": "markdown",
      "metadata": {
        "id": "RkD_byiJe1cM"
      },
      "source": [
        "# creating dataframe"
      ]
    },
    {
      "cell_type": "markdown",
      "metadata": {
        "id": "lMYHesAT34Zb"
      },
      "source": [
        "\n",
        "The following code block performs the initialization and construction of a DataFrame from the audio files in the training directory of the TensorFlow Speech Recognition Challenge dataset. Here is a summary of the code's functionality:\n",
        "\n",
        "1. The code first defines the `audio_dir` variable, which is the path to the 'audio' directory within the `drive_train_dir` directory.\n",
        "\n",
        "2. An empty list called `rows` is initialized to store the rows of the DataFrame.\n",
        "\n",
        "3. The code iterates through the folders in the `audio_dir` directory. For each label, it checks if it is a directory and skips the '_background_noise_' folder.\n",
        "\n",
        "4. Within each label directory, the code iterates through the files. It only considers files with the '.wav' extension.\n",
        "\n",
        "5. For each valid audio file, the code extracts the label, speaker ID, and sample ID from the file name. It then appends a dictionary containing these values and the file path to the `rows` list.\n",
        "\n",
        "6. After processing the label directories, the code adds the background noise files. It iterates through the files in the '_background_noise_' directory and extracts the speaker ID from the file name. For each background noise file, a dictionary is appended to the `rows` list with the label set as 'background' and the sample ID as 0.\n",
        "\n",
        "7. Finally, the `rows` list is used to create a DataFrame using the pandas library, and the resulting DataFrame is assigned to the variable `df`.\n",
        "\n",
        "The code efficiently gathers information about the audio files, including their file paths, labels, speaker IDs, and sample IDs, and organizes them into a pandas DataFrame for further processing and analysis.\n",
        "\n",
        "\n"
      ]
    },
    {
      "cell_type": "code",
      "execution_count": null,
      "metadata": {
        "id": "wZ0cZ6cpe7GF"
      },
      "outputs": [],
      "source": [
        "import pandas as pd\n",
        "\n",
        "audio_dir = os.path.join(drive_train_dir, 'audio')\n",
        "\n",
        "# Initialize an empty list to store rows\n",
        "rows = []\n",
        "\n",
        "# Iterate through the folders in the train directory\n",
        "for label in os.listdir(audio_dir):\n",
        "    label_dir = os.path.join(audio_dir, label)\n",
        "\n",
        "    # Skip the \"_background_noise_\" folder\n",
        "    if label == '_background_noise_':\n",
        "        continue\n",
        "\n",
        "    # Check if it is a directory\n",
        "    if not os.path.isdir(label_dir):\n",
        "        continue\n",
        "\n",
        "    # Iterate through the files in the label directory\n",
        "    for file_name in os.listdir(label_dir):\n",
        "        if file_name.endswith('.wav'):\n",
        "            file_path = os.path.join(label_dir, file_name)\n",
        "\n",
        "            # Extract the label, speaker id, and sample id from the file name\n",
        "            label_parts = file_name.split('_')\n",
        "            speaker_id = label_parts[0]\n",
        "            sample_id = label_parts[-1].split('.')[0]\n",
        "\n",
        "            # Append the row to the list\n",
        "            rows.append({'file_path': file_path, 'label': label,\n",
        "                         'speaker_id': speaker_id, 'sample_id': sample_id})\n",
        "\n",
        "# Add the background noise files\n",
        "background_noise_dir = os.path.join(audio_dir, '_background_noise_')\n",
        "for file_name in os.listdir(background_noise_dir):\n",
        "    if file_name.endswith('.wav'):\n",
        "        file_path = os.path.join(background_noise_dir, file_name)\n",
        "\n",
        "        # Extract the speaker id from the file name\n",
        "        speaker_id = os.path.splitext(file_name)[0]\n",
        "\n",
        "        # Append the row to the list with label as 'background' and sample ID as 0\n",
        "        rows.append({'file_path': file_path, 'label': 'background',\n",
        "                     'speaker_id': speaker_id, 'sample_id': 0})\n",
        "\n",
        "# Create the dataframe from the list of rows\n",
        "df = pd.DataFrame(rows)\n"
      ]
    },
    {
      "cell_type": "markdown",
      "metadata": {
        "id": "6uTDL5bMoLIa"
      },
      "source": [
        "# light EDA on the raw data"
      ]
    },
    {
      "cell_type": "code",
      "execution_count": null,
      "metadata": {
        "colab": {
          "base_uri": "https://localhost:8080/"
        },
        "id": "6X3lhQ85hj0F",
        "outputId": "a2edb1da-c004-4dff-98a6-002dc7a017ea"
      },
      "outputs": [
        {
          "name": "stdout",
          "output_type": "stream",
          "text": [
            "\n",
            "df shape is: (64907, 4)\n",
            "\n",
            "df columns are: file_path, label, speaker_id, sample_id\n",
            "\n",
            "number of unique labels: 31\n",
            "\n",
            "unique labels:\n",
            " background, bed, bird, cat, dog, down, eight, five, four, go, happy, house, left, marvin, nine, no, off, on, one, right, seven, sheila, six, stop, three, tree, two, up, wow, yes, zero\n"
          ]
        }
      ],
      "source": [
        "print(\"\\ndf shape is:\", df.shape)\n",
        "print(\"\\ndf columns are:\", ', '.join(df.columns))\n",
        "print(\"\\nnumber of unique labels:\", df['label'].nunique())\n",
        "print(\"\\nunique labels:\\n\", ', '.join(df['label'].sort_values().unique()))\n"
      ]
    },
    {
      "cell_type": "code",
      "execution_count": null,
      "metadata": {
        "colab": {
          "base_uri": "https://localhost:8080/",
          "height": 206
        },
        "id": "iOsu7IH5v-RN",
        "outputId": "03f0a86a-e72c-438f-d6cf-aedb6cbd672f"
      },
      "outputs": [
        {
          "data": {
            "text/html": [
              "\n",
              "\n",
              "  <div id=\"df-97660454-9a40-4f38-a2f4-c59a6a2ae60e\">\n",
              "    <div class=\"colab-df-container\">\n",
              "      <div>\n",
              "<style scoped>\n",
              "    .dataframe tbody tr th:only-of-type {\n",
              "        vertical-align: middle;\n",
              "    }\n",
              "\n",
              "    .dataframe tbody tr th {\n",
              "        vertical-align: top;\n",
              "    }\n",
              "\n",
              "    .dataframe thead th {\n",
              "        text-align: right;\n",
              "    }\n",
              "</style>\n",
              "<table border=\"1\" class=\"dataframe\">\n",
              "  <thead>\n",
              "    <tr style=\"text-align: right;\">\n",
              "      <th></th>\n",
              "      <th>file_path</th>\n",
              "      <th>label</th>\n",
              "      <th>speaker_id</th>\n",
              "      <th>sample_id</th>\n",
              "    </tr>\n",
              "  </thead>\n",
              "  <tbody>\n",
              "    <tr>\n",
              "      <th>6752</th>\n",
              "      <td>/content/drive/MyDrive/ITC_final_project/Data/...</td>\n",
              "      <td>dog</td>\n",
              "      <td>538e1856</td>\n",
              "      <td>0</td>\n",
              "    </tr>\n",
              "    <tr>\n",
              "      <th>32072</th>\n",
              "      <td>/content/drive/MyDrive/ITC_final_project/Data/...</td>\n",
              "      <td>off</td>\n",
              "      <td>fd395b74</td>\n",
              "      <td>2</td>\n",
              "    </tr>\n",
              "    <tr>\n",
              "      <th>51265</th>\n",
              "      <td>/content/drive/MyDrive/ITC_final_project/Data/...</td>\n",
              "      <td>three</td>\n",
              "      <td>f292725f</td>\n",
              "      <td>0</td>\n",
              "    </tr>\n",
              "    <tr>\n",
              "      <th>60153</th>\n",
              "      <td>/content/drive/MyDrive/ITC_final_project/Data/...</td>\n",
              "      <td>yes</td>\n",
              "      <td>f2dd248e</td>\n",
              "      <td>0</td>\n",
              "    </tr>\n",
              "    <tr>\n",
              "      <th>26003</th>\n",
              "      <td>/content/drive/MyDrive/ITC_final_project/Data/...</td>\n",
              "      <td>marvin</td>\n",
              "      <td>4abefdf5</td>\n",
              "      <td>0</td>\n",
              "    </tr>\n",
              "  </tbody>\n",
              "</table>\n",
              "</div>\n",
              "      <button class=\"colab-df-convert\" onclick=\"convertToInteractive('df-97660454-9a40-4f38-a2f4-c59a6a2ae60e')\"\n",
              "              title=\"Convert this dataframe to an interactive table.\"\n",
              "              style=\"display:none;\">\n",
              "\n",
              "  <svg xmlns=\"http://www.w3.org/2000/svg\" height=\"24px\"viewBox=\"0 0 24 24\"\n",
              "       width=\"24px\">\n",
              "    <path d=\"M0 0h24v24H0V0z\" fill=\"none\"/>\n",
              "    <path d=\"M18.56 5.44l.94 2.06.94-2.06 2.06-.94-2.06-.94-.94-2.06-.94 2.06-2.06.94zm-11 1L8.5 8.5l.94-2.06 2.06-.94-2.06-.94L8.5 2.5l-.94 2.06-2.06.94zm10 10l.94 2.06.94-2.06 2.06-.94-2.06-.94-.94-2.06-.94 2.06-2.06.94z\"/><path d=\"M17.41 7.96l-1.37-1.37c-.4-.4-.92-.59-1.43-.59-.52 0-1.04.2-1.43.59L10.3 9.45l-7.72 7.72c-.78.78-.78 2.05 0 2.83L4 21.41c.39.39.9.59 1.41.59.51 0 1.02-.2 1.41-.59l7.78-7.78 2.81-2.81c.8-.78.8-2.07 0-2.86zM5.41 20L4 18.59l7.72-7.72 1.47 1.35L5.41 20z\"/>\n",
              "  </svg>\n",
              "      </button>\n",
              "\n",
              "\n",
              "\n",
              "    <div id=\"df-08e866a9-87a9-4749-a78a-5870c69d231e\">\n",
              "      <button class=\"colab-df-quickchart\" onclick=\"quickchart('df-08e866a9-87a9-4749-a78a-5870c69d231e')\"\n",
              "              title=\"Suggest charts.\"\n",
              "              style=\"display:none;\">\n",
              "\n",
              "<svg xmlns=\"http://www.w3.org/2000/svg\" height=\"24px\"viewBox=\"0 0 24 24\"\n",
              "     width=\"24px\">\n",
              "    <g>\n",
              "        <path d=\"M19 3H5c-1.1 0-2 .9-2 2v14c0 1.1.9 2 2 2h14c1.1 0 2-.9 2-2V5c0-1.1-.9-2-2-2zM9 17H7v-7h2v7zm4 0h-2V7h2v10zm4 0h-2v-4h2v4z\"/>\n",
              "    </g>\n",
              "</svg>\n",
              "      </button>\n",
              "    </div>\n",
              "\n",
              "<style>\n",
              "  .colab-df-quickchart {\n",
              "    background-color: #E8F0FE;\n",
              "    border: none;\n",
              "    border-radius: 50%;\n",
              "    cursor: pointer;\n",
              "    display: none;\n",
              "    fill: #1967D2;\n",
              "    height: 32px;\n",
              "    padding: 0 0 0 0;\n",
              "    width: 32px;\n",
              "  }\n",
              "\n",
              "  .colab-df-quickchart:hover {\n",
              "    background-color: #E2EBFA;\n",
              "    box-shadow: 0px 1px 2px rgba(60, 64, 67, 0.3), 0px 1px 3px 1px rgba(60, 64, 67, 0.15);\n",
              "    fill: #174EA6;\n",
              "  }\n",
              "\n",
              "  [theme=dark] .colab-df-quickchart {\n",
              "    background-color: #3B4455;\n",
              "    fill: #D2E3FC;\n",
              "  }\n",
              "\n",
              "  [theme=dark] .colab-df-quickchart:hover {\n",
              "    background-color: #434B5C;\n",
              "    box-shadow: 0px 1px 3px 1px rgba(0, 0, 0, 0.15);\n",
              "    filter: drop-shadow(0px 1px 2px rgba(0, 0, 0, 0.3));\n",
              "    fill: #FFFFFF;\n",
              "  }\n",
              "</style>\n",
              "\n",
              "    <script>\n",
              "      async function quickchart(key) {\n",
              "        const containerElement = document.querySelector('#' + key);\n",
              "        const charts = await google.colab.kernel.invokeFunction(\n",
              "            'suggestCharts', [key], {});\n",
              "      }\n",
              "    </script>\n",
              "\n",
              "      <script>\n",
              "\n",
              "function displayQuickchartButton(domScope) {\n",
              "  let quickchartButtonEl =\n",
              "    domScope.querySelector('#df-08e866a9-87a9-4749-a78a-5870c69d231e button.colab-df-quickchart');\n",
              "  quickchartButtonEl.style.display =\n",
              "    google.colab.kernel.accessAllowed ? 'block' : 'none';\n",
              "}\n",
              "\n",
              "        displayQuickchartButton(document);\n",
              "      </script>\n",
              "      <style>\n",
              "    .colab-df-container {\n",
              "      display:flex;\n",
              "      flex-wrap:wrap;\n",
              "      gap: 12px;\n",
              "    }\n",
              "\n",
              "    .colab-df-convert {\n",
              "      background-color: #E8F0FE;\n",
              "      border: none;\n",
              "      border-radius: 50%;\n",
              "      cursor: pointer;\n",
              "      display: none;\n",
              "      fill: #1967D2;\n",
              "      height: 32px;\n",
              "      padding: 0 0 0 0;\n",
              "      width: 32px;\n",
              "    }\n",
              "\n",
              "    .colab-df-convert:hover {\n",
              "      background-color: #E2EBFA;\n",
              "      box-shadow: 0px 1px 2px rgba(60, 64, 67, 0.3), 0px 1px 3px 1px rgba(60, 64, 67, 0.15);\n",
              "      fill: #174EA6;\n",
              "    }\n",
              "\n",
              "    [theme=dark] .colab-df-convert {\n",
              "      background-color: #3B4455;\n",
              "      fill: #D2E3FC;\n",
              "    }\n",
              "\n",
              "    [theme=dark] .colab-df-convert:hover {\n",
              "      background-color: #434B5C;\n",
              "      box-shadow: 0px 1px 3px 1px rgba(0, 0, 0, 0.15);\n",
              "      filter: drop-shadow(0px 1px 2px rgba(0, 0, 0, 0.3));\n",
              "      fill: #FFFFFF;\n",
              "    }\n",
              "  </style>\n",
              "\n",
              "      <script>\n",
              "        const buttonEl =\n",
              "          document.querySelector('#df-97660454-9a40-4f38-a2f4-c59a6a2ae60e button.colab-df-convert');\n",
              "        buttonEl.style.display =\n",
              "          google.colab.kernel.accessAllowed ? 'block' : 'none';\n",
              "\n",
              "        async function convertToInteractive(key) {\n",
              "          const element = document.querySelector('#df-97660454-9a40-4f38-a2f4-c59a6a2ae60e');\n",
              "          const dataTable =\n",
              "            await google.colab.kernel.invokeFunction('convertToInteractive',\n",
              "                                                     [key], {});\n",
              "          if (!dataTable) return;\n",
              "\n",
              "          const docLinkHtml = 'Like what you see? Visit the ' +\n",
              "            '<a target=\"_blank\" href=https://colab.research.google.com/notebooks/data_table.ipynb>data table notebook</a>'\n",
              "            + ' to learn more about interactive tables.';\n",
              "          element.innerHTML = '';\n",
              "          dataTable['output_type'] = 'display_data';\n",
              "          await google.colab.output.renderOutput(dataTable, element);\n",
              "          const docLink = document.createElement('div');\n",
              "          docLink.innerHTML = docLinkHtml;\n",
              "          element.appendChild(docLink);\n",
              "        }\n",
              "      </script>\n",
              "    </div>\n",
              "  </div>\n"
            ],
            "text/plain": [
              "                                               file_path   label speaker_id  \\\n",
              "6752   /content/drive/MyDrive/ITC_final_project/Data/...     dog   538e1856   \n",
              "32072  /content/drive/MyDrive/ITC_final_project/Data/...     off   fd395b74   \n",
              "51265  /content/drive/MyDrive/ITC_final_project/Data/...   three   f292725f   \n",
              "60153  /content/drive/MyDrive/ITC_final_project/Data/...     yes   f2dd248e   \n",
              "26003  /content/drive/MyDrive/ITC_final_project/Data/...  marvin   4abefdf5   \n",
              "\n",
              "      sample_id  \n",
              "6752          0  \n",
              "32072         2  \n",
              "51265         0  \n",
              "60153         0  \n",
              "26003         0  "
            ]
          },
          "execution_count": 5,
          "metadata": {},
          "output_type": "execute_result"
        }
      ],
      "source": [
        "df.sample(5)"
      ]
    },
    {
      "cell_type": "code",
      "execution_count": null,
      "metadata": {
        "colab": {
          "base_uri": "https://localhost:8080/",
          "height": 547
        },
        "id": "2iUR7YNLhpZt",
        "outputId": "e3e19da4-04cc-45b8-d381-f8d83bd8529d"
      },
      "outputs": [
        {
          "name": "stdout",
          "output_type": "stream",
          "text": [
            "Label: happy\n"
          ]
        },
        {
          "data": {
            "text/html": [
              "\n",
              "                <audio  controls=\"controls\" >\n",
              "                    <source src=\"data:audio/x-wav;base64,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\" type=\"audio/x-wav\" />\n",
              "                    Your browser does not support the audio element.\n",
              "                </audio>\n",
              "              "
            ],
            "text/plain": [
              "<IPython.lib.display.Audio object>"
            ]
          },
          "metadata": {},
          "output_type": "display_data"
        },
        {
          "name": "stdout",
          "output_type": "stream",
          "text": [
            "Label: cat\n"
          ]
        },
        {
          "data": {
            "text/html": [
              "\n",
              "                <audio  controls=\"controls\" >\n",
              "                    <source src=\"data:audio/x-wav;base64,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\" type=\"audio/x-wav\" />\n",
              "                    Your browser does not support the audio element.\n",
              "                </audio>\n",
              "              "
            ],
            "text/plain": [
              "<IPython.lib.display.Audio object>"
            ]
          },
          "metadata": {},
          "output_type": "display_data"
        },
        {
          "name": "stdout",
          "output_type": "stream",
          "text": [
            "Label: yes\n"
          ]
        },
        {
          "data": {
            "text/html": [
              "\n",
              "                <audio  controls=\"controls\" >\n",
              "                    <source src=\"data:audio/x-wav;base64,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\" type=\"audio/x-wav\" />\n",
              "                    Your browser does not support the audio element.\n",
              "                </audio>\n",
              "              "
            ],
            "text/plain": [
              "<IPython.lib.display.Audio object>"
            ]
          },
          "metadata": {},
          "output_type": "display_data"
        },
        {
          "name": "stdout",
          "output_type": "stream",
          "text": [
            "Label: down\n"
          ]
        },
        {
          "data": {
            "text/html": [
              "\n",
              "                <audio  controls=\"controls\" >\n",
              "                    <source src=\"data:audio/x-wav;base64,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\" type=\"audio/x-wav\" />\n",
              "                    Your browser does not support the audio element.\n",
              "                </audio>\n",
              "              "
            ],
            "text/plain": [
              "<IPython.lib.display.Audio object>"
            ]
          },
          "metadata": {},
          "output_type": "display_data"
        },
        {
          "name": "stdout",
          "output_type": "stream",
          "text": [
            "Label: nine\n"
          ]
        },
        {
          "data": {
            "text/html": [
              "\n",
              "                <audio  controls=\"controls\" >\n",
              "                    <source src=\"data:audio/x-wav;base64,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\" type=\"audio/x-wav\" />\n",
              "                    Your browser does not support the audio element.\n",
              "                </audio>\n",
              "              "
            ],
            "text/plain": [
              "<IPython.lib.display.Audio object>"
            ]
          },
          "metadata": {},
          "output_type": "display_data"
        },
        {
          "name": "stdout",
          "output_type": "stream",
          "text": [
            "Label: no\n"
          ]
        },
        {
          "data": {
            "text/html": [
              "\n",
              "                <audio  controls=\"controls\" >\n",
              "                    <source src=\"data:audio/x-wav;base64,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\" type=\"audio/x-wav\" />\n",
              "                    Your browser does not support the audio element.\n",
              "                </audio>\n",
              "              "
            ],
            "text/plain": [
              "<IPython.lib.display.Audio object>"
            ]
          },
          "metadata": {},
          "output_type": "display_data"
        },
        {
          "name": "stdout",
          "output_type": "stream",
          "text": [
            "Label: bed\n"
          ]
        },
        {
          "data": {
            "text/html": [
              "\n",
              "                <audio  controls=\"controls\" >\n",
              "                    <source src=\"data:audio/x-wav;base64,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\" type=\"audio/x-wav\" />\n",
              "                    Your browser does not support the audio element.\n",
              "                </audio>\n",
              "              "
            ],
            "text/plain": [
              "<IPython.lib.display.Audio object>"
            ]
          },
          "metadata": {},
          "output_type": "display_data"
        }
      ],
      "source": [
        "import random\n",
        "import IPython.display as ipd\n",
        "\n",
        "# Sample 7 files randomly\n",
        "sample_files = df.sample(7)\n",
        "\n",
        "# Iterate through the sampled files\n",
        "for _, row in sample_files.iterrows():\n",
        "    file_path = row['file_path']\n",
        "    label = row['label']\n",
        "\n",
        "    # Print the label\n",
        "    print(\"Label:\", label)\n",
        "\n",
        "    # Play the audio file\n",
        "    audio = ipd.Audio(file_path)\n",
        "    display(audio)\n"
      ]
    },
    {
      "cell_type": "code",
      "execution_count": null,
      "metadata": {
        "colab": {
          "base_uri": "https://localhost:8080/"
        },
        "id": "iGVonXYgykiO",
        "outputId": "657c4e55-c7c0-411e-8370-594ddbb3cea6"
      },
      "outputs": [
        {
          "name": "stdout",
          "output_type": "stream",
          "text": [
            "missing data check:\n",
            "\n"
          ]
        },
        {
          "data": {
            "text/plain": [
              "file_path     False\n",
              "label         False\n",
              "speaker_id    False\n",
              "sample_id     False\n",
              "dtype: bool"
            ]
          },
          "execution_count": 12,
          "metadata": {},
          "output_type": "execute_result"
        }
      ],
      "source": [
        "print(\"missing data check:\\n\")\n",
        "df.isna().any()"
      ]
    },
    {
      "cell_type": "code",
      "execution_count": null,
      "metadata": {
        "colab": {
          "base_uri": "https://localhost:8080/"
        },
        "id": "JYBNNzeyzOdc",
        "outputId": "8e11443f-fd49-4fb3-db0e-be9acc89d30e"
      },
      "outputs": [
        {
          "name": "stdout",
          "output_type": "stream",
          "text": [
            "features: file_path, label, speaker_id, sample_id\n"
          ]
        }
      ],
      "source": [
        "print(\"features:\", ', '.join(df.columns))"
      ]
    },
    {
      "cell_type": "code",
      "execution_count": null,
      "metadata": {
        "colab": {
          "base_uri": "https://localhost:8080/",
          "height": 1000
        },
        "id": "1hMiPg1V9Nu8",
        "outputId": "c84129bd-0f4c-4bb3-b8a0-0ab280a6d30c"
      },
      "outputs": [
        {
          "data": {
            "image/png": "[encoded data removed]",
            "text/plain": [
              "<Figure size 640x480 with 1 Axes>"
            ]
          },
          "metadata": {},
          "output_type": "display_data"
        },
        {
          "data": {
            "image/png": "[encoded data removed]",
            "text/plain": [
              "<Figure size 640x480 with 1 Axes>"
            ]
          },
          "metadata": {},
          "output_type": "display_data"
        }
      ],
      "source": [
        "import matplotlib.pyplot as plt\n",
        "import seaborn as sns\n",
        "\n",
        "\n",
        "total_speakers = df.speaker_id.nunique()\n",
        "total_samples = df.shape[0]\n",
        "\n",
        "labels = []\n",
        "speaker_ratio_per_label = []\n",
        "samples_ratio_per_label = []\n",
        "\n",
        "\n",
        "for i, label in enumerate(df.label.unique()):\n",
        "  labels.append(label)\n",
        "  speaker_ratio_per_label.append(df.speaker_id[df.label==label].nunique() / total_speakers)\n",
        "  samples_ratio_per_label.append(df[df.label==label].shape[0] / total_samples)\n",
        "\n",
        "\n",
        "\n",
        "sns.barplot(x=labels, y=speaker_ratio_per_label, fill=True)\n",
        "plt.xlabel(\"Labels\")\n",
        "plt.ylabel(\"Proportion\")\n",
        "plt.xticks(rotation=90)\n",
        "plt.title(f\"The proportion of unique speakers for each label, out of a total of {total_speakers} unique speakers\")\n",
        "plt.show()\n",
        "\n",
        "sns.barplot(x=labels, y=samples_ratio_per_label, fill=True)\n",
        "plt.xlabel(\"Labels\")\n",
        "plt.ylabel(\"Proportion\")\n",
        "plt.xticks(rotation=90)\n",
        "plt.title(f\"The proportion of number of samples for each label, out of a total of {total_samples} samples\")\n",
        "plt.show()"
      ]
    },
    {
      "cell_type": "markdown",
      "metadata": {
        "id": "4Lnc0fi7Ea9e"
      },
      "source": [
        "# Embed the background sounds"
      ]
    },
    {
      "cell_type": "markdown",
      "metadata": {
        "id": "1o-PzXkbez8H"
      },
      "source": [
        "The following code block performs the following steps:\n",
        "\n",
        "1. Creates a new directory named \"audio_with_background\" to store files with added background noise.\n",
        "2. Iterates through each row in the DataFrame.\n",
        "3. Copies the original file to a new file path in the \"audio_with_background\" directory, using a new file name with the label as a prefix.\n",
        "4. Checks if the file already exists in the directory before proceeding.\n",
        "5. If the label is not 'background', selects a random background sound file from the provided directory.\n",
        "6. Reads the original file and the background sound file to obtain sample rates and durations.\n",
        "7. Adjusts the length of the background sound to match the length of the original file by sampling a part or duplicating it.\n",
        "8. Adds the adjusted background sound to the original file.\n",
        "9. Writes the new data to the new file path with added background noise.\n",
        "10. Updates the DataFrame with the new file path containing the added background noise."
      ]
    },
    {
      "cell_type": "code",
      "execution_count": null,
      "metadata": {
        "id": "4PzRjo9Tcqp_"
      },
      "outputs": [],
      "source": [
        "import os\n",
        "import random\n",
        "import shutil\n",
        "import soundfile as sf\n",
        "import numpy as np\n",
        "\n",
        "# Create the new directory \"audio_with_background\"\n",
        "new_directory = r\"/content/drive/MyDrive/ITC_final_project/Data/train/audio_with_background\"\n",
        "os.makedirs(new_directory, exist_ok=True)\n",
        "\n",
        "background_sounds_dir = r\"/content/drive/MyDrive/ITC_final_project/Data/train/audio/_background_noise_\"\n",
        "\n",
        "# List of existing files\n",
        "existing_files = np.array([filename.split(\"_\", 1)[1] for filename in os.listdir(new_directory) if filename.endswith(\".wav\")])\n",
        "\n",
        "# add file_path basename feature to df dataframe\n",
        "df['basename'] = df['file_path'].apply(lambda x: os.path.basename(x))\n",
        "\n",
        "\n",
        "# Iterate through each row in the DataFrame\n",
        "for index, row in df[~df['basename'].isin(existing_files)].iterrows():\n",
        "    file_path = row['file_path']\n",
        "    label = row['label']\n",
        "\n",
        "    # Generate the new file name with the label as a prefix\n",
        "    file_name = row['basename']\n",
        "    new_file_name = f\"{label}_{file_name}\"\n",
        "\n",
        "    # Specify the new file path in the \"audio_with_background\" directory\n",
        "    new_file_path = os.path.join(new_directory, new_file_name)\n",
        "\n",
        "    # Check if the file already exists in the directory\n",
        "    if new_file_name not in existing_files:\n",
        "        np.append(existing_files, new_file_name)\n",
        "\n",
        "        # Copy the original file to the new file path\n",
        "        shutil.copyfile(file_path, new_file_path)\n",
        "\n",
        "        if label != 'background':\n",
        "            # Select a random background sound\n",
        "            background_sound = random.choice([sound for sound in os.listdir(background_sounds_dir) if sound.endswith('.wav')])\n",
        "\n",
        "            background_sound_path = os.path.join(background_sounds_dir, background_sound)\n",
        "\n",
        "            # Read the original file to get the sample rate and duration\n",
        "            original_data, original_samplerate = sf.read(file_path)\n",
        "\n",
        "            # Read the background sound file\n",
        "            background_data, background_samplerate = sf.read(background_sound_path)\n",
        "\n",
        "            # Adjust the length of the background sound to match the length of the original file\n",
        "            if len(background_data) >= len(original_data):\n",
        "                # If the background sound is longer or equal, sample a part to match the length\n",
        "                max_start_pos = len(background_data) - len(original_data)\n",
        "                start_pos = random.randint(0, max_start_pos)\n",
        "                background_data = background_data[start_pos: start_pos + len(original_data)]\n",
        "            else:\n",
        "                # If the background sound is shorter, duplicate it to match the length\n",
        "                num_repeats = len(original_data) // len(background_data)\n",
        "                background_data = np.tile(background_data, num_repeats + 1)\n",
        "                background_data = background_data[:len(original_data)]\n",
        "\n",
        "            # Add the background sound to the new file\n",
        "            new_data = original_data + background_data\n",
        "\n",
        "            # Write the new data to the new file path\n",
        "            sf.write(new_file_path, new_data, original_samplerate)\n",
        "\n",
        "        # Add the new file path with added background noise to the DataFrame\n",
        "        df.at[index, 'with_background_file_path'] = new_file_path\n"
      ]
    },
    {
      "cell_type": "code",
      "execution_count": null,
      "metadata": {
        "id": "TjqznKQgUgcO"
      },
      "outputs": [],
      "source": [
        "# make sure the number of the embeded files is equal to the number of rows in df\n",
        "assert existing_files.shape[0] == df.shape[0]"
      ]
    },
    {
      "cell_type": "markdown",
      "metadata": {
        "id": "doc9JvmD55hQ"
      },
      "source": [
        "# split to train validation and test set"
      ]
    },
    {
      "cell_type": "markdown",
      "metadata": {
        "id": "XBJIA7AZFJJK"
      },
      "source": [
        "Here is a breakdown of the steps performed by the code:\n",
        "\n",
        "1. Define the categories for the labels. Two sets of categories are defined: one for \"kaggle categories\" and one for \"DreamTeam categories.\" The chosen set of categories is used for further processing.\n",
        "\n",
        "2. Define the number of files to load (`FILES_TO_LOAD`), which determines how many audio files will be processed.\n",
        "\n",
        "3. Define the proportions of the train, validation, and test sets (`train_proportion`, `val_proportion`), which specify the distribution of the files among these sets.\n",
        "\n",
        "4. Define the input directory path where the `.wav` files are located (`input_directory`).\n",
        "\n",
        "5. Mount Google Drive to access files from Google Colab.\n",
        "\n",
        "6. Create empty lists to store the audio file paths, labels, and user IDs.\n",
        "\n",
        "7. Assign labels and user IDs to each audio file by iterating over the files in the input directory. Only files ending with `.wav` are considered.\n",
        "\n",
        "8. Convert the lists of file paths, labels, and user IDs into numpy arrays for faster processing.\n",
        "\n",
        "9. Get the indices where labels are present in the defined categories.\n",
        "\n",
        "10. Calculate the average number of rows per unique label in the defined categories.\n",
        "\n",
        "11. Identify labels that are not present in the defined categories.\n",
        "\n",
        "12. Generate a balanced domain by randomly sampling from each label, considering the average number of rows per label and the remaining rows.\n",
        "\n",
        "13. Randomly choose a subset of files (`FILES_TO_LOAD`) from the balanced domain obtained in the previous step.\n",
        "\n",
        "14. Retrieve the file paths, labels, and user IDs for the selected samples.\n",
        "\n",
        "15. Calculate the count of files per user ID.\n",
        "\n",
        "16. Allocate files to the train, validation, and test sets based on the user IDs, considering the specified proportions.\n",
        "\n",
        "17. Shuffle the indices of the train, validation, and test sets.\n",
        "\n",
        "18. Create pandas DataFrames for the train, validation, and test data using the shuffled indices.\n",
        "\n",
        "19. Print the shape (number of rows and columns) of each dataset (train, validation, and test).\n",
        "\n"
      ]
    },
    {
      "cell_type": "code",
      "source": [
        "\"\"\"\n",
        "This code serves as an additional step to the data splitting code.\n",
        "Its objective is to create a list of missing_files, which represents the files\n",
        "that have not yet been preprocessed. Over time, as we gradually preprocess all\n",
        "the files and store them in Drive, the missing_files list helps us keep track of\n",
        "the remaining files to be processed. This list is then passed on to the next\n",
        "code, where it is used to create the domain of files available for selection,\n",
        "specifically for those files that have not been preprocessed yet.\n",
        "\"\"\"\n",
        "\n",
        "import pickle\n",
        "import numpy as np\n",
        "import os\n",
        "\n",
        "\n",
        "from google.colab import drive\n",
        "drive.mount('/content/drive')\n",
        "\n",
        "\n",
        "folder_path = r'/content/drive/MyDrive/ITC_final_project/Pickle/Preprocessed data/ready_data_sets/'\n",
        "\n",
        "\n",
        "train_file_path = folder_path + 'train_file_paths.pickle'\n",
        "val_file_path = folder_path + 'val_file_paths.pickle'\n",
        "test_file_path = folder_path + 'test_file_paths.pickle'\n",
        "\n",
        "\n",
        "\n",
        "with open(train_file_path, 'rb') as file:\n",
        "    X_train_file_path = pickle.load(file)\n",
        "\n",
        "with open(val_file_path, 'rb') as file:\n",
        "    X_val_file_path = pickle.load(file)\n",
        "\n",
        "with open(test_file_path, 'rb') as file:\n",
        "    X_test_file_path = pickle.load(file)\n",
        "\n",
        "\n",
        "preprocessed_files = np.concatenate((X_train_file_path, X_val_file_path, X_test_file_path), axis=0)\n",
        "\n",
        "# Define the input directory path where the .wav files are located\n",
        "input_directory = \"/content/drive/MyDrive/ITC_final_project/Data/train/audio_with_background\"\n",
        "pickle_file_path = os.path.join(input_directory, \"existing_files.pickle\")\n",
        "with open(pickle_file_path, 'rb') as file:\n",
        "    existing_files = pickle.load(file)\n",
        "\n",
        "existing_files = np.array([os.path.join(input_directory, file) for file in os.listdir(input_directory) if file.endswith(\".wav\")])\n",
        "\n",
        "missing_files = np.setdiff1d(existing_files, preprocessed_files)\n",
        "\n",
        "\n",
        "print(\"remaining files to preprocess:\", missing_files.shape[0])\n"
      ],
      "metadata": {
        "colab": {
          "base_uri": "https://localhost:8080/"
        },
        "id": "XhDyUaQhERrn",
        "outputId": "9ee9817d-e519-47d0-cd08-971a09659f44"
      },
      "execution_count": null,
      "outputs": [
        {
          "output_type": "stream",
          "name": "stdout",
          "text": [
            "Drive already mounted at /content/drive; to attempt to forcibly remount, call drive.mount(\"/content/drive\", force_remount=True).\n",
            "remaining files to preprocess: 49907\n"
          ]
        }
      ]
    },
    {
      "cell_type": "code",
      "execution_count": null,
      "metadata": {
        "id": "bgII3mcVyAtW",
        "colab": {
          "base_uri": "https://localhost:8080/"
        },
        "outputId": "70c974b5-dde9-4295-a3e6-64ec2c1cd96c"
      },
      "outputs": [
        {
          "output_type": "stream",
          "name": "stdout",
          "text": [
            "Drive already mounted at /content/drive; to attempt to forcibly remount, call drive.mount(\"/content/drive\", force_remount=True).\n",
            "Train dataset shape: \t (12000, 2)\n",
            "Validation dataset shape:  (1500, 2)\n",
            "Test dataset shape: \t (1500, 2)\n"
          ]
        }
      ],
      "source": [
        "import os\n",
        "import random\n",
        "import pandas as pd\n",
        "import numpy as np\n",
        "from collections import Counter\n",
        "from google.colab import drive\n",
        "\n",
        "\n",
        "# # kaggle categories\n",
        "# CATEGORIES = ['yes', 'no', 'up', 'down', 'left', 'right', 'on', 'off', 'stop', 'go', 'silence', 'unknown']\n",
        "\n",
        "# DreamTeam categories\n",
        "CATEGORIES = ['yes', 'no', 'one', 'two', 'three', 'four', 'five', 'six', 'seven', 'eight', 'nine', 'up', 'down', 'unknown']\n",
        "\n",
        "# define how many files to load\n",
        "FILES_TO_LOAD = 15000\n",
        "\n",
        "# Define the proportions of train, validation (test sets = 1-(train_proportion + val_proportion))\n",
        "train_proportion = 0.8\n",
        "val_proportion = 0.1\n",
        "\n",
        "# Define the input directory path where the .wav files are located\n",
        "input_directory = \"/content/drive/MyDrive/ITC_final_project/Data/train/audio_with_background\"\n",
        "\n",
        "\n",
        "\n",
        "\"\"\"\n",
        "The objective of this section is to establish a balanced domain where each\n",
        "unique label from the CATEGORIES list has an equal probability of being selected.\n",
        "\n",
        "Categories that are not found in the CATEGORIES list are considered 'unknown' labels.\n",
        "This ensures that every category, including 'unknown', contributes proportionately\n",
        "to the sample count within the domain.\n",
        "\n",
        "The number of 'unknown' label samples is adjusted to align with the average number\n",
        "of samples per category within the CATEGORIES list. Each category that is not\n",
        "included in the CATEGORIES list has the same ratio within the 'unknown' label samples.\n",
        "\"\"\"\n",
        "\n",
        "# Mount Google Drive\n",
        "drive.mount('/content/drive')\n",
        "\n",
        "# Create lists to store the audio file paths, labels, and user IDs\n",
        "file_paths = []\n",
        "labels = []\n",
        "user_ids = []\n",
        "\n",
        "# Assign user_id and category labels to all audio files\n",
        "# for file in os.listdir(input_directory):\n",
        "for path in missing_files:\n",
        "    file = os.path.basename(path)\n",
        "    if not file.endswith(\".wav\"):\n",
        "        continue\n",
        "    file_path = os.path.join(input_directory, file)\n",
        "\n",
        "    file_paths.append(file_path)\n",
        "    labels.append(file.split(\"_\")[0])\n",
        "    user_ids.append(file.split(\"_\")[1])\n",
        "\n",
        "\n",
        "# convert list to arrays for fast results\n",
        "file_paths = np.array(file_paths)\n",
        "labels = np.array(labels)\n",
        "user_ids = np.array(user_ids)\n",
        "\n",
        "# Get the indices where labels are present in CATEGORIES\n",
        "indices_in_categories = np.where(np.isin(labels, CATEGORIES))[0]\n",
        "\n",
        "# Calculate the average number of rows per unique label in CATEGORIES\n",
        "average_rows_per_label = len(indices_in_categories) / len(np.intersect1d(np.unique(labels), CATEGORIES))\n",
        "\n",
        "labels_not_in_categories = np.setdiff1d(np.unique(labels), CATEGORIES)\n",
        "\n",
        "# calculate the indices of the sample domain\n",
        "domain_indices = indices_in_categories\n",
        "remaining_rows = average_rows_per_label\n",
        "for i, label in enumerate(iterable=labels_not_in_categories):\n",
        "    average_per_remain_categories = int(remaining_rows/(len(labels_not_in_categories) - i))\n",
        "    label_indices = np.where(labels == label)[0]\n",
        "    samples_qty = min(len(label_indices), average_per_remain_categories)\n",
        "    remaining_rows -= samples_qty\n",
        "    domain_indices = np.append(domain_indices, np.random.choice(label_indices, samples_qty, replace=False))\n",
        "\n",
        "\n",
        "\n",
        "\n",
        "\"\"\"\n",
        "This section randomly selects samples and distributes them across the training, validation, and test sets based on the user_id.\n",
        "\"\"\"\n",
        "\n",
        "# Randomly choose 'FILES_TO_LOAD' files\n",
        "FILES_TO_LOAD = min(FILES_TO_LOAD, len(domain_indices))\n",
        "samples_indices = np.random.choice(domain_indices, FILES_TO_LOAD, replace=False)\n",
        "\n",
        "\n",
        "# convert list to arrays for fast results\n",
        "file_paths_samples = file_paths[samples_indices]\n",
        "labels = labels[samples_indices]\n",
        "user_ids = user_ids[samples_indices]\n",
        "\n",
        "# # Change labels that are not in CATEGORIES to 'unknown'\n",
        "# labels = np.where(np.isin(labels, labels_not_in_categories), 'unknown', labels)\n",
        "\n",
        "\n",
        "# allocate user_id to each set\n",
        "files_per_user_dict = Counter(user_ids)\n",
        "files_user_tuples = list(zip(files_per_user_dict.values(), files_per_user_dict.keys()))\n",
        "\n",
        "train_indices = []\n",
        "val_indices = []\n",
        "test_indices = []\n",
        "train_qty , val_qty = 0, 0\n",
        "\n",
        "for qty, user in sorted(files_user_tuples, key=lambda x: x[0], reverse=True):\n",
        "  if train_qty + qty <= int(train_proportion * FILES_TO_LOAD):\n",
        "    train_indices.extend(np.where(user_ids == user)[0].tolist())\n",
        "    train_qty += qty\n",
        "  elif val_qty + qty <= int(val_proportion * FILES_TO_LOAD):\n",
        "    val_indices.extend(np.where(user_ids == user)[0].tolist())\n",
        "    val_qty += qty\n",
        "  else:\n",
        "    test_indices.extend(np.where(user_ids == user)[0].tolist())\n",
        "\n",
        "\n",
        "import numpy as np\n",
        "\n",
        "# Shuffle the indices\n",
        "np.random.shuffle(train_indices)\n",
        "np.random.shuffle(val_indices)\n",
        "np.random.shuffle(test_indices)\n",
        "\n",
        "\n",
        "# creating train , validation and test data frames\n",
        "train_data = pd.DataFrame({'file_paths': file_paths[train_indices], 'labels': labels[train_indices]})\n",
        "val_data = pd.DataFrame({'file_paths': file_paths[val_indices], 'labels': labels[val_indices]})\n",
        "test_data = pd.DataFrame({'file_paths': file_paths[test_indices], 'labels': labels[test_indices]})\n",
        "\n",
        "# Print the shape of each dataset\n",
        "print(\"Train dataset shape: \\t\", train_data.shape)\n",
        "print(\"Validation dataset shape: \", val_data.shape)\n",
        "print(\"Test dataset shape: \\t\", test_data.shape)"
      ]
    },
    {
      "cell_type": "code",
      "execution_count": null,
      "metadata": {
        "id": "tyXa207DpLLH"
      },
      "outputs": [],
      "source": []
    },
    {
      "cell_type": "markdown",
      "metadata": {
        "id": "5zibyShcOpXG"
      },
      "source": [
        "# Labels preprocessing: one_hot pipeline\n",
        "\n",
        "\n",
        "the OneHotEncoder is used for neural network-based deep learning models. It converts each class label into a binary vector representation, where each class corresponds to a unique combination of zeros and ones. This encoding ensures that the neural network treats each class independently and avoids any assumptions about the numerical relationship between the labels."
      ]
    },
    {
      "cell_type": "markdown",
      "metadata": {
        "id": "Lei-hDD7C2D1"
      },
      "source": [
        "The code performs the following steps:\n",
        "\n",
        "1. Define a custom transformer class called `OneHotLabelEncoder` that inherits from `BaseEstimator` and `TransformerMixin`. This class is responsible for performing one-hot encoding on categorical labels. It has methods for fitting, transforming, and inverse transforming the labels.\n",
        "\n",
        "2. Inside the `OneHotLabelEncoder` class, define the constructor (`__init__` method) which initializes the object. It takes a parameter called `categories`, which is a list of categories for the labels. It also initializes other attributes such as `unknown_label`, `categories`, `fit_bool`, `label_encoder`, and `onehot_encoder`.\n",
        "\n",
        "3. Implement the `fit` method inside the `OneHotLabelEncoder` class. This method is used to fit the one-hot encoder on the label categories. It takes `X` and `y` as inputs (although `y` is not used in this case), and performs the following steps:\n",
        "   - Encode the label categories using `LabelEncoder` and reshape the encoded labels.\n",
        "   - Fit the one-hot encoder on the reshaped encoded labels.\n",
        "   - Return the fitted transformer object (`self`).\n",
        "\n",
        "4. Implement the `transform` method inside the `OneHotLabelEncoder` class. This method is used to transform the labels into one-hot encoded representations. It takes `labels` as an input and performs the following steps:\n",
        "   - Check if the `fit` method has been called by verifying the `fit_bool` attribute. If not, raise a `TypeError`.\n",
        "   - Convert the labels into a numpy array.\n",
        "   - Replace any labels not present in the categories with the `unknown_label`.\n",
        "   - Encode the labels using the `label_encoder` and reshape the encoded labels.\n",
        "   - Apply the one-hot encoder on the reshaped encoded labels and convert the result to a numpy array.\n",
        "\n",
        "5. Implement the `inverse_transform` method inside the `OneHotLabelEncoder` class. This method is used to inverse transform the one-hot encoded labels back to their original categorical form. It takes `encoded_labels` as an input and performs the following steps:\n",
        "   - Check if the `fit` method has been called by verifying the `fit_bool` attribute. If not, raise a `TypeError`.\n",
        "   - Inverse transform the one-hot encoded labels using the `onehot_encoder`.\n",
        "   - Inverse transform the label encodings using the `label_encoder` and flatten the result.\n",
        "\n",
        "6. Define the pipeline (`one_hot_pipeline`) using the `Pipeline` class from `sklearn.pipeline`. The pipeline consists of a single step with a `'label_encoder'` name and an instance of the `OneHotLabelEncoder` class. The `CATEGORIES` variable (which should be defined somewhere in the code) is passed as the `categories` parameter to the `OneHotLabelEncoder` instance."
      ]
    },
    {
      "cell_type": "code",
      "execution_count": null,
      "metadata": {
        "id": "7B6Qsl-Ov-xX"
      },
      "outputs": [],
      "source": [
        "import numpy as np\n",
        "import tensorflow as tf\n",
        "from sklearn.preprocessing import LabelEncoder, OneHotEncoder\n",
        "from sklearn.pipeline import Pipeline\n",
        "from sklearn.base import BaseEstimator, TransformerMixin\n",
        "\n",
        "\n",
        "class OneHotLabelEncoder(BaseEstimator, TransformerMixin):\n",
        "    def __init__(self, categories):\n",
        "        self.unknown_label = 'unknown'\n",
        "        self.categories = np.array(list(set(categories)))\n",
        "        if self.unknown_label not in self.categories:\n",
        "            self.categories = np.append(self.categories, self.unknown_label)\n",
        "        self.fit_bool = False\n",
        "        self.label_encoder = LabelEncoder()\n",
        "        self.onehot_encoder = OneHotEncoder()\n",
        "\n",
        "    def fit(self, X, y=None):\n",
        "        self.fit_bool = True\n",
        "        label_encoded = self.label_encoder.fit_transform(self.categories)\n",
        "        label_encoded = label_encoded.reshape(-1, 1)\n",
        "        self.onehot_encoder.fit(label_encoded)\n",
        "        return self\n",
        "\n",
        "    def transform(self, labels):\n",
        "        if not self.fit_bool:\n",
        "            raise TypeError('Error: you need to fit before applying transform!')\n",
        "        labels = np.array(labels)\n",
        "        labels = np.where(np.isin(labels, self.categories), labels, self.unknown_label)\n",
        "        label_encoded = self.label_encoder.transform(labels)\n",
        "        label_encoded = label_encoded.reshape(-1, 1)\n",
        "        return self.onehot_encoder.transform(label_encoded).toarray()\n",
        "\n",
        "    def inverse_transform(self, encoded_labels):\n",
        "        if not self.fit_bool:\n",
        "            raise TypeError('Error: you need to fit before applying inverse_transform!')\n",
        "        label_encoded = self.onehot_encoder.inverse_transform(encoded_labels)\n",
        "        return self.label_encoder.inverse_transform(label_encoded).flatten()\n",
        "\n",
        "# DreamTeam categories\n",
        "CATEGORIES = ['yes', 'no', 'one', 'two', 'three', 'four', 'five', 'six', 'seven', 'eight', 'nine', 'up', 'down', 'unknown']\n",
        "\n",
        "\n",
        "# Create the pipeline\n",
        "one_hot_pipeline = Pipeline([\n",
        "    ('label_encoder', OneHotLabelEncoder(CATEGORIES))\n",
        "])\n"
      ]
    },
    {
      "cell_type": "markdown",
      "metadata": {
        "id": "OgEvOAAFOPtr"
      },
      "source": [
        "# Audio files preprocessing\n",
        "\n",
        "In the audio preprocessing step, we have applied two approaches: MFCC and Spectrogram.\n",
        "\n",
        "The MFCC (Mel-Frequency Cepstral Coefficients) approach involves extracting features from the audio data based on the Mel scale, which is a perceptual scale of pitches. This approach captures information about the frequency content and shape of the audio signal, making it useful for tasks like speech recognition. The MFCC algorithm calculates the cepstral coefficients that represent the power spectrum of the audio signal.\n",
        "\n",
        "The Spectrogram approach involves transforming the audio data into a visual representation that shows how the frequency content of the signal changes over time. It provides a detailed view of the audio signal's frequency components at different time intervals. Spectrograms are commonly used in tasks such as audio classification, music analysis, and sound visualization.\n",
        "\n",
        "By using both the MFCC and Spectrogram approaches, we can extract relevant features from the audio data that capture different aspects of the audio signal, enabling us to train machine learning models for various audio-related tasks."
      ]
    },
    {
      "cell_type": "markdown",
      "metadata": {
        "id": "JEtlZrTYG5ke"
      },
      "source": [
        "## option 1: MFCC (Mel-Frequency Cepstral Coefficients)"
      ]
    },
    {
      "cell_type": "markdown",
      "metadata": {
        "id": "6zNqd3wAleKY"
      },
      "source": [
        "The code performs the following steps:\n",
        "\n",
        "1. Define the target sample rate for the audio data and the number of MFCC coefficients to extract.\n",
        "\n",
        "2. Create a custom transformer class called `AudioPreprocessor` that preprocesses the audio data by normalizing it between -1 and 1 and computing MFCCs.\n",
        "\n",
        "3. Create a pipeline called `normalize_and_mfcc_pipeline` that applies the `AudioPreprocessor` transformer.\n",
        "\n",
        "4. Create a pipeline called `one_hot_pipeline` that performs one-hot encoding using `OneHotEncoder`.\n",
        "\n",
        "5. Convert file paths and labels to lists.\n",
        "\n",
        "6. Fit and transform the training data using `normalize_and_mfcc_pipeline` and `one_hot_pipeline`, and store the preprocessed data and MFCCs in `X_train_preprocessed` and `X_train_mfccs`, respectively.\n",
        "\n",
        "7. Transform the validation data using `normalize_and_mfcc_pipeline` and `one_hot_pipeline`, and store the preprocessed data and MFCCs in `X_val_preprocessed` and `X_val_mfccs`, respectively.\n",
        "\n",
        "8. Transform the test data using `normalize_and_mfcc_pipeline` and `one_hot_pipeline`, and store the preprocessed data and MFCCs in `X_test_preprocessed` and `X_test_mfccs`, respectively.\n",
        "\n",
        "**Note:** In the `AudioPreprocessor` transformer, the `transform` method initializes `preprocessed_data` and `mfccs` as numpy arrays with zeros. `preprocessed_data` has a shape of `(len(X), target_sample_rate)`, representing the preprocessed audio data, where `len(X)` is the number of samples and `target_sample_rate` is the desired length of each audio sample.\n",
        "\n",
        "`mfccs` has a shape of `(len(X), num_mfcc, target_sample_rate // 512 + 1)`, representing the MFCCs. The dimension `len(X)` corresponds to the number of samples, `num_mfcc` represents the number of MFCC coefficients to extract, and `target_sample_rate // 512 + 1` determines the number of time frames for the MFCCs, assuming a hop length of 512 samples (i.e., the length of the FFT window used in the MFCC computation) and adding 1 accounts for an extra frame due to rounding considerations. This calculation ensures that the number of time frames matches the resolution of the audio data.\n"
      ]
    },
    {
      "cell_type": "code",
      "execution_count": null,
      "metadata": {
        "id": "gddeEDuJTPNY"
      },
      "outputs": [],
      "source": [
        "import os\n",
        "import librosa\n",
        "import numpy as np\n",
        "from sklearn.base import BaseEstimator, TransformerMixin\n",
        "from sklearn.pipeline import Pipeline\n",
        "from sklearn.compose import ColumnTransformer\n",
        "from sklearn.preprocessing import FunctionTransformer\n",
        "\n",
        "\n",
        "# Define the target sample rate for the audio data\n",
        "target_sample_rate = 16000\n",
        "\n",
        "# Define the number of MFCC coefficients to extract\n",
        "num_mfcc = 13\n",
        "\n",
        "# Custom transformer to preprocess the audio data\n",
        "class AudioPreprocessor(BaseEstimator, TransformerMixin):\n",
        "    def __init__(self):\n",
        "        pass\n",
        "\n",
        "    def fit(self, X, y=None):\n",
        "        return self\n",
        "\n",
        "    def transform(self, X):\n",
        "        # Initialize arrays to store preprocessed audio data\n",
        "        preprocessed_data = np.zeros((len(X), target_sample_rate))\n",
        "        mfccs = np.zeros((len(X), num_mfcc, target_sample_rate // 512 + 1))\n",
        "\n",
        "        # Process each file path in X\n",
        "        for i, file_path in enumerate(X):\n",
        "            # Check if the file exists\n",
        "            if os.path.isfile(file_path):\n",
        "                try:\n",
        "                    # Load audio data and resample to target sample rate\n",
        "                    audio_data, _ = librosa.load(file_path, sr=target_sample_rate)\n",
        "                    audio_data /= np.max(np.abs(audio_data))\n",
        "\n",
        "                    # Ensure audio data length matches the target sample rate\n",
        "                    if len(audio_data) > target_sample_rate:\n",
        "                        audio_data = audio_data[:target_sample_rate]\n",
        "                    else:\n",
        "                        audio_data = np.pad(audio_data, (0, target_sample_rate - len(audio_data)), \"constant\")\n",
        "\n",
        "                    # Extract MFCC features\n",
        "                    mfcc = librosa.feature.mfcc(y=audio_data, sr=target_sample_rate, n_mfcc=num_mfcc)\n",
        "\n",
        "                    # Store preprocessed audio data and MFCC features\n",
        "                    preprocessed_data[i] = audio_data\n",
        "                    mfccs[i, :, :mfcc.shape[1]] = mfcc\n",
        "\n",
        "                except Exception as e:\n",
        "                    # Handle any exceptions when processing the file\n",
        "                    print(f\"Error processing file '{file_path}': {str(e)}\")\n",
        "                    preprocessed_data[i] = np.nan\n",
        "                    mfccs[i] = np.nan\n",
        "\n",
        "            else:\n",
        "                # Assign NaN values for files that do not exist\n",
        "                preprocessed_data[i] = np.nan\n",
        "                mfccs[i] = np.nan\n",
        "\n",
        "        return mfccs\n",
        "\n",
        "\n",
        "# Create the pipeline for audio preprocessing\n",
        "normalize_and_mfcc_pipeline = Pipeline([\n",
        "    ('preprocessor', AudioPreprocessor())\n",
        "])\n",
        "\n",
        "\n"
      ]
    },
    {
      "cell_type": "markdown",
      "metadata": {
        "id": "CGrRDsdDHRPN"
      },
      "source": [
        "## option 2: Spectogram"
      ]
    },
    {
      "cell_type": "markdown",
      "metadata": {
        "id": "j8mECTz6ODKk"
      },
      "source": [
        "The following code performs the following steps:\n",
        "\n",
        "1. Define a custom transformer class `AudioPreprocessor` that preprocesses audio data by normalizing it between -1 and 1 and calculating spectrograms using the Short-Time Fourier Transform (STFT).\n",
        "2. The `transform` method of the `AudioPreprocessor` class iterates over each file path in the input `X` and performs the following:\n",
        "   - Loads the audio data using librosa.\n",
        "   - Normalizes the audio data.\n",
        "   - Calculates the spectrogram using the STFT.\n",
        "   - Appends the preprocessed audio data and spectrogram to separate lists.\n",
        "   - Truncates or pads the spectrogram to have a consistent length of `max_length`.\n",
        "3. After iterating over all file paths, the lists of preprocessed data and spectrograms are converted to numpy arrays (`preprocessed_data` with dtype `object` and `spectrograms` with default dtype).\n",
        "4. Create a pipeline `normalize_and_spectrogram_pipeline` that applies the `AudioPreprocessor` for audio preprocessing.\n",
        "5. Create another pipeline `one_hot_pipeline` for one-hot encoding the labels.\n",
        "6. Convert the file paths and labels to lists.\n",
        "7. Fit and transform the training data using the `normalize_and_spectrogram_pipeline` and one-hot encode the labels.\n",
        "8. Transform the validation and test data using the `normalize_and_spectrogram_pipeline` and one-hot encode the labels.\n",
        "9. Print the shapes of the preprocessed data and spectrograms for the training, validation, and test sets.\n",
        "10. The use of `pad_sequences` from `keras.preprocessing.sequence` to ensure a consistent shape for the spectrograms.\n"
      ]
    },
    {
      "cell_type": "code",
      "execution_count": null,
      "metadata": {
        "id": "QyhqDX-CKuDm"
      },
      "outputs": [],
      "source": [
        "from tensorflow.keras.preprocessing.sequence import pad_sequences\n",
        "\n",
        "# Custom transformer to preprocess the audio data\n",
        "class AudioPreprocessor(BaseEstimator, TransformerMixin):\n",
        "    def __init__(self, n_fft=2048, hop_length=512, max_length=32):\n",
        "        self.n_fft = n_fft\n",
        "        self.hop_length = hop_length\n",
        "        self.max_length = max_length\n",
        "\n",
        "    def fit(self, X, y=None):\n",
        "        return self\n",
        "\n",
        "    def transform(self, X):\n",
        "        preprocessed_data = []  # Use Python list for varying lengths\n",
        "        spectrograms = []\n",
        "\n",
        "        for file_path in X:\n",
        "            # file_path = file_path.decode()  # Convert bytes to string\n",
        "            # Load the audio data using librosa\n",
        "            audio_data, _ = librosa.load(file_path, sr=None)\n",
        "\n",
        "            # Normalize the audio data between -1 and 1\n",
        "            audio_data /= np.max(np.abs(audio_data))\n",
        "\n",
        "            # Calculate spectrogram from the audio data\n",
        "            spectrogram = np.abs(librosa.stft(audio_data, n_fft=self.n_fft, hop_length=self.hop_length))\n",
        "\n",
        "            preprocessed_data.append(audio_data)\n",
        "\n",
        "            # Truncate or pad the spectrogram to have a consistent length\n",
        "            if spectrogram.shape[1] > self.max_length:\n",
        "                spectrogram = spectrogram[:, :self.max_length]\n",
        "            else:\n",
        "                pad_width = self.max_length - spectrogram.shape[1]\n",
        "                spectrogram = np.pad(spectrogram, ((0, 0), (0, pad_width)), mode='constant')\n",
        "\n",
        "            spectrograms.append(spectrogram)\n",
        "\n",
        "        preprocessed_data = np.array(preprocessed_data, dtype=object)  # Convert preprocessed_data to numpy array\n",
        "\n",
        "        spectrograms = np.array(spectrograms)  # Convert spectrograms to numpy array\n",
        "\n",
        "        print(\"Preprocessed data shape:\", preprocessed_data.shape)\n",
        "        print(\"spectrograms shape:\", spectrograms.shape, '\\n')\n",
        "\n",
        "\n",
        "        return preprocessed_data, spectrograms\n",
        "\n",
        "\n",
        "# Create the pipeline for audio preprocessing\n",
        "normalize_and_spectrogram_pipeline = Pipeline([\n",
        "    ('preprocessor', AudioPreprocessor())\n",
        "])\n",
        "\n",
        "\n",
        "\n"
      ]
    },
    {
      "cell_type": "code",
      "execution_count": null,
      "metadata": {
        "id": "ipMY4tDjPd8s"
      },
      "outputs": [],
      "source": [
        "# Fit and transform the data\n",
        "X_train_preprocessed, X_train_spectrogram = normalize_and_spectrogram_pipeline.fit_transform(train_data.loc[:7, 'file_paths'])\n",
        "X_val_preprocessed, X_val_spectrogram = normalize_and_spectrogram_pipeline.transform(val_data.loc[:7, 'file_paths'])\n",
        "X_test_preprocessed, X_test_spectrogram = normalize_and_spectrogram_pipeline.transform(test_data.loc[:7, 'file_paths'])\n"
      ]
    },
    {
      "cell_type": "markdown",
      "metadata": {
        "id": "SdbGktqSfj8_"
      },
      "source": [
        "# prepare data for training"
      ]
    },
    {
      "cell_type": "markdown",
      "source": [
        "## Preprocessing: MFCCs & spectrograms & save the arrays as pickled files into 'temp' folter"
      ],
      "metadata": {
        "id": "2UI5i6ttCEGw"
      }
    },
    {
      "cell_type": "code",
      "execution_count": null,
      "metadata": {
        "colab": {
          "base_uri": "https://localhost:8080/"
        },
        "id": "6ch731SjpP1S",
        "outputId": "4745c340-a7e0-44c8-d451-c98f9f5c4dca"
      },
      "outputs": [
        {
          "output_type": "execute_result",
          "data": {
            "text/plain": [
              "15000"
            ]
          },
          "metadata": {},
          "execution_count": 106
        }
      ],
      "source": [
        "train_data.shape[0] + val_data.shape[0] + test_data.shape[0]"
      ]
    },
    {
      "cell_type": "code",
      "execution_count": null,
      "metadata": {
        "id": "UaNbOlbpEwbi"
      },
      "outputs": [],
      "source": [
        "import pickle\n",
        "\n",
        "\n",
        "folder_path = r'/content/drive/MyDrive/ITC_final_project/Pickle/Preprocessed data/temp'\n",
        "\n",
        "\n",
        "# train set\n",
        "train_mfcc = normalize_and_mfcc_pipeline.fit_transform(train_data['file_paths'])\n",
        "train_spectrogram = normalize_and_spectrogram_pipeline.fit_transform(train_data['file_paths'])\n",
        "\n",
        "\n",
        "train_mfcc_path = folder_path + '/train_mfcc.pickle'\n",
        "train_spectrogram_path = folder_path + '/train_spectrogram.pickle'\n",
        "train_file_path = folder_path + '/train_file_paths.pickle'\n",
        "train_labels_path = folder_path + '/train_labels.pickle'\n",
        "\n",
        "with open(train_mfcc_path, 'wb') as file:\n",
        "    pickle.dump(train_mfcc, file)\n",
        "\n",
        "with open(train_spectrogram_path, 'wb') as file:\n",
        "    pickle.dump(train_spectrogram, file)\n",
        "\n",
        "with open(train_file_path, 'wb') as file:\n",
        "    pickle.dump(train_data['file_paths'], file)\n",
        "\n",
        "with open(train_labels_path, 'wb') as file:\n",
        "    pickle.dump(train_data['labels'], file)\n",
        "\n",
        "\n",
        "\n",
        "# val set\n",
        "val_mfcc = normalize_and_mfcc_pipeline.fit_transform(val_data['file_paths'])\n",
        "val_spectrogram = normalize_and_spectrogram_pipeline.fit_transform(val_data['file_paths'])\n",
        "\n",
        "val_mfcc_path = folder_path + '/val_mfcc.pickle'\n",
        "val_spectrogram_path = folder_path + '/val_spectrogram.pickle'\n",
        "val_file_path = folder_path + '/val_file_paths.pickle'\n",
        "val_labels_path = folder_path + '/val_labels.pickle'\n",
        "\n",
        "\n",
        "\n",
        "with open(val_mfcc_path, 'wb') as file:\n",
        "    pickle.dump(val_mfcc, file)\n",
        "\n",
        "with open(val_spectrogram_path, 'wb') as file:\n",
        "    pickle.dump(val_spectrogram, file)\n",
        "\n",
        "with open(val_file_path, 'wb') as file:\n",
        "    pickle.dump(val_data['file_paths'], file)\n",
        "\n",
        "with open(val_labels_path, 'wb') as file:\n",
        "    pickle.dump(val_data['labels'], file)\n",
        "\n",
        "\n",
        "# test set\n",
        "test_mfcc = normalize_and_mfcc_pipeline.fit_transform(test_data['file_paths'])\n",
        "test_spectrogram= normalize_and_spectrogram_pipeline.fit_transform(test_data['file_paths'])\n",
        "\n",
        "test_mfcc_path = folder_path + '/test_mfcc.pickle'\n",
        "test_spectrogram_path = folder_path + '/test_spectrogram.pickle'\n",
        "test_file_path = folder_path + '/test_file_paths.pickle'\n",
        "test_labels_path = folder_path + '/test_labels.pickle'\n",
        "\n",
        "with open(test_mfcc_path, 'wb') as file:\n",
        "    pickle.dump(test_mfcc, file)\n",
        "\n",
        "with open(test_spectrogram_path, 'wb') as file:\n",
        "    pickle.dump(test_spectrogram, file)\n",
        "\n",
        "with open(test_file_path, 'wb') as file:\n",
        "    pickle.dump(test_data['file_paths'], file)\n",
        "\n",
        "with open(test_labels_path, 'wb') as file:\n",
        "    pickle.dump(test_data['labels'], file)\n",
        "\n"
      ]
    },
    {
      "cell_type": "markdown",
      "source": [
        "## Merge the preprocessed data stored in the \"temp\" folder with the preprocessed data in the \"ready_data_sets\" folder."
      ],
      "metadata": {
        "id": "DDjsT24idK4b"
      }
    },
    {
      "cell_type": "code",
      "source": [
        "import pickle\n",
        "import numpy as np\n",
        "from google.colab import drive\n",
        "\n",
        "# Mount Google Drive\n",
        "drive.mount('/content/drive')\n",
        "\n",
        "# Define paths for ready data, temporary data, and concatenated data\n",
        "ready_data_path = r'/content/drive/MyDrive/ITC_final_project/Pickle/Preprocessed data/ready_data_sets/'\n",
        "temp_path = r'/content/drive/MyDrive/ITC_final_project/Pickle/Preprocessed data/temp/'\n",
        "concatenated_path = r'/content/drive/MyDrive/ITC_final_project/Pickle/Preprocessed data/concatenated/'\n",
        "\n",
        "# Define the list of file names\n",
        "file_names = ['train_mfcc.pickle', 'val_mfcc.pickle', 'test_mfcc.pickle',\n",
        "              'train_spectrogram.pickle', 'val_spectrogram.pickle', 'test_spectrogram.pickle',\n",
        "              'train_file_paths.pickle', 'val_file_paths.pickle', 'test_file_paths.pickle',\n",
        "              'train_labels.pickle', 'val_labels.pickle', 'test_labels.pickle']\n",
        "\n",
        "# Iterate through each file name\n",
        "for i, file_name in enumerate(file_names, 1):\n",
        "\n",
        "    # Load the data from the ready_data_path\n",
        "    with open(ready_data_path + file_name, 'rb') as file:\n",
        "        ready = pickle.load(file)\n",
        "\n",
        "    # Load the data from the temp_path\n",
        "    with open(temp_path + file_name, 'rb') as file:\n",
        "        temp = pickle.load(file)\n",
        "\n",
        "    # Concatenate the ready and temp data\n",
        "    concatenated = np.concatenate((ready, temp))\n",
        "\n",
        "    # Save the concatenated data to the concatenated_path\n",
        "    with open(concatenated_path + file_name, 'wb') as file:\n",
        "        pickle.dump(concatenated, file)\n",
        "\n",
        "    # Print the information about the concatenated data\n",
        "    print(f\"{i})  {file_name}:\\t{concatenated.shape[0]} samples\\n\")\n"
      ],
      "metadata": {
        "id": "9n45QCCRdx6m"
      },
      "execution_count": null,
      "outputs": []
    },
    {
      "cell_type": "markdown",
      "source": [
        "## Constructing the X variable: Load the pickled files containing the preprocessed data"
      ],
      "metadata": {
        "id": "yMj1KcKMC4C_"
      }
    },
    {
      "cell_type": "code",
      "execution_count": null,
      "metadata": {
        "colab": {
          "base_uri": "https://localhost:8080/"
        },
        "id": "0XYK3wlAusSl",
        "outputId": "c6edbbfe-d495-45cd-f714-6c50e36ccb5c"
      },
      "outputs": [
        {
          "output_type": "stream",
          "name": "stdout",
          "text": [
            "Drive already mounted at /content/drive; to attempt to forcibly remount, call drive.mount(\"/content/drive\", force_remount=True).\n",
            "(12000, 13, 32) (1500, 13, 32) (1500, 13, 32)\n",
            "(12000,) (1500,) (1500,)\n",
            "(12000,) (1500,) (1500,)\n"
          ]
        }
      ],
      "source": [
        "import pickle\n",
        "\n",
        "from google.colab import drive\n",
        "drive.mount('/content/drive')\n",
        "\n",
        "\n",
        "folder_path = r'/content/drive/MyDrive/ITC_final_project/Pickle/Preprocessed data/ready_data_sets/'\n",
        "\n",
        "\n",
        "train_mfcc_path = folder_path + 'train_mfcc.pickle'\n",
        "train_spectrogram_path = folder_path + 'train_spectrogram.pickle'\n",
        "train_file_path = folder_path + 'train_file_paths.pickle'\n",
        "train_labels_path = folder_path + 'train_labels.pickle'\n",
        "\n",
        "val_mfcc_path = folder_path + 'val_mfcc.pickle'\n",
        "val_spectrogram_path = folder_path + 'val_spectrogram.pickle'\n",
        "val_file_path = folder_path + 'val_file_paths.pickle'\n",
        "val_labels_path = folder_path + 'val_labels.pickle'\n",
        "\n",
        "test_mfcc_path = folder_path + 'test_mfcc.pickle'\n",
        "test_spectrogram_path = folder_path + 'test_spectrogram.pickle'\n",
        "test_file_path = folder_path + 'test_file_paths.pickle'\n",
        "test_labels_path = folder_path + 'test_labels.pickle'\n",
        "\n",
        "\n",
        "\n",
        "# train set\n",
        "with open(train_mfcc_path, 'rb') as file:\n",
        "    X_train_mfcc = pickle.load(file)\n",
        "\n",
        "with open(train_spectrogram_path, 'rb') as file:\n",
        "    X_train_spectrogram = pickle.load(file)\n",
        "\n",
        "with open(train_file_path, 'rb') as file:\n",
        "    X_train_file_path = pickle.load(file)\n",
        "\n",
        "with open(train_labels_path, 'rb') as file:\n",
        "    X_train_labels = pickle.load(file)\n",
        "\n",
        "\n",
        "\n",
        "# val set\n",
        "with open(val_mfcc_path, 'rb') as file:\n",
        "    X_val_mfcc = pickle.load(file)\n",
        "\n",
        "with open(val_spectrogram_path, 'rb') as file:\n",
        "    X_val_spectrogram = pickle.load(file)\n",
        "\n",
        "with open(val_file_path, 'rb') as file:\n",
        "    X_val_file_path = pickle.load(file)\n",
        "\n",
        "with open(val_labels_path, 'rb') as file:\n",
        "    X_val_labels = pickle.load(file)\n",
        "\n",
        "\n",
        "\n",
        "# test set\n",
        "with open(test_mfcc_path, 'rb') as file:\n",
        "    X_test_mfcc = pickle.load(file)\n",
        "\n",
        "with open(test_spectrogram_path, 'rb') as file:\n",
        "    X_test_spectrogram = pickle.load(file)\n",
        "\n",
        "with open(test_file_path, 'rb') as file:\n",
        "    X_test_file_path = pickle.load(file)\n",
        "\n",
        "with open(test_labels_path, 'rb') as file:\n",
        "    X_test_labels = pickle.load(file)\n",
        "\n",
        "\n",
        "\n",
        "print(X_train_mfcc.shape, X_val_mfcc.shape, X_test_mfcc.shape)\n",
        "print(X_train_file_path.shape, X_val_file_path.shape, X_test_file_path.shape)\n",
        "print(X_train_labels.shape, X_val_labels.shape, X_test_labels.shape)"
      ]
    },
    {
      "cell_type": "markdown",
      "source": [
        "## Constructing the y variable: Encode and decode labels for neural network models"
      ],
      "metadata": {
        "id": "W2LKCYTXDNlX"
      }
    },
    {
      "cell_type": "code",
      "execution_count": null,
      "metadata": {
        "colab": {
          "base_uri": "https://localhost:8080/"
        },
        "id": "6KfOdg_Gg1_I",
        "outputId": "2fac6188-c7d6-4a58-8991-c78e8550fd67"
      },
      "outputs": [
        {
          "output_type": "stream",
          "name": "stderr",
          "text": [
            "/usr/local/lib/python3.10/dist-packages/sklearn/preprocessing/_label.py:155: DataConversionWarning: A column-vector y was passed when a 1d array was expected. Please change the shape of y to (n_samples, ), for example using ravel().\n",
            "  y = column_or_1d(y, warn=True)\n",
            "/usr/local/lib/python3.10/dist-packages/sklearn/preprocessing/_label.py:155: DataConversionWarning: A column-vector y was passed when a 1d array was expected. Please change the shape of y to (n_samples, ), for example using ravel().\n",
            "  y = column_or_1d(y, warn=True)\n",
            "/usr/local/lib/python3.10/dist-packages/sklearn/preprocessing/_label.py:155: DataConversionWarning: A column-vector y was passed when a 1d array was expected. Please change the shape of y to (n_samples, ), for example using ravel().\n",
            "  y = column_or_1d(y, warn=True)\n"
          ]
        }
      ],
      "source": [
        "# Apply the pipeline to encode the labels\n",
        "oh_encoder = one_hot_pipeline.fit(X_train_labels)\n",
        "\n",
        "\n",
        "y_train = oh_encoder.transform(X_train_labels)\n",
        "y_val = oh_encoder.transform(X_val_labels)\n",
        "y_test = oh_encoder.transform(X_test_labels)\n",
        "\n",
        "decoded_y_train = oh_encoder.inverse_transform(y_train)\n",
        "decoded_y_val = oh_encoder.inverse_transform(y_val)\n",
        "decoded_y_test = oh_encoder.inverse_transform(y_test)\n",
        "\n",
        "\n",
        "for original, decoded in zip(X_train_labels, decoded_y_train):\n",
        "    if original != decoded and original in CATEGORIES:\n",
        "        print(f\"{original in CATEGORIES}\\toriginal={original} <> {decoded}=decoded\")\n"
      ]
    },
    {
      "cell_type": "markdown",
      "metadata": {
        "id": "roQPFOvA4lGs"
      },
      "source": [
        "#  InceptionTime model first attempt"
      ]
    },
    {
      "cell_type": "markdown",
      "metadata": {
        "id": "Zf_hchdbub8T"
      },
      "source": [
        "Inception architecture, also known as GoogLeNet, is a deep learning architecture designed to address the challenge of training very deep neural networks while efficiently utilizing computational resources. It introduced the concept of \"inception modules,\" which are multi-scale convolutional filters concatenated together to capture information at different spatial resolutions.\n",
        "\n",
        "In the context of speech recognition, the Inception architecture can be adapted to process audio signals in the form of spectrograms or MFCCs (Mel-frequency cepstral coefficients). By applying convolutional operations across different scales, the architecture can effectively capture various time-frequency patterns in the audio data.\n",
        "\n",
        "The Inception architecture is relevant to speech recognition because it allows for better modeling of long-range dependencies in speech signals. It can capture both local and global acoustic features, enabling the model to extract meaningful representations from different time scales in the audio input. This is particularly important for speech recognition tasks where temporal context plays a crucial role in understanding spoken language.\n",
        "\n",
        "The choice of the Inception architecture for speech recognition is motivated by its ability to capture multi-scale patterns, its efficient use of computational resources, and its success in computer vision tasks. By adapting the Inception architecture to audio data, it becomes a powerful tool for speech recognition, providing improved accuracy and robustness in capturing the temporal characteristics of spoken language."
      ]
    },
    {
      "cell_type": "markdown",
      "metadata": {
        "id": "KSfn9aaIEQJo"
      },
      "source": [
        "## Inception classifier class"
      ]
    },
    {
      "cell_type": "markdown",
      "metadata": {
        "id": "dGWwbOIHtGgn"
      },
      "source": [
        "the  code performs the following steps:\n",
        "\n",
        "\n",
        "1. Define the `InceptionClassifier` class with the following parameters:\n",
        "\n",
        "    - `weights_directory`: The directory path to save the model weights.\n",
        "    - `input_shape`: The shape of the input data.\n",
        "    - `nb_classes`: The number of output classes.\n",
        "    - `verbose`: Whether to print the model summary (default: `False`).\n",
        "    - `build`: Whether to build the model immediately (default: `True`).\n",
        "    - `batch_size`: The batch size for training (default: `64`).\n",
        "    - `nb_filters`: The number of filters in the convolutional layers (default: `32`).\n",
        "    - `use_residual`: Whether to use residual connections (default: `True`).\n",
        "    - `use_bottleneck`: Whether to use bottleneck layers (default: `True`).\n",
        "    - `depth`: The depth of the model (default: `10`).\n",
        "    - `kernel_size`: The kernel size for the convolutional layers (default: `41`).\n",
        "    - `nb_epochs`: The number of training epochs (default: `100`).\n",
        "    - `dropout`: Whether to enable dropout (default: `True`).\n",
        "    - `regularization`: Whether to enable regularization (default: `False`).\n",
        "\n",
        "2. Define the `_inception_module` method:\n",
        "\n",
        "    - `input_tensor`: The input tensor for the inception module.\n",
        "    - `stride`: The stride value for the convolutional layers (default: `1`).\n",
        "    - `activation`: The activation function for the convolutional layers (default: `'linear'`).\n",
        "\n",
        "3. Define the `_shortcut_layer` method:\n",
        "\n",
        "    - `input_tensor`: The input tensor for the shortcut layer.\n",
        "    - `out_tensor`: The output tensor from the inception module.\n",
        "\n",
        "4. Define the `build_model` method:\n",
        "\n",
        "    - `input_shape`: The shape of the input data.\n",
        "    - `nb_classes`: The number of output classes.\n",
        "\n",
        "5. Define the `fit` method:\n",
        "\n",
        "    - `x_train`, `y_train`, `x_val`, `y_val`: The training and validation data.\n",
        "    - `class_weights`: The weights for each class (default: `None`).\n",
        "\n",
        "6. Instantiate the `InceptionClassifier` object with the specified parameters.\n",
        "\n",
        "7. Fit the model using the `fit` method with the training and validation data.\n",
        "\n",
        "8. Clear the Keras session to release resources.\n",
        "\n",
        "9. Print the duration of the training process.\n",
        "\n",
        "The `InceptionClassifier` class is designed to create an Inception-style classifier model. It takes input in the form of a 1D shape tensor and predicts the probabilities of different classes.\n",
        "\n",
        "The model architecture consists of multiple inception modules and optional residual connections. Each inception module combines different filter sizes to capture information at different scales. The number of inception modules and other architectural details can be customized using the parameters.\n",
        "\n",
        "The `build_model` method constructs the model architecture based on the provided input shape and number of classes. The model is compiled with appropriate loss, optimizer, and metrics for classification.\n",
        "\n",
        "The `fit` method trains the model using the provided training and validation data. It supports the use of class weights for imbalanced datasets. The training process can be monitored using various callbacks such as reducing learning rate, saving the best weights, and early stopping.\n",
        "\n",
        "By instantiating an `InceptionClassifier` object and calling the `fit` method, the model can be trained on the specified data. After training, the Keras session is cleared, and the duration of the training process is printed.\n"
      ]
    },
    {
      "cell_type": "code",
      "execution_count": null,
      "metadata": {
        "colab": {
          "base_uri": "https://localhost:8080/"
        },
        "id": "Wsuqe9UHJRXa",
        "outputId": "5529ed08-c4bc-457a-a9f2-f356a148581b"
      },
      "outputs": [
        {
          "name": "stdout",
          "output_type": "stream",
          "text": [
            "Requirement already satisfied: tensorflow-addons in /usr/local/lib/python3.10/dist-packages (0.21.0)\n",
            "Requirement already satisfied: packaging in /usr/local/lib/python3.10/dist-packages (from tensorflow-addons) (23.1)\n",
            "Requirement already satisfied: typeguard<3.0.0,>=2.7 in /usr/local/lib/python3.10/dist-packages (from tensorflow-addons) (2.13.3)\n"
          ]
        }
      ],
      "source": [
        "!pip install tensorflow-addons\n"
      ]
    },
    {
      "cell_type": "code",
      "execution_count": null,
      "metadata": {
        "id": "gdcT8x-VwJRo"
      },
      "outputs": [],
      "source": [
        "from tensorflow.keras.layers import Input, Reshape, Conv1D, MaxPool1D, Concatenate, BatchNormalization, Activation, GlobalAveragePooling1D, Dense, Add, Dropout\n",
        "from tensorflow.keras.models import Model\n",
        "from tensorflow.keras.optimizers import Adam\n",
        "from tensorflow.keras.losses import CategoricalCrossentropy\n",
        "from tensorflow.keras.metrics import Precision, Recall\n",
        "from tensorflow.keras.callbacks import ReduceLROnPlateau, ModelCheckpoint, EarlyStopping\n",
        "from tensorflow_addons.metrics import F1Score\n",
        "import tensorflow.keras.backend as K\n",
        "import time\n",
        "import os\n",
        "\n",
        "class InceptionClassifier:\n",
        "    def __init__(self, weights_directory, input_shape, nb_classes, verbose=False, build=True, batch_size=64,\n",
        "                 nb_filters=32, use_residual=True, use_bottleneck=True, depth=10, kernel_size=41, nb_epochs=100,\n",
        "                 dropout=True, regularization=False):\n",
        "        # Initialize the parameters for the classifier\n",
        "        self.weights_directory = weights_directory\n",
        "        self.nb_filters = nb_filters\n",
        "        self.use_residual = use_residual\n",
        "        self.use_bottleneck = use_bottleneck\n",
        "        self.depth = depth\n",
        "        self.kernel_size = kernel_size - 1\n",
        "        self.callbacks = None\n",
        "        self.batch_size = batch_size\n",
        "        self.bottleneck_size = 32\n",
        "        self.nb_epochs = nb_epochs\n",
        "        self.dropout = dropout\n",
        "        self.regularization = regularization\n",
        "\n",
        "        if build == True:\n",
        "            # Build the model if the build flag is set to True\n",
        "            self.model = self.build_model(input_shape, nb_classes)\n",
        "            if verbose == True:\n",
        "                self.model.summary()\n",
        "            self.verbose = verbose\n",
        "\n",
        "    def _inception_module(self, input_tensor, stride=1, activation='linear'):\n",
        "        # Inception module: performs multi-scale convolutions and pooling\n",
        "        if self.use_bottleneck and int(input_tensor.shape[-1]) > 1:\n",
        "            # Apply 1x1 convolution if bottleneck is enabled and input tensor has more than one channel\n",
        "            input_inception = Conv1D(filters=self.bottleneck_size, kernel_size=1,\n",
        "                                     padding='same', activation=activation, use_bias=False)(input_tensor)\n",
        "        else:\n",
        "            input_inception = input_tensor\n",
        "\n",
        "        kernel_size_s = [self.kernel_size // (2 ** i) for i in range(3)]\n",
        "\n",
        "        conv_list = []\n",
        "\n",
        "        for i in range(len(kernel_size_s)):\n",
        "            # Apply convolutional layers at different scales\n",
        "            conv_list.append(Conv1D(filters=self.nb_filters, kernel_size=kernel_size_s[i],\n",
        "                                    strides=stride, padding='same', activation=activation, use_bias=False)(\n",
        "                input_inception))\n",
        "\n",
        "        max_pool_1 = MaxPool1D(pool_size=3, strides=stride, padding='same')(input_tensor)\n",
        "\n",
        "        conv_6 = Conv1D(filters=self.nb_filters, kernel_size=1,\n",
        "                        padding='same', activation=activation, use_bias=False)(max_pool_1)\n",
        "\n",
        "        conv_list.append(conv_6)\n",
        "\n",
        "        x = Concatenate(axis=2)(conv_list)\n",
        "        x = BatchNormalization()(x)\n",
        "        x = Activation(activation='relu')(x)\n",
        "        if self.dropout:\n",
        "            x = Dropout(0.5)(x)\n",
        "        if self.regularization:\n",
        "            # Apply regularization if enabled\n",
        "            x = Conv1D(filters=self.nb_filters, kernel_size=1, padding='same', activation='relu')(x)\n",
        "            x = BatchNormalization()(x)\n",
        "        return x\n",
        "\n",
        "    def _shortcut_layer(self, input_tensor, out_tensor):\n",
        "        # Shortcut layer: combines input tensor with the output tensor of an inception module\n",
        "        shortcut_y = Conv1D(filters=int(out_tensor.shape[-1]), kernel_size=1,\n",
        "                            padding='same', use_bias=False)(input_tensor)\n",
        "        shortcut_y = BatchNormalization()(shortcut_y)\n",
        "\n",
        "        x = Add()([shortcut_y, out_tensor])\n",
        "        x = Activation('relu')(x)\n",
        "        if self.dropout:\n",
        "            x = Dropout(0.5)(x)\n",
        "        if self.regularization:\n",
        "            # Apply regularization if enabled\n",
        "            x = Conv1D(filters=self.nb_filters, kernel_size=1, padding='same', activation='relu')(x)\n",
        "            x = BatchNormalization()(x)\n",
        "        return x\n",
        "\n",
        "    def build_model(self, input_shape, nb_classes):\n",
        "        # Build the overall model architecture\n",
        "        input_layer = Input(input_shape)\n",
        "\n",
        "        x = input_layer\n",
        "        input_res = input_layer\n",
        "\n",
        "        for d in range(self.depth):\n",
        "            # Apply multiple inception modules\n",
        "            x = self._inception_module(x)\n",
        "\n",
        "            if self.use_residual and d % 3 == 2:\n",
        "                # Apply residual connections every 3 inception modules\n",
        "                x = self._shortcut_layer(input_res, x)\n",
        "                input_res = x\n",
        "\n",
        "        gap_layer = GlobalAveragePooling1D()(x)\n",
        "        if self.dropout:\n",
        "            gap_layer = Dropout(0.5)(gap_layer)\n",
        "\n",
        "        output_layer = Dense(nb_classes, activation='softmax')(gap_layer)\n",
        "\n",
        "        model = Model(inputs=input_layer, outputs=output_layer)\n",
        "\n",
        "        model.compile(loss=CategoricalCrossentropy(),\n",
        "                      optimizer=Adam(),\n",
        "                      metrics=['accuracy', Precision(), Recall(), F1Score(num_classes=nb_classes, average='weighted')])\n",
        "\n",
        "        reduce_lr = ReduceLROnPlateau(monitor='val_accuracy',\n",
        "                                      factor=0.5,\n",
        "                                      patience=int(self.nb_epochs/20),\n",
        "                                      min_lr=0.0001)\n",
        "\n",
        "        file_path = os.path.join(self.weights_directory, \"best_weights.h5\")\n",
        "        model_checkpoint = ModelCheckpoint(filepath=file_path,\n",
        "                                           monitor='val_accuracy',\n",
        "                                           mode=\"max\",\n",
        "                                           save_best_only=True)\n",
        "\n",
        "        early_stopping = EarlyStopping(monitor=\"val_accuracy\",\n",
        "                                       mode=\"max\",\n",
        "                                       verbose=1,\n",
        "                                       patience=int(self.nb_epochs/10))\n",
        "\n",
        "        self.callbacks = [reduce_lr, model_checkpoint, early_stopping]\n",
        "        return model\n",
        "\n",
        "    def fit(self, x_train, y_train, x_val, y_val, class_weights=None):\n",
        "        # Train the model\n",
        "        if self.batch_size is None:\n",
        "            mini_batch_size = int(min(x_train.shape[0] / 10, 16))\n",
        "        else:\n",
        "            mini_batch_size = self.batch_size\n",
        "\n",
        "        start_time = time.time()\n",
        "        hist = self.model.fit(x_train, y_train,\n",
        "                              batch_size=mini_batch_size,\n",
        "                              epochs=self.nb_epochs,\n",
        "                              verbose=self.verbose,\n",
        "                              validation_data=(x_val, y_val),\n",
        "                              callbacks=self.callbacks,\n",
        "                              class_weight=class_weights)\n",
        "\n",
        "        duration = time.time() - start_time\n",
        "        K.clear_session()\n",
        "        print(\"Model took {} s to train\".format(duration))\n",
        "        return hist\n"
      ]
    },
    {
      "cell_type": "markdown",
      "metadata": {
        "id": "JHwO3YkiGkZc"
      },
      "source": [
        "## implementation"
      ]
    },
    {
      "cell_type": "code",
      "execution_count": null,
      "metadata": {
        "id": "VDPvpe9bobQC"
      },
      "outputs": [],
      "source": [
        "weights_directory = \"/content/drive/MyDrive/ITC_final_project/model_weights/InceptionClassifier\"\n",
        "input_shape = X_train_mfcc.shape[1:]\n",
        "nb_classes = len(CATEGORIES)\n",
        "verbose = True  # Set to True for model summary\n",
        "build = True  # Set to True to build the model immediately\n",
        "batch_size = 64\n",
        "nb_filters = 32\n",
        "use_residual = True\n",
        "use_bottleneck = True\n",
        "depth = 10\n",
        "kernel_size = 41\n",
        "nb_epochs = 100\n",
        "dropout = True  # Set to True to enable dropout\n",
        "regularization = False  # Set to True to enable regularization\n",
        "\n",
        "\n",
        "inception_classifier = InceptionClassifier(weights_directory, input_shape, nb_classes, verbose, build, batch_size,\n",
        "                                          nb_filters, use_residual, use_bottleneck, depth, kernel_size, nb_epochs,\n",
        "                                          dropout, regularization)\n",
        "\n"
      ]
    },
    {
      "cell_type": "code",
      "execution_count": null,
      "metadata": {
        "id": "M0KyinwQVJR4"
      },
      "outputs": [],
      "source": [
        "# Train the model\n",
        "inception_classifier.fit(X_train_mfcc, y_train, X_val_mfcc, y_val)\n"
      ]
    },
    {
      "cell_type": "code",
      "execution_count": null,
      "metadata": {
        "id": "fEui0qzmdhUI"
      },
      "outputs": [],
      "source": [
        "test_loss, test_accuracy, test_precision, test_recall, test_f1_score = inception_classifier.model.evaluate(X_test_mfcc, y_test)\n",
        "\n",
        "print(\"Test Accuracy:\", test_accuracy)\n"
      ]
    },
    {
      "cell_type": "markdown",
      "source": [
        "# Inception Time model (Fawaz et al. 2020)\n",
        "\n",
        "Ismail Fawaz, H., Lucas, B., Forestier, G., Pelletier, C., Schmidt, D. F., Weber, J., ... & Petitjean, F. (2020). Inceptiontime: Finding alexnet for time series classification. Data Mining and Knowledge Discovery, 34(6), 1936-1962."
      ],
      "metadata": {
        "id": "rGhqGPEFfONu"
      }
    },
    {
      "cell_type": "markdown",
      "source": [
        "Summary:\n",
        "\n",
        "To build the InceptionTime model for time series classification, the following architecture and hyperparameters are recommended:\n",
        "\n",
        "Architecture:\n",
        "\n",
        "InceptionTime is an ensemble of 5 Inception networks.\n",
        "Each Inception network consists of two residual blocks, with three Inception modules in each block.\n",
        "The Inception module consists of sliding filters of different lengths and parallel MaxPooling operations.\n",
        "The network employs a Global Average Pooling (GAP) layer.\n",
        "The final layer is a fully-connected softmax layer with a number of neurons equal to the number of classes.\n",
        "Hyperparameters:\n",
        "\n",
        "Frame Size and Overlap: Determine the division of time series into frames.\n",
        "Number of Filters: The number of filters per layer in the Inception module.\n",
        "Bottleneck Size: The size of the bottleneck layer, which reduces the dimensionality of the time series.\n",
        "Depth: The number of residual blocks and Inception modules in the network.\n",
        "Filter Length: The lengths of filters used in the Inception module.\n",
        "Batch Size: The batch size used during training.\n",
        "Relevant Insights:\n",
        "\n",
        "Increasing the network depth may not always improve performance, particularly for datasets with a small training set.\n",
        "The length of the time series influences the optimal filter length, with longer filters generally improving accuracy.\n",
        "Longer filters are more effective for longer time series, but can lead to overfitting on small datasets.\n",
        "The number of filters should be chosen based on the complexity and variability of the dataset, with more classes typically requiring more filters.\n",
        "The default hyperparameter values for InceptionTime (batch size: 64, bottleneck size: 32, depth: 6, filter length: {10, 20, 40}, number of filters: 32) generally yield good results.\n",
        "By considering these architectural choices and hyperparameters, researchers and practitioners can effectively implement and optimize the InceptionTime model for time series classification tasks."
      ],
      "metadata": {
        "id": "V4sZ0YcXf_jX"
      }
    },
    {
      "cell_type": "code",
      "source": [
        "import tensorflow as tf\n",
        "from tensorflow.keras import layers, models, callbacks\n",
        "\n",
        "class InceptionTime(tf.keras.Model):\n",
        "    def __init__(self, num_classes, ensemble_size, residual_blocks, inception_modules, filter_lengths,\n",
        "                 num_filters, bottleneck_size, use_dropout, dropout_rate, kernel_regularizer):\n",
        "        super(InceptionTime, self).__init__()\n",
        "        self.num_classes = num_classes\n",
        "        self.ensemble_size = ensemble_size\n",
        "        self.residual_blocks = residual_blocks\n",
        "        self.inception_modules = inception_modules\n",
        "        self.filter_lengths = filter_lengths\n",
        "        self.num_filters = num_filters\n",
        "        self.bottleneck_size = bottleneck_size\n",
        "        self.use_dropout = use_dropout\n",
        "        self.dropout_rate = dropout_rate\n",
        "        self.kernel_regularizer = kernel_regularizer\n",
        "\n",
        "        self.inception_layers = []\n",
        "        for _ in range(self.ensemble_size):\n",
        "            inception_block = self.build_inception_block()\n",
        "            self.inception_layers.append(inception_block)\n",
        "        self.global_average_pooling = layers.GlobalAveragePooling1D()\n",
        "        if self.use_dropout:\n",
        "            self.dropout = layers.Dropout(self.dropout_rate)\n",
        "        self.fc = layers.Dense(self.num_classes, activation='sigmoid')\n",
        "\n",
        "    def build_inception_block(self):\n",
        "        inception_block = []\n",
        "        for _ in range(self.residual_blocks):\n",
        "            residual_block = self.build_residual_block()\n",
        "            inception_block.extend(residual_block)\n",
        "        return inception_block\n",
        "\n",
        "    def build_residual_block(self):\n",
        "        residual_block = []\n",
        "        for _ in range(self.inception_modules):\n",
        "            inception_module = self.build_inception_module(num_filters=self.num_filters)\n",
        "            residual_block.append(inception_module)\n",
        "        residual_block.append(self.build_residual_connection(num_filters=self.num_filters))\n",
        "        return residual_block\n",
        "\n",
        "    def build_residual_connection(self, num_filters):\n",
        "        return layers.Conv1D(filters=num_filters, kernel_size=1, padding='same', activation='linear')\n",
        "\n",
        "    def build_inception_module(self, num_filters):\n",
        "        def inception_module(inputs):\n",
        "            layers_list = []\n",
        "            for filter_length in self.filter_lengths:\n",
        "                conv = layers.Conv1D(filters=num_filters, kernel_size=filter_length, padding='same', activation='relu')(inputs)\n",
        "                layers_list.append(conv)\n",
        "            inception_module = layers.Concatenate(axis=-1)(layers_list)\n",
        "            residual = layers.Conv1D(filters=num_filters, kernel_size=1, padding='same')(inception_module)\n",
        "            residual = layers.Conv1D(filters=self.num_filters, kernel_size=1, padding='same')(residual)\n",
        "            inception_module = layers.Add()([residual, inception_module])\n",
        "            bottleneck = layers.Conv1D(filters=self.bottleneck_size, kernel_size=1, padding='same', activation='relu')(inception_module)\n",
        "            return bottleneck\n",
        "\n",
        "        return inception_module\n",
        "\n",
        "    def call(self, inputs):\n",
        "        x = inputs\n",
        "        for inception_block in self.inception_layers:\n",
        "            for inception_module in inception_block:\n",
        "                x = inception_module(x)\n",
        "        x = self.global_average_pooling(x)\n",
        "        if self.use_dropout:\n",
        "            x = self.dropout(x)\n",
        "        output = self.fc(x)\n",
        "        return output\n",
        "\n",
        "\n",
        "# Example usage:\n",
        "num_classes = len(CATEGORIES)  # Number of categories for speech recognition\n",
        "\n",
        "# Reshape the input data to match the expected shape\n",
        "input_shape = (X_train_mfcc.shape[1], X_train_mfcc.shape[2])\n",
        "\n",
        "# Set the hyperparameters\n",
        "ensemble_size = 5\n",
        "residual_blocks = 2\n",
        "inception_modules = 3\n",
        "filter_lengths = [10, 20, 40]\n",
        "num_filters = 32\n",
        "bottleneck_size = 32\n",
        "use_dropout = True\n",
        "dropout_rate = 0.5\n",
        "kernel_regularizer = tf.keras.regularizers.l2(0.001)\n",
        "\n",
        "# Build the InceptionTime model\n",
        "model = InceptionTime(num_classes, ensemble_size, residual_blocks, inception_modules, filter_lengths,\n",
        "                      num_filters, bottleneck_size, use_dropout, dropout_rate, kernel_regularizer)\n",
        "\n",
        "# Build the model\n",
        "model.build(input_shape)\n",
        "\n",
        "# Compile the model\n",
        "model.compile(optimizer='adam', loss='binary_crossentropy', metrics=['accuracy'])\n",
        "\n",
        "# Print the model summary\n",
        "model.summary()\n"
      ],
      "metadata": {
        "id": "IPjAHuL3guL_"
      },
      "execution_count": null,
      "outputs": []
    },
    {
      "cell_type": "code",
      "source": [
        "# Define the file path for saving the best weights\n",
        "checkpoint_path = '/content/drive/MyDrive/ITC_final_project/model_weights/Fawaz_best_weights.h5'\n",
        "\n",
        "# Define the ModelCheckpoint callback to save the best weights\n",
        "checkpoint_callback = callbacks.ModelCheckpoint(\n",
        "    checkpoint_path,\n",
        "    monitor='val_accuracy',\n",
        "    mode='max',\n",
        "    save_best_only=True,\n",
        "    save_weights_only=True,\n",
        "    verbose=1\n",
        ")\n",
        "\n",
        "# Train the model with the ModelCheckpoint callback\n",
        "model.fit(\n",
        "    X_train_mfcc,\n",
        "    y_train,\n",
        "    epochs=10,\n",
        "    batch_size=64,\n",
        "    validation_data=(X_val_mfcc, y_val),\n",
        "    callbacks=[checkpoint_callback]\n",
        ")\n",
        "\n",
        "# Load the best weights saved during training\n",
        "model.load_weights(checkpoint_path)\n",
        "\n",
        "# Evaluate the model\n",
        "test_loss, test_accuracy = model.evaluate(X_test_mfcc, y_test)\n",
        "print(f\"Test Loss: {test_loss}, Test Accuracy: {test_accuracy}\")\n"
      ],
      "metadata": {
        "id": "tLXEKUXJFTBo"
      },
      "execution_count": null,
      "outputs": []
    },
    {
      "cell_type": "code",
      "source": [
        "import tensorflow as tf\n",
        "from tensorflow.keras import layers, models\n",
        "\n",
        "class InceptionTime(tf.keras.Model):\n",
        "    def __init__(self, num_classes):\n",
        "        super(InceptionTime, self).__init__()\n",
        "        self.num_classes = num_classes\n",
        "        self.ensemble_size = 5\n",
        "        self.residual_blocks = 2\n",
        "        self.inception_modules = 3\n",
        "        self.filter_lengths = [10, 20, 40]\n",
        "        self.num_filters = 32\n",
        "        self.bottleneck_size = 32\n",
        "\n",
        "        self.inception_layers = []\n",
        "        for _ in range(self.ensemble_size):\n",
        "            inception_block = self.build_inception_block()\n",
        "            self.inception_layers.append(inception_block)\n",
        "        self.global_average_pooling = layers.GlobalAveragePooling1D()\n",
        "        self.fc = layers.Dense(num_classes, activation='softmax')\n",
        "\n",
        "    def build_inception_block(self):\n",
        "        inception_block = []\n",
        "        for _ in range(self.residual_blocks):\n",
        "            residual_block = self.build_residual_block()\n",
        "            inception_block.extend(residual_block)\n",
        "        return inception_block\n",
        "\n",
        "    def build_residual_block(self):\n",
        "        residual_block = []\n",
        "        for _ in range(self.inception_modules):\n",
        "            inception_module = self.build_inception_module()\n",
        "            residual_block.append(inception_module)\n",
        "        return residual_block\n",
        "\n",
        "    def build_inception_module(self):\n",
        "        inputs = layers.Input(shape=X_train.shape[1:])\n",
        "        layers_list = []\n",
        "        for filter_length in self.filter_lengths:\n",
        "            conv = layers.Conv1D(filters=self.num_filters, kernel_size=filter_length, padding='same', activation='relu')(inputs)\n",
        "            layers_list.append(conv)\n",
        "        inception_module = layers.Concatenate()(layers_list)\n",
        "        residual = layers.Conv1D(filters=self.num_filters, kernel_size=1, padding='same')(inputs)\n",
        "        inception_module = layers.Add()([inception_module, residual])\n",
        "        bottleneck = layers.Conv1D(filters=self.bottleneck_size, kernel_size=1, padding='same', activation='relu')(inception_module)\n",
        "        return bottleneck\n",
        "\n",
        "    def call(self, inputs):\n",
        "        x = inputs\n",
        "        for inception_block in self.inception_layers:\n",
        "            for inception_module in inception_block:\n",
        "                x = inception_module(x)\n",
        "        x = self.global_average_pooling(x)\n",
        "        output = self.fc(x)\n",
        "        return output\n",
        "\n",
        "# Example usage:\n",
        "num_classes = len(CATEGORIES)  # Number of categories for speech recognition\n",
        "input_shape = X_train_mfcc.shape[1:]  # Shape of input data (e.g., MFCC or spectrogram)\n",
        "\n",
        "# Build the InceptionTime model\n",
        "model = InceptionTime(num_classes)\n",
        "\n",
        "# Compile the model\n",
        "model.compile(optimizer='adam', loss='categorical_crossentropy', metrics=['accuracy'])\n",
        "\n",
        "# Train the model\n",
        "model.fit(X_train_mfcc, y_train, epochs=10, batch_size=64, validation_data=(X_val_mfcc, y_val))\n",
        "\n",
        "# Evaluate the model\n",
        "test_loss, test_accuracy = model.evaluate(X_test_mfcc, y_test)\n",
        "print(f\"Test Loss: {test_loss}, Test Accuracy: {test_accuracy}\")\n"
      ],
      "metadata": {
        "id": "lubCyD2If-du"
      },
      "execution_count": null,
      "outputs": []
    },
    {
      "cell_type": "markdown",
      "metadata": {
        "id": "kDc5a2H5xhdh"
      },
      "source": [
        "# CTC model"
      ]
    },
    {
      "cell_type": "code",
      "execution_count": null,
      "metadata": {
        "id": "NDqab2-_yzEn"
      },
      "outputs": [],
      "source": [
        "!pip install tensorflow-addons\n"
      ]
    },
    {
      "cell_type": "code",
      "source": [
        "import tensorflow as tf\n",
        "from tensorflow.keras import layers, callbacks\n",
        "\n",
        "class CTCModel(tf.keras.Model):\n",
        "    def __init__(self, num_classes, use_dropout=True, use_regularization=True):\n",
        "        super(CTCModel, self).__init__()\n",
        "        self.num_classes = num_classes\n",
        "        self.use_dropout = use_dropout\n",
        "        self.use_regularization = use_regularization\n",
        "\n",
        "        self.conv1 = layers.Conv2D(32, kernel_size=(3, 3), activation='relu')\n",
        "        self.maxpool1 = layers.MaxPooling2D(pool_size=(2, 2))\n",
        "        self.conv2 = layers.Conv2D(64, kernel_size=(3, 3), activation='relu')\n",
        "        self.maxpool2 = layers.MaxPooling2D(pool_size=(2, 2))\n",
        "        self.flatten = layers.Flatten()\n",
        "        self.dense1 = layers.Dense(128, activation='relu')\n",
        "        if self.use_dropout:\n",
        "            self.dropout = layers.Dropout(0.5)\n",
        "        self.dense2 = layers.Dense(self.num_classes, activation='softmax')\n",
        "\n",
        "    def call(self, inputs):\n",
        "        x = self.conv1(inputs)\n",
        "        x = self.maxpool1(x)\n",
        "        x = self.conv2(x)\n",
        "        x = self.maxpool2(x)\n",
        "        x = self.flatten(x)\n",
        "        x = self.dense1(x)\n",
        "        if self.use_dropout:\n",
        "            x = self.dropout(x)\n",
        "        output = self.dense2(x)\n",
        "        return output\n",
        "\n",
        "# Example usage:\n",
        "num_classes = len(CATEGORIES)  # Number of categories for speech recognition\n",
        "\n",
        "# Reshape the input data to match the expected shape\n",
        "input_shape = (X_train_mfcc.shape[1], X_train_mfcc.shape[2], 1)  # Excluding the batch dimension\n",
        "\n",
        "# Reshape the input data to include the batch dimension\n",
        "X_train_mfcc = tf.expand_dims(X_train_mfcc, axis=-1)\n",
        "X_val_mfcc = tf.expand_dims(X_val_mfcc, axis=-1)\n",
        "\n",
        "# Create an instance of the CTCModel\n",
        "model = CTCModel(num_classes, use_dropout=True, use_regularization=True)\n",
        "\n",
        "# Build the model\n",
        "model.build((None,) + input_shape)  # Including the batch dimension\n",
        "\n",
        "# Compile the model\n",
        "model.compile(loss=tf.keras.losses.CategoricalCrossentropy(),\n",
        "              optimizer=tf.keras.optimizers.Adam(),\n",
        "              metrics=['accuracy'])\n",
        "\n",
        "# Define the callbacks\n",
        "early_stop = callbacks.EarlyStopping(monitor='val_accuracy', patience=5, mode='max', restore_best_weights=True)\n",
        "save_best_weights = callbacks.ModelCheckpoint(filepath='best_weights.h5', save_best_only=True, save_weights_only=True)\n",
        "\n",
        "# Train the model with early stopping and saving best weights\n",
        "model.fit(X_train_mfcc, y_train, validation_data=(X_val_mfcc, y_val), epochs=20, batch_size=32, callbacks=[early_stop, save_best_weights])\n"
      ],
      "metadata": {
        "id": "TgkSDvZ8YU83"
      },
      "execution_count": null,
      "outputs": []
    },
    {
      "cell_type": "code",
      "execution_count": null,
      "metadata": {
        "id": "IydoLLrJOBsD"
      },
      "outputs": [],
      "source": []
    },
    {
      "cell_type": "code",
      "execution_count": null,
      "metadata": {
        "id": "qLali8tbOBu5"
      },
      "outputs": [],
      "source": []
    },
    {
      "cell_type": "code",
      "execution_count": null,
      "metadata": {
        "id": "JrejBceHOBxi"
      },
      "outputs": [],
      "source": []
    },
    {
      "cell_type": "code",
      "execution_count": null,
      "metadata": {
        "id": "azjgBfsPOB3M"
      },
      "outputs": [],
      "source": []
    },
    {
      "cell_type": "markdown",
      "metadata": {
        "id": "bDNuUa0S8qou"
      },
      "source": [
        "# current plan"
      ]
    },
    {
      "cell_type": "markdown",
      "metadata": {
        "id": "cLuze2_nMJzq"
      },
      "source": [
        "To build a deep learning model using InceptionTime and CTC (Connectionist Temporal Classification) for speech recognition based on the dataframe with labels and paths to .wav files, here are the general steps you can follow:\n",
        "\n",
        "1. Data Preprocessing:\n",
        "Load the audio data from the .wav files using a suitable library like librosa or TensorFlow's tf.audio.\n",
        "Apply any necessary preprocessing steps such as data normalization, feature extraction (e.g., spectrogram or MFCC), padding/truncation, and data augmentation.\n",
        "\n",
        "2. Split the Data:\n",
        "Split the preprocessed data into training, validation, and testing sets.\n",
        "Shuffle the data to ensure randomization.\n",
        "\n",
        "3. Label Encoding:\n",
        "Convert the categorical labels into numerical representations suitable for model training.\n",
        "You can use techniques like one-hot encoding or label encoding to represent the labels numerically.\n",
        "\n",
        "4. Model Architecture:\n",
        "Choose the appropriate deep learning model architecture for your task, such as InceptionTime and CTC models.\n",
        "Configure the model layers, including input shape, number of filters, kernel sizes, pooling layers, and any other relevant hyperparameters.\n",
        "For InceptionTime, you can follow the architecture described in the original paper (Fawaz et al., 2019) or use existing implementations available in deep learning libraries.\n",
        "For the CTC model, you will typically have a combination of convolutional layers, recurrent layers (e.g., LSTM), and the CTC output layer.\n",
        "\n",
        "5. Compile the Model:\n",
        "Define the loss function, such as the CTC loss, suitable for your speech recognition task.\n",
        "Specify the optimizer (e.g., Adam, RMSprop) and any additional metrics to evaluate during training.\n",
        "\n",
        "6. Model Training:\n",
        "Train the model using the preprocessed training data.\n",
        "Set the appropriate batch size, number of epochs, and other training parameters.\n",
        "Monitor the training process using validation data to track model performance.\n",
        "\n",
        "7. Model Evaluation:\n",
        "Evaluate the trained model using the testing data to assess its performance.\n",
        "Calculate metrics such as accuracy, word error rate (WER), or any other relevant evaluation metrics for speech recognition tasks.\n",
        "\n",
        "8. Model Fine-tuning (Optional):\n",
        "If necessary, fine-tune the model by adjusting hyperparameters or architecture based on performance evaluation results.\n",
        "\n",
        "9. Model Deployment:\n",
        "Save the trained model for future use or deploy it for real-time inference on new audio samples.\n",
        "It's important to note that the implementation details may vary depending on the specific deep learning library or framework you are using (e.g., TensorFlow, Keras). You'll need to refer to the documentation and examples provided with the chosen library to get the specific code implementation for building and training InceptionTime and CTC models.\n",
        "\n"
      ]
    },
    {
      "cell_type": "markdown",
      "metadata": {
        "id": "ak-dI8-CwUlq"
      },
      "source": [
        "#"
      ]
    }
  ],
  "metadata": {
    "accelerator": "GPU",
    "colab": {
      "machine_shape": "hm",
      "toc_visible": true,
      "provenance": []
    },
    "kernelspec": {
      "display_name": "Python 3",
      "name": "python3"
    },
    "language_info": {
      "name": "python"
    }
  },
  "nbformat": 4,
  "nbformat_minor": 0
}