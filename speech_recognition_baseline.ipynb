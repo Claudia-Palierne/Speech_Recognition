{
  "nbformat": 4,
  "nbformat_minor": 0,
  "metadata": {
    "colab": {
      "provenance": []
    },
    "kernelspec": {
      "name": "python3",
      "display_name": "Python 3"
    },
    "language_info": {
      "name": "python"
    }
  },
  "cells": [
    {
      "cell_type": "code",
      "execution_count": 1,
      "metadata": {
        "id": "Kw3FCbyzRWAI",
        "colab": {
          "base_uri": "https://localhost:8080/"
        },
        "outputId": "77d9d78a-d2ee-4d11-b0cd-c295c5295a60"
      },
      "outputs": [
        {
          "output_type": "stream",
          "name": "stdout",
          "text": [
            "Looking in indexes: https://pypi.org/simple, https://us-python.pkg.dev/colab-wheels/public/simple/\n",
            "Requirement already satisfied: tensorflow_io in /usr/local/lib/python3.10/dist-packages (0.32.0)\n",
            "Requirement already satisfied: tensorflow-io-gcs-filesystem==0.32.0 in /usr/local/lib/python3.10/dist-packages (from tensorflow_io) (0.32.0)\n"
          ]
        }
      ],
      "source": [
        "!pip install tensorflow_io"
      ]
    },
    {
      "cell_type": "code",
      "source": [
        "import os\n",
        "from matplotlib import pyplot as plt\n",
        "import tensorflow as tf\n",
        "import tensorflow_io as tfio"
      ],
      "metadata": {
        "id": "nqHQWowho4gb"
      },
      "execution_count": 2,
      "outputs": []
    },
    {
      "cell_type": "code",
      "source": [
        "from google.colab import drive\n",
        "drive.mount('/content/gdrive')"
      ],
      "metadata": {
        "id": "dwd6-QlISLEG",
        "colab": {
          "base_uri": "https://localhost:8080/"
        },
        "outputId": "724a109d-fca1-4a4a-c41e-b44fe0bb4ddf"
      },
      "execution_count": 3,
      "outputs": [
        {
          "output_type": "stream",
          "name": "stdout",
          "text": [
            "Drive already mounted at /content/gdrive; to attempt to forcibly remount, call drive.mount(\"/content/gdrive\", force_remount=True).\n"
          ]
        }
      ]
    },
    {
      "cell_type": "code",
      "source": [
        "%cd ..\n",
        "%cd content\n",
        "%cd gdrive\n",
        "%cd MyDrive\n",
        "%cd speech_recognition"
      ],
      "metadata": {
        "id": "YdVx2zHEpYHs",
        "colab": {
          "base_uri": "https://localhost:8080/"
        },
        "outputId": "15160da1-a7b1-420a-cec6-05ca8e6fe059"
      },
      "execution_count": 4,
      "outputs": [
        {
          "output_type": "stream",
          "name": "stdout",
          "text": [
            "/\n",
            "/content\n",
            "/content/gdrive\n",
            "/content/gdrive/MyDrive\n",
            "/content/gdrive/MyDrive/speech_recognition\n"
          ]
        }
      ]
    },
    {
      "cell_type": "code",
      "source": [
        "def load_wav_16k_mono(filename):\n",
        "    # Load encoded wav file\n",
        "    file_contents = tf.io.read_file(filename)\n",
        "    # Decode wav (tensors by channels)\n",
        "    wav, sample_rate = tf.audio.decode_wav(file_contents, desired_channels=1)\n",
        "    # Removes trailing axis\n",
        "    wav = tf.squeeze(wav, axis=-1)\n",
        "    sample_rate = tf.cast(sample_rate, dtype=tf.int64)\n",
        "    # Goes from 44100Hz to 16000hz - amplitude of the audio signal\n",
        "    wav = tfio.audio.resample(wav, rate_in=sample_rate, rate_out=16000)\n",
        "    return wav"
      ],
      "metadata": {
        "id": "tNqLNWJaSLUi"
      },
      "execution_count": 5,
      "outputs": []
    },
    {
      "cell_type": "markdown",
      "source": [
        "## Creating dataset"
      ],
      "metadata": {
        "id": "d_fByqQGYzGQ"
      }
    },
    {
      "cell_type": "code",
      "source": [
        "def preprocess_multy(file_path, label):\n",
        "    wav = load_wav_16k_mono(file_path)\n",
        "    wav = wav[:16000]\n",
        "    zero_padding = tf.zeros([16000] - tf.shape(wav), dtype=tf.float32)\n",
        "    wav = tf.concat([zero_padding, wav],0)\n",
        "    spectrogram = tf.signal.stft(wav, frame_length=320, frame_step=32)\n",
        "    spectrogram = tf.abs(spectrogram)\n",
        "    spectrogram = tf.expand_dims(spectrogram, axis=2)\n",
        "    return spectrogram, tf.one_hot(label, 13)"
      ],
      "metadata": {
        "id": "5S-uie7RrPke"
      },
      "execution_count": 6,
      "outputs": []
    },
    {
      "cell_type": "code",
      "source": [
        "tf_yes = tf.data.Dataset.list_files(os.path.join('yes', '*.wav')).take(500)\n",
        "tf_no = tf.data.Dataset.list_files(os.path.join('no', '*.wav')).take(500)\n",
        "tf_one = tf.data.Dataset.list_files(os.path.join('one', '*.wav')).take(500)\n",
        "tf_two = tf.data.Dataset.list_files(os.path.join('two', '*.wav')).take(500)\n",
        "tf_three = tf.data.Dataset.list_files(os.path.join('three', '*.wav')).take(500)\n",
        "tf_four = tf.data.Dataset.list_files(os.path.join('four', '*.wav')).take(500)\n",
        "tf_five = tf.data.Dataset.list_files(os.path.join('five', '*.wav')).take(500)\n",
        "tf_six = tf.data.Dataset.list_files(os.path.join('six', '*.wav')).take(500)\n",
        "tf_seven = tf.data.Dataset.list_files(os.path.join('seven', '*.wav')).take(500)\n",
        "tf_eight = tf.data.Dataset.list_files(os.path.join('eight', '*.wav')).take(500)\n",
        "tf_nine = tf.data.Dataset.list_files(os.path.join('nine', '*.wav')).take(500)\n",
        "tf_up = tf.data.Dataset.list_files(os.path.join('up', '*.wav')).take(500)\n",
        "tf_down = tf.data.Dataset.list_files(os.path.join('down', '*.wav')).take(500)"
      ],
      "metadata": {
        "id": "PbMzU7VlvALQ"
      },
      "execution_count": 7,
      "outputs": []
    },
    {
      "cell_type": "code",
      "source": [
        "yes = tf.data.Dataset.zip((tf_yes, tf.data.Dataset.from_tensor_slices(tf.fill((len(tf_yes),), 0))))\n",
        "no = tf.data.Dataset.zip((tf_no, tf.data.Dataset.from_tensor_slices(tf.fill((len(tf_no),), 1))))\n",
        "one = tf.data.Dataset.zip((tf_one, tf.data.Dataset.from_tensor_slices(tf.fill((len(tf_one),), 2))))\n",
        "two = tf.data.Dataset.zip((tf_two, tf.data.Dataset.from_tensor_slices(tf.fill((len(tf_two),), 3))))\n",
        "three = tf.data.Dataset.zip((tf_three, tf.data.Dataset.from_tensor_slices(tf.fill((len(tf_three),), 4))))\n",
        "four = tf.data.Dataset.zip((tf_four, tf.data.Dataset.from_tensor_slices(tf.fill((len(tf_four),), 5))))\n",
        "five = tf.data.Dataset.zip((tf_five, tf.data.Dataset.from_tensor_slices(tf.fill((len(tf_five),), 6))))\n",
        "six = tf.data.Dataset.zip((tf_six, tf.data.Dataset.from_tensor_slices(tf.fill((len(tf_six),), 7))))\n",
        "seven = tf.data.Dataset.zip((tf_seven, tf.data.Dataset.from_tensor_slices(tf.fill((len(tf_seven),), 8))))\n",
        "eight = tf.data.Dataset.zip((tf_eight, tf.data.Dataset.from_tensor_slices(tf.fill((len(tf_eight),), 9))))\n",
        "nine = tf.data.Dataset.zip((tf_nine, tf.data.Dataset.from_tensor_slices(tf.fill((len(tf_nine),), 10))))\n",
        "up = tf.data.Dataset.zip((tf_up, tf.data.Dataset.from_tensor_slices(tf.fill((len(tf_up),), 11))))\n",
        "down = tf.data.Dataset.zip((tf_down, tf.data.Dataset.from_tensor_slices(tf.fill((len(tf_down),), 12))))"
      ],
      "metadata": {
        "id": "RQcOLnBhuwXf"
      },
      "execution_count": 8,
      "outputs": []
    },
    {
      "cell_type": "code",
      "source": [
        "datasets = [yes, no, one, two, three, four, five, six, seven, eight, nine, up, down]"
      ],
      "metadata": {
        "id": "l3NUtek0uwah"
      },
      "execution_count": 9,
      "outputs": []
    },
    {
      "cell_type": "code",
      "source": [
        "from functools import reduce"
      ],
      "metadata": {
        "id": "Tk80CzQkuwdi"
      },
      "execution_count": 10,
      "outputs": []
    },
    {
      "cell_type": "code",
      "source": [
        "merged_dataset_loop = None\n",
        "for dataset in datasets:\n",
        "    if merged_dataset_loop is None:\n",
        "        merged_dataset_loop = dataset\n",
        "    else:\n",
        "        merged_dataset_loop = merged_dataset_loop.concatenate(dataset)"
      ],
      "metadata": {
        "id": "YXnUE61Zuwgs"
      },
      "execution_count": 11,
      "outputs": []
    },
    {
      "cell_type": "code",
      "source": [
        "merged_dataset_reduce = reduce(lambda d1, d2: d1.concatenate(d2), datasets)"
      ],
      "metadata": {
        "id": "WrmQwOF6uwkK"
      },
      "execution_count": 12,
      "outputs": []
    },
    {
      "cell_type": "code",
      "source": [
        "dataset = merged_dataset_reduce.shuffle(buffer_size=1000)"
      ],
      "metadata": {
        "id": "GUgFIBccuwnv"
      },
      "execution_count": 13,
      "outputs": []
    },
    {
      "cell_type": "code",
      "source": [
        "type(dataset)"
      ],
      "metadata": {
        "colab": {
          "base_uri": "https://localhost:8080/"
        },
        "id": "eWvvgXsox-lo",
        "outputId": "fe2fa649-3947-47e0-cacb-8da2210b5390"
      },
      "execution_count": 14,
      "outputs": [
        {
          "output_type": "execute_result",
          "data": {
            "text/plain": [
              "tensorflow.python.data.ops.shuffle_op._ShuffleDataset"
            ]
          },
          "metadata": {},
          "execution_count": 14
        }
      ]
    },
    {
      "cell_type": "markdown",
      "source": [
        "## Building a baseline model (precision+recall)"
      ],
      "metadata": {
        "id": "QRpYHtUGv_HZ"
      }
    },
    {
      "cell_type": "code",
      "source": [
        "data = dataset.map(preprocess_multy)\n",
        "data = data.cache()\n",
        "data = data.shuffle(buffer_size=1000)\n",
        "data = data.batch(16)\n",
        "data = data.prefetch(8)"
      ],
      "metadata": {
        "colab": {
          "base_uri": "https://localhost:8080/"
        },
        "id": "RPolKr-buwqh",
        "outputId": "2a916606-eca8-45cc-f8e4-a1f7a19478d3"
      },
      "execution_count": null,
      "outputs": [
        {
          "output_type": "stream",
          "name": "stderr",
          "text": [
            "WARNING:tensorflow:Using a while_loop for converting IO>AudioResample cause there is no registered converter for this op.\n"
          ]
        }
      ]
    },
    {
      "cell_type": "code",
      "source": [
        "len(data), type(data)"
      ],
      "metadata": {
        "colab": {
          "base_uri": "https://localhost:8080/"
        },
        "id": "-ff9Ipi_v_mV",
        "outputId": "2cb59ce7-0ef3-4507-e028-15d90a87553b"
      },
      "execution_count": null,
      "outputs": [
        {
          "output_type": "execute_result",
          "data": {
            "text/plain": [
              "(407, tensorflow.python.data.ops.prefetch_op._PrefetchDataset)"
            ]
          },
          "metadata": {},
          "execution_count": 17
        }
      ]
    },
    {
      "cell_type": "code",
      "source": [
        "train = data.take(245)\n",
        "val = data.skip(245).take(81)\n",
        "test = data.skip(326).take(81)"
      ],
      "metadata": {
        "id": "EbCRaGfLuwtS"
      },
      "execution_count": null,
      "outputs": []
    },
    {
      "cell_type": "code",
      "source": [
        "samples, labels = train.as_numpy_iterator().next()\n",
        "samples.shape, labels.shape"
      ],
      "metadata": {
        "id": "nBw5JoD5uwu-",
        "colab": {
          "base_uri": "https://localhost:8080/"
        },
        "outputId": "3c81334b-70d5-4e83-fe21-739c719f7adf"
      },
      "execution_count": null,
      "outputs": [
        {
          "output_type": "execute_result",
          "data": {
            "text/plain": [
              "((16, 491, 257, 1), (16, 13))"
            ]
          },
          "metadata": {},
          "execution_count": 47
        }
      ]
    },
    {
      "cell_type": "code",
      "source": [
        "from tensorflow.keras.models import Sequential\n",
        "from tensorflow.keras.layers import Conv2D, Dense, Flatten"
      ],
      "metadata": {
        "id": "gD9ytGO3uwxe"
      },
      "execution_count": null,
      "outputs": []
    },
    {
      "cell_type": "code",
      "source": [],
      "metadata": {
        "id": "w7xGndKsuw0-"
      },
      "execution_count": null,
      "outputs": []
    },
    {
      "cell_type": "code",
      "source": [
        "base_model = Sequential()\n",
        "base_model.add(Conv2D(16, (3,3), activation='relu', input_shape=(491, 257,1)))\n",
        "base_model.add(Flatten())\n",
        "base_model.add(Dense(13, activation='softmax'))"
      ],
      "metadata": {
        "id": "AEPDi9f6YvfN"
      },
      "execution_count": null,
      "outputs": []
    },
    {
      "cell_type": "code",
      "source": [
        "base_model.compile('Adam', loss='BinaryCrossentropy', metrics=[tf.keras.metrics.Recall(),tf.keras.metrics.Precision()])"
      ],
      "metadata": {
        "id": "a2GH-HrU75-S"
      },
      "execution_count": null,
      "outputs": []
    },
    {
      "cell_type": "code",
      "source": [
        "base_model.summary()"
      ],
      "metadata": {
        "colab": {
          "base_uri": "https://localhost:8080/"
        },
        "id": "PhXbl29oZo7u",
        "outputId": "6233e1e1-6f0e-4baf-9d58-80089797ab9d"
      },
      "execution_count": null,
      "outputs": [
        {
          "output_type": "stream",
          "name": "stdout",
          "text": [
            "Model: \"sequential_2\"\n",
            "_________________________________________________________________\n",
            " Layer (type)                Output Shape              Param #   \n",
            "=================================================================\n",
            " conv2d_2 (Conv2D)           (None, 489, 255, 16)      160       \n",
            "                                                                 \n",
            " flatten_2 (Flatten)         (None, 1995120)           0         \n",
            "                                                                 \n",
            " dense_2 (Dense)             (None, 13)                25936573  \n",
            "                                                                 \n",
            "=================================================================\n",
            "Total params: 25,936,733\n",
            "Trainable params: 25,936,733\n",
            "Non-trainable params: 0\n",
            "_________________________________________________________________\n"
          ]
        }
      ]
    },
    {
      "cell_type": "code",
      "source": [
        "hist = base_model.fit(train, validation_data=val, epochs=10)"
      ],
      "metadata": {
        "colab": {
          "base_uri": "https://localhost:8080/"
        },
        "id": "rPvqwpcaZ3ug",
        "outputId": "c6dd023a-980a-424c-bb1f-c0d1162620fa"
      },
      "execution_count": null,
      "outputs": [
        {
          "output_type": "stream",
          "name": "stdout",
          "text": [
            "Epoch 1/10\n",
            "245/245 [==============================] - 318s 1s/step - loss: 0.6666 - recall_2: 0.1490 - precision_2: 0.3417 - val_loss: 0.2273 - val_recall_2: 0.1682 - val_precision_2: 0.6356\n",
            "Epoch 2/10\n",
            "245/245 [==============================] - 314s 1s/step - loss: 0.1738 - recall_2: 0.3821 - precision_2: 0.8186 - val_loss: 0.2199 - val_recall_2: 0.2809 - val_precision_2: 0.6842\n",
            "Epoch 3/10\n",
            "245/245 [==============================] - 312s 1s/step - loss: 0.1286 - recall_2: 0.5929 - precision_2: 0.9150 - val_loss: 0.1965 - val_recall_2: 0.3711 - val_precision_2: 0.7492\n",
            "Epoch 4/10\n",
            "245/245 [==============================] - 294s 1s/step - loss: 0.0907 - recall_2: 0.7339 - precision_2: 0.9561 - val_loss: 0.2002 - val_recall_2: 0.4059 - val_precision_2: 0.7336\n",
            "Epoch 5/10\n",
            "245/245 [==============================] - 296s 1s/step - loss: 0.0699 - recall_2: 0.8171 - precision_2: 0.9739 - val_loss: 0.1929 - val_recall_2: 0.5085 - val_precision_2: 0.7744\n",
            "Epoch 6/10\n",
            "245/245 [==============================] - 312s 1s/step - loss: 0.0542 - recall_2: 0.8602 - precision_2: 0.9854 - val_loss: 0.2093 - val_recall_2: 0.5463 - val_precision_2: 0.7468\n",
            "Epoch 7/10\n",
            "245/245 [==============================] - 299s 1s/step - loss: 0.0438 - recall_2: 0.8941 - precision_2: 0.9893 - val_loss: 0.2236 - val_recall_2: 0.5702 - val_precision_2: 0.7503\n",
            "Epoch 8/10\n",
            "245/245 [==============================] - 299s 1s/step - loss: 0.0389 - recall_2: 0.9054 - precision_2: 0.9886 - val_loss: 0.2417 - val_recall_2: 0.5941 - val_precision_2: 0.7483\n",
            "Epoch 9/10\n",
            "245/245 [==============================] - 297s 1s/step - loss: 0.0318 - recall_2: 0.9268 - precision_2: 0.9929 - val_loss: 0.2364 - val_recall_2: 0.6304 - val_precision_2: 0.7643\n",
            "Epoch 10/10\n",
            "245/245 [==============================] - 300s 1s/step - loss: 0.0315 - recall_2: 0.9423 - precision_2: 0.9941 - val_loss: 0.2102 - val_recall_2: 0.6373 - val_precision_2: 0.7785\n"
          ]
        }
      ]
    },
    {
      "cell_type": "code",
      "source": [
        "base_model.save('/content/gdrive/MyDrive/speech_recognition/baseline_10')"
      ],
      "metadata": {
        "colab": {
          "base_uri": "https://localhost:8080/"
        },
        "id": "nUJlxgdm-wUg",
        "outputId": "cf5a9f54-e1cc-4436-c7ba-6894d52eb398"
      },
      "execution_count": null,
      "outputs": [
        {
          "output_type": "stream",
          "name": "stderr",
          "text": [
            "WARNING:absl:Found untraced functions such as _jit_compiled_convolution_op, _update_step_xla while saving (showing 2 of 2). These functions will not be directly callable after loading.\n"
          ]
        }
      ]
    },
    {
      "cell_type": "code",
      "source": [
        "from keras.models import load_model\n",
        "\n",
        "base_model_loaded = load_model('/content/gdrive/MyDrive/speech_recognition/baseline_10')"
      ],
      "metadata": {
        "id": "fZs9hVAFVzou"
      },
      "execution_count": null,
      "outputs": []
    },
    {
      "cell_type": "code",
      "source": [
        "X_test, y_test = test.as_numpy_iterator().next()\n",
        "\n",
        "base_model_loaded.evaluate(X_test, y_test)"
      ],
      "metadata": {
        "colab": {
          "base_uri": "https://localhost:8080/"
        },
        "id": "o7HmNcLZ_24U",
        "outputId": "03c81bfa-4e69-4c79-ecca-b5eeec854ab2"
      },
      "execution_count": null,
      "outputs": [
        {
          "output_type": "stream",
          "name": "stdout",
          "text": [
            "1/1 [==============================] - 2s 2s/step - loss: 0.1457 - recall_2: 0.7500 - precision_2: 0.8000\n"
          ]
        },
        {
          "output_type": "execute_result",
          "data": {
            "text/plain": [
              "[0.14569172263145447, 0.75, 0.800000011920929]"
            ]
          },
          "metadata": {},
          "execution_count": 23
        }
      ]
    },
    {
      "cell_type": "markdown",
      "source": [
        "Computing classification report on loaded model"
      ],
      "metadata": {
        "id": "rBF-c9RIaaJw"
      }
    },
    {
      "cell_type": "code",
      "source": [
        "from sklearn.metrics import classification_report\n",
        "import numpy as np\n",
        "\n",
        "# Create empty arrays/lists for true labels and predicted labels\n",
        "y_true = []\n",
        "y_pred = []\n",
        "\n",
        "# Iterate over the test dataset and make predictions\n",
        "for x, y in test:\n",
        "    # Predict the labels using the trained model\n",
        "    predictions = base_model_loaded.predict(x)\n",
        "    predicted_labels = np.argmax(predictions, axis=1)\n",
        "\n",
        "    # Store the true labels and predicted labels\n",
        "    y_true.extend(np.argmax(y, axis=1))\n",
        "    y_pred.extend(predicted_labels)\n",
        "\n",
        "# Convert the true labels and predicted labels to numpy arrays\n",
        "y_true = np.array(y_true)\n",
        "y_pred = np.array(y_pred)\n",
        "\n",
        "# Generate the classification report\n",
        "report = classification_report(y_true, y_pred)\n",
        "\n",
        "print(report)"
      ],
      "metadata": {
        "colab": {
          "base_uri": "https://localhost:8080/"
        },
        "id": "aDzT-LAkO9he",
        "outputId": "446de4e9-e69d-4342-e176-1bd2f754089d"
      },
      "execution_count": null,
      "outputs": [
        {
          "output_type": "stream",
          "name": "stdout",
          "text": [
            "1/1 [==============================] - 1s 1s/step\n",
            "1/1 [==============================] - 2s 2s/step\n",
            "1/1 [==============================] - 27s 27s/step\n",
            "1/1 [==============================] - 1s 1s/step\n",
            "1/1 [==============================] - 1s 798ms/step\n",
            "1/1 [==============================] - 1s 657ms/step\n",
            "1/1 [==============================] - 1s 559ms/step\n",
            "1/1 [==============================] - 0s 354ms/step\n",
            "1/1 [==============================] - 0s 400ms/step\n",
            "1/1 [==============================] - 0s 408ms/step\n",
            "1/1 [==============================] - 0s 287ms/step\n",
            "1/1 [==============================] - 0s 295ms/step\n",
            "1/1 [==============================] - 0s 272ms/step\n",
            "1/1 [==============================] - 0s 389ms/step\n",
            "1/1 [==============================] - 0s 300ms/step\n",
            "1/1 [==============================] - 0s 292ms/step\n",
            "1/1 [==============================] - 0s 292ms/step\n",
            "1/1 [==============================] - 0s 288ms/step\n",
            "1/1 [==============================] - 0s 285ms/step\n",
            "1/1 [==============================] - 0s 282ms/step\n",
            "1/1 [==============================] - 0s 300ms/step\n",
            "1/1 [==============================] - 0s 279ms/step\n",
            "1/1 [==============================] - 0s 282ms/step\n",
            "1/1 [==============================] - 0s 283ms/step\n",
            "1/1 [==============================] - 0s 285ms/step\n",
            "1/1 [==============================] - 0s 309ms/step\n",
            "1/1 [==============================] - 0s 378ms/step\n",
            "1/1 [==============================] - 0s 386ms/step\n",
            "1/1 [==============================] - 1s 504ms/step\n",
            "1/1 [==============================] - 1s 533ms/step\n",
            "1/1 [==============================] - 1s 541ms/step\n",
            "1/1 [==============================] - 1s 547ms/step\n",
            "1/1 [==============================] - 1s 533ms/step\n",
            "1/1 [==============================] - 1s 520ms/step\n",
            "1/1 [==============================] - 0s 286ms/step\n",
            "1/1 [==============================] - 0s 280ms/step\n",
            "1/1 [==============================] - 0s 304ms/step\n",
            "1/1 [==============================] - 0s 288ms/step\n",
            "1/1 [==============================] - 0s 290ms/step\n",
            "1/1 [==============================] - 0s 297ms/step\n",
            "1/1 [==============================] - 0s 281ms/step\n",
            "1/1 [==============================] - 0s 280ms/step\n",
            "1/1 [==============================] - 0s 297ms/step\n",
            "1/1 [==============================] - 0s 281ms/step\n",
            "1/1 [==============================] - 0s 293ms/step\n",
            "1/1 [==============================] - 0s 295ms/step\n",
            "1/1 [==============================] - 0s 295ms/step\n",
            "1/1 [==============================] - 0s 277ms/step\n",
            "1/1 [==============================] - 0s 291ms/step\n",
            "1/1 [==============================] - 0s 298ms/step\n",
            "1/1 [==============================] - 0s 284ms/step\n",
            "1/1 [==============================] - 0s 293ms/step\n",
            "1/1 [==============================] - 0s 288ms/step\n",
            "1/1 [==============================] - 0s 284ms/step\n",
            "1/1 [==============================] - 0s 297ms/step\n",
            "1/1 [==============================] - 0s 287ms/step\n",
            "1/1 [==============================] - 0s 278ms/step\n",
            "1/1 [==============================] - 0s 300ms/step\n",
            "1/1 [==============================] - 0s 285ms/step\n",
            "1/1 [==============================] - 0s 289ms/step\n",
            "1/1 [==============================] - 0s 302ms/step\n",
            "1/1 [==============================] - 0s 292ms/step\n",
            "1/1 [==============================] - 0s 277ms/step\n",
            "1/1 [==============================] - 0s 378ms/step\n",
            "1/1 [==============================] - 0s 495ms/step\n",
            "1/1 [==============================] - 1s 501ms/step\n",
            "1/1 [==============================] - 1s 554ms/step\n",
            "1/1 [==============================] - 1s 675ms/step\n",
            "1/1 [==============================] - 1s 995ms/step\n",
            "1/1 [==============================] - 1s 538ms/step\n",
            "1/1 [==============================] - 0s 342ms/step\n",
            "1/1 [==============================] - 0s 273ms/step\n",
            "1/1 [==============================] - 0s 294ms/step\n",
            "1/1 [==============================] - 0s 297ms/step\n",
            "1/1 [==============================] - 0s 289ms/step\n",
            "1/1 [==============================] - 0s 289ms/step\n",
            "1/1 [==============================] - 0s 291ms/step\n",
            "1/1 [==============================] - 0s 279ms/step\n",
            "1/1 [==============================] - 0s 296ms/step\n",
            "1/1 [==============================] - 0s 282ms/step\n",
            "1/1 [==============================] - 0s 105ms/step\n",
            "              precision    recall  f1-score   support\n",
            "\n",
            "           0       0.84      0.54      0.66       103\n",
            "           1       0.60      0.41      0.49        92\n",
            "           2       0.63      0.81      0.71       101\n",
            "           3       0.79      0.82      0.81        99\n",
            "           4       0.80      0.82      0.81        95\n",
            "           5       0.60      0.91      0.73        93\n",
            "           6       0.51      0.76      0.61        92\n",
            "           7       0.81      0.82      0.81        99\n",
            "           8       0.91      0.82      0.87       114\n",
            "           9       0.76      0.81      0.78        98\n",
            "          10       0.68      0.68      0.68       105\n",
            "          11       0.84      0.53      0.65       116\n",
            "          12       0.87      0.70      0.78        77\n",
            "\n",
            "    accuracy                           0.72      1284\n",
            "   macro avg       0.74      0.73      0.72      1284\n",
            "weighted avg       0.75      0.72      0.72      1284\n",
            "\n"
          ]
        }
      ]
    },
    {
      "cell_type": "code",
      "source": [
        "base_model.evaluate(X_test, y_test)"
      ],
      "metadata": {
        "colab": {
          "base_uri": "https://localhost:8080/"
        },
        "id": "NQHuZMlE_iOp",
        "outputId": "f17cc218-ade6-41e1-c75e-d6f3f6e5c57a"
      },
      "execution_count": null,
      "outputs": [
        {
          "output_type": "stream",
          "name": "stdout",
          "text": [
            "1/1 [==============================] - 0s 299ms/step - loss: 0.2188 - recall_2: 0.5000 - precision_2: 0.7273\n"
          ]
        },
        {
          "output_type": "execute_result",
          "data": {
            "text/plain": [
              "[0.21875151991844177, 0.5, 0.7272727489471436]"
            ]
          },
          "metadata": {},
          "execution_count": 58
        }
      ]
    },
    {
      "cell_type": "code",
      "source": [
        "from sklearn.metrics import classification_report\n",
        "import numpy as np\n",
        "\n",
        "# Create empty arrays/lists for true labels and predicted labels\n",
        "y_true = []\n",
        "y_pred = []\n",
        "\n",
        "# Iterate over the test dataset and make predictions\n",
        "for x, y in test:\n",
        "    # Predict the labels using the trained model\n",
        "    predictions = base_model.predict(x)\n",
        "    predicted_labels = np.argmax(predictions, axis=1)\n",
        "\n",
        "    # Store the true labels and predicted labels\n",
        "    y_true.extend(np.argmax(y, axis=1))\n",
        "    y_pred.extend(predicted_labels)\n",
        "\n",
        "# Convert the true labels and predicted labels to numpy arrays\n",
        "y_true = np.array(y_true)\n",
        "y_pred = np.array(y_pred)\n",
        "\n",
        "# Generate the classification report\n",
        "report = classification_report(y_true, y_pred)\n",
        "\n",
        "print(report)"
      ],
      "metadata": {
        "colab": {
          "base_uri": "https://localhost:8080/"
        },
        "id": "OMHAvPNhQxhX",
        "outputId": "a121b3e2-458a-48b6-8b97-99fad3131e88"
      },
      "execution_count": null,
      "outputs": [
        {
          "output_type": "stream",
          "name": "stdout",
          "text": [
            "1/1 [==============================] - 1s 580ms/step\n",
            "1/1 [==============================] - 1s 518ms/step\n",
            "1/1 [==============================] - 1s 540ms/step\n",
            "1/1 [==============================] - 0s 500ms/step\n",
            "1/1 [==============================] - 1s 572ms/step\n",
            "1/1 [==============================] - 1s 523ms/step\n",
            "1/1 [==============================] - 0s 487ms/step\n",
            "1/1 [==============================] - 0s 283ms/step\n",
            "1/1 [==============================] - 0s 301ms/step\n",
            "1/1 [==============================] - 0s 292ms/step\n",
            "1/1 [==============================] - 0s 291ms/step\n",
            "1/1 [==============================] - 0s 298ms/step\n",
            "1/1 [==============================] - 0s 283ms/step\n",
            "1/1 [==============================] - 0s 290ms/step\n",
            "1/1 [==============================] - 0s 294ms/step\n",
            "1/1 [==============================] - 0s 290ms/step\n",
            "1/1 [==============================] - 0s 285ms/step\n",
            "1/1 [==============================] - 0s 300ms/step\n",
            "1/1 [==============================] - 0s 286ms/step\n",
            "1/1 [==============================] - 0s 281ms/step\n",
            "1/1 [==============================] - 0s 300ms/step\n",
            "1/1 [==============================] - 0s 284ms/step\n",
            "1/1 [==============================] - 0s 294ms/step\n",
            "1/1 [==============================] - 0s 295ms/step\n",
            "1/1 [==============================] - 0s 282ms/step\n",
            "1/1 [==============================] - 0s 284ms/step\n",
            "1/1 [==============================] - 0s 291ms/step\n",
            "1/1 [==============================] - 0s 283ms/step\n",
            "1/1 [==============================] - 0s 284ms/step\n",
            "1/1 [==============================] - 0s 307ms/step\n",
            "1/1 [==============================] - 0s 283ms/step\n",
            "1/1 [==============================] - 0s 288ms/step\n",
            "1/1 [==============================] - 0s 297ms/step\n",
            "1/1 [==============================] - 0s 281ms/step\n",
            "1/1 [==============================] - 0s 294ms/step\n",
            "1/1 [==============================] - 0s 318ms/step\n",
            "1/1 [==============================] - 0s 479ms/step\n",
            "1/1 [==============================] - 1s 550ms/step\n",
            "1/1 [==============================] - 0s 486ms/step\n",
            "1/1 [==============================] - 1s 528ms/step\n",
            "1/1 [==============================] - 1s 539ms/step\n",
            "1/1 [==============================] - 1s 500ms/step\n",
            "1/1 [==============================] - 0s 484ms/step\n",
            "1/1 [==============================] - 0s 346ms/step\n",
            "1/1 [==============================] - 0s 286ms/step\n",
            "1/1 [==============================] - 0s 304ms/step\n",
            "1/1 [==============================] - 0s 281ms/step\n",
            "1/1 [==============================] - 0s 283ms/step\n",
            "1/1 [==============================] - 0s 300ms/step\n",
            "1/1 [==============================] - 0s 282ms/step\n",
            "1/1 [==============================] - 0s 280ms/step\n",
            "1/1 [==============================] - 0s 294ms/step\n",
            "1/1 [==============================] - 0s 282ms/step\n",
            "1/1 [==============================] - 0s 283ms/step\n",
            "1/1 [==============================] - 0s 307ms/step\n",
            "1/1 [==============================] - 0s 276ms/step\n",
            "1/1 [==============================] - 0s 276ms/step\n",
            "1/1 [==============================] - 0s 288ms/step\n",
            "1/1 [==============================] - 0s 285ms/step\n",
            "1/1 [==============================] - 0s 281ms/step\n",
            "1/1 [==============================] - 0s 295ms/step\n",
            "1/1 [==============================] - 0s 277ms/step\n",
            "1/1 [==============================] - 0s 288ms/step\n",
            "1/1 [==============================] - 0s 287ms/step\n",
            "1/1 [==============================] - 0s 282ms/step\n",
            "1/1 [==============================] - 0s 283ms/step\n",
            "1/1 [==============================] - 0s 283ms/step\n",
            "1/1 [==============================] - 0s 289ms/step\n",
            "1/1 [==============================] - 0s 284ms/step\n",
            "1/1 [==============================] - 0s 284ms/step\n",
            "1/1 [==============================] - 0s 279ms/step\n",
            "1/1 [==============================] - 0s 288ms/step\n",
            "1/1 [==============================] - 0s 303ms/step\n",
            "1/1 [==============================] - 0s 455ms/step\n",
            "1/1 [==============================] - 1s 557ms/step\n",
            "1/1 [==============================] - 0s 491ms/step\n",
            "1/1 [==============================] - 1s 500ms/step\n",
            "1/1 [==============================] - 1s 545ms/step\n",
            "1/1 [==============================] - 0s 482ms/step\n",
            "1/1 [==============================] - 1s 516ms/step\n",
            "1/1 [==============================] - 0s 142ms/step\n",
            "              precision    recall  f1-score   support\n",
            "\n",
            "           0       0.65      0.54      0.59        97\n",
            "           1       0.44      0.48      0.46       105\n",
            "           2       0.41      0.41      0.41        95\n",
            "           3       0.64      0.60      0.62       122\n",
            "           4       0.65      0.56      0.60        99\n",
            "           5       0.53      0.76      0.62        95\n",
            "           6       0.36      0.61      0.45        97\n",
            "           7       0.68      0.63      0.66       103\n",
            "           8       0.65      0.54      0.59        95\n",
            "           9       0.63      0.66      0.64        93\n",
            "          10       0.50      0.59      0.54        88\n",
            "          11       0.64      0.51      0.57       102\n",
            "          12       0.56      0.24      0.33        93\n",
            "\n",
            "    accuracy                           0.55      1284\n",
            "   macro avg       0.56      0.55      0.54      1284\n",
            "weighted avg       0.57      0.55      0.55      1284\n",
            "\n"
          ]
        }
      ]
    },
    {
      "cell_type": "markdown",
      "source": [
        "## Building a baseline model - now with accuracy for evaluation"
      ],
      "metadata": {
        "id": "Uc0G-tT9R57B"
      }
    },
    {
      "cell_type": "code",
      "source": [
        "data1 = dataset.map(preprocess_multy)\n",
        "data1 = data1.cache()\n",
        "data1 = data1.shuffle(buffer_size=1000)\n",
        "data1 = data1.batch(16)\n",
        "data1 = data1.prefetch(8)"
      ],
      "metadata": {
        "colab": {
          "base_uri": "https://localhost:8080/"
        },
        "id": "4j_JPwfGRx-X",
        "outputId": "e4d8fd0a-9ef7-498e-cc35-64df0082ac9d"
      },
      "execution_count": 15,
      "outputs": [
        {
          "output_type": "stream",
          "name": "stderr",
          "text": [
            "WARNING:tensorflow:Using a while_loop for converting IO>AudioResample cause there is no registered converter for this op.\n"
          ]
        }
      ]
    },
    {
      "cell_type": "code",
      "source": [
        "len(data1), type(data1)"
      ],
      "metadata": {
        "colab": {
          "base_uri": "https://localhost:8080/"
        },
        "id": "_DGtSL75RyKY",
        "outputId": "e7a178a4-ebc1-415e-dade-ce08bfb20c4b"
      },
      "execution_count": 17,
      "outputs": [
        {
          "output_type": "execute_result",
          "data": {
            "text/plain": [
              "(407, tensorflow.python.data.ops.prefetch_op._PrefetchDataset)"
            ]
          },
          "metadata": {},
          "execution_count": 17
        }
      ]
    },
    {
      "cell_type": "code",
      "source": [
        "train1 = data1.take(205)\n",
        "val1 = data1.skip(205).take(101)\n",
        "test1 = data1.skip(306).take(101)"
      ],
      "metadata": {
        "id": "wVPuu67tRyNy"
      },
      "execution_count": 16,
      "outputs": []
    },
    {
      "cell_type": "code",
      "source": [
        "samples, labels = train1.as_numpy_iterator().next()\n",
        "samples.shape, labels.shape"
      ],
      "metadata": {
        "colab": {
          "base_uri": "https://localhost:8080/"
        },
        "id": "4Zx1PgDjRyS9",
        "outputId": "65c8af2b-68c9-4be5-fa8f-59184d1b7620"
      },
      "execution_count": 18,
      "outputs": [
        {
          "output_type": "execute_result",
          "data": {
            "text/plain": [
              "((16, 491, 257, 1), (16, 13))"
            ]
          },
          "metadata": {},
          "execution_count": 18
        }
      ]
    },
    {
      "cell_type": "code",
      "source": [
        "from tensorflow.keras.models import Sequential\n",
        "from tensorflow.keras.layers import Conv2D, Dense, Flatten\n",
        "\n",
        "base_model_acc = Sequential()\n",
        "base_model_acc.add(Conv2D(8, (3,3), activation='relu', input_shape=(491, 257,1)))\n",
        "base_model_acc.add(Flatten())\n",
        "base_model_acc.add(Dense(13, activation='softmax'))"
      ],
      "metadata": {
        "id": "t_Y9-K7hRyXA"
      },
      "execution_count": 19,
      "outputs": []
    },
    {
      "cell_type": "code",
      "source": [
        "base_model_acc.compile('Adam', loss='BinaryCrossentropy', metrics=['accuracy'])"
      ],
      "metadata": {
        "id": "dra68PLbRyY9"
      },
      "execution_count": 20,
      "outputs": []
    },
    {
      "cell_type": "code",
      "source": [
        "base_model_acc.summary()"
      ],
      "metadata": {
        "colab": {
          "base_uri": "https://localhost:8080/"
        },
        "id": "WIaon54wRya8",
        "outputId": "ac1fbeb0-50d2-420d-eccd-74df0a218200"
      },
      "execution_count": 21,
      "outputs": [
        {
          "output_type": "stream",
          "name": "stdout",
          "text": [
            "Model: \"sequential\"\n",
            "_________________________________________________________________\n",
            " Layer (type)                Output Shape              Param #   \n",
            "=================================================================\n",
            " conv2d (Conv2D)             (None, 489, 255, 8)       80        \n",
            "                                                                 \n",
            " flatten (Flatten)           (None, 997560)            0         \n",
            "                                                                 \n",
            " dense (Dense)               (None, 13)                12968293  \n",
            "                                                                 \n",
            "=================================================================\n",
            "Total params: 12,968,373\n",
            "Trainable params: 12,968,373\n",
            "Non-trainable params: 0\n",
            "_________________________________________________________________\n"
          ]
        }
      ]
    },
    {
      "cell_type": "code",
      "source": [
        "from keras.models import load_model\n",
        "\n",
        "base_model_acc = load_model('/content/gdrive/MyDrive/speech_recognition/baseline_acc_10')"
      ],
      "metadata": {
        "id": "2WvEPR07-nqB"
      },
      "execution_count": 17,
      "outputs": []
    },
    {
      "cell_type": "code",
      "source": [
        "for i in range(5):\n",
        "  hist1 = base_model_acc.fit(train1, validation_data=val1, epochs=1)\n",
        "  base_model_acc.save('/content/gdrive/MyDrive/speech_recognition/baseline_acc_10')\n"
      ],
      "metadata": {
        "colab": {
          "base_uri": "https://localhost:8080/"
        },
        "id": "4yriDTZFRydS",
        "outputId": "9cf9b834-ec5a-458f-e5c8-02cbe481ac2a"
      },
      "execution_count": null,
      "outputs": [
        {
          "output_type": "stream",
          "name": "stdout",
          "text": [
            "205/205 [==============================] - 345s 2s/step - loss: 0.1871 - accuracy: 0.5473 - val_loss: 0.4401 - val_accuracy: 0.3843\n"
          ]
        },
        {
          "output_type": "stream",
          "name": "stderr",
          "text": [
            "WARNING:absl:Found untraced functions such as _jit_compiled_convolution_op, _update_step_xla while saving (showing 2 of 2). These functions will not be directly callable after loading.\n"
          ]
        },
        {
          "output_type": "stream",
          "name": "stdout",
          "text": [
            "187/205 [==========================>...] - ETA: 15s - loss: 0.1444 - accuracy: 0.6915"
          ]
        }
      ]
    },
    {
      "cell_type": "code",
      "source": [
        "from sklearn.metrics import classification_report\n",
        "import numpy as np\n",
        "\n",
        "# Create empty arrays/lists for true labels and predicted labels\n",
        "y_true = []\n",
        "y_pred = []\n",
        "\n",
        "# Iterate over the test dataset and make predictions\n",
        "for x, y in test1:\n",
        "    # Predict the labels using the trained model\n",
        "    predictions = base_model_acc.predict(x)\n",
        "    predicted_labels = np.argmax(predictions, axis=1)\n",
        "\n",
        "    # Store the true labels and predicted labels\n",
        "    y_true.extend(np.argmax(y, axis=1))\n",
        "    y_pred.extend(predicted_labels)\n",
        "\n",
        "# Convert the true labels and predicted labels to numpy arrays\n",
        "y_true = np.array(y_true)\n",
        "y_pred = np.array(y_pred)\n",
        "\n",
        "y_true.shape, y_pred.shape\n",
        "\n",
        "# Generate the classification report\n",
        "# report = classification_report(y_true, y_pred)\n",
        "\n",
        "# print(report)"
      ],
      "metadata": {
        "colab": {
          "base_uri": "https://localhost:8080/"
        },
        "id": "Fmvlw1j9RzTl",
        "outputId": "cbb6bf6b-afac-4072-8555-37a7c02c9f27"
      },
      "execution_count": null,
      "outputs": [
        {
          "output_type": "execute_result",
          "data": {
            "text/plain": [
              "((0,), (0,))"
            ]
          },
          "metadata": {},
          "execution_count": 35
        }
      ]
    },
    {
      "cell_type": "code",
      "source": [],
      "metadata": {
        "id": "ieJTGoA8RzW0"
      },
      "execution_count": null,
      "outputs": []
    }
  ]
}