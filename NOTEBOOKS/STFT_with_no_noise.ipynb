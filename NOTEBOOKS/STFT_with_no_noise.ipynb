{
  "nbformat": 4,
  "nbformat_minor": 0,
  "metadata": {
    "colab": {
      "provenance": [],
      "gpuType": "T4"
    },
    "kernelspec": {
      "name": "python3",
      "display_name": "Python 3"
    },
    "language_info": {
      "name": "python"
    },
    "accelerator": "GPU"
  },
  "cells": [
    {
      "cell_type": "markdown",
      "source": [
        "**1. Import**"
      ],
      "metadata": {
        "id": "W74qrLVeDqKY"
      }
    },
    {
      "cell_type": "code",
      "execution_count": null,
      "metadata": {
        "id": "Lr1Ycoc6CnLL"
      },
      "outputs": [],
      "source": [
        "# path = '/content/drive/MyDrive/Kaggle/speech_recognition/'\n",
        "path = '/content/gdrive/MyDrive/speech_recognition/'\n",
        "classes = ['yes', 'no', 'one', 'two', 'three', 'four', 'five', 'six', 'seven', 'eight', 'nine', 'up', 'down']"
      ]
    },
    {
      "cell_type": "code",
      "source": [
        "from google.colab import drive\n",
        "drive.mount('/content/gdrive')"
      ],
      "metadata": {
        "colab": {
          "base_uri": "https://localhost:8080/"
        },
        "id": "H0o8YApsN9vj",
        "outputId": "4ee96d7e-1909-4e81-ef74-9e7070b0eeb6"
      },
      "execution_count": null,
      "outputs": [
        {
          "output_type": "stream",
          "name": "stdout",
          "text": [
            "Mounted at /content/gdrive\n"
          ]
        }
      ]
    },
    {
      "cell_type": "markdown",
      "source": [
        "**2. Creating the dataset**"
      ],
      "metadata": {
        "id": "zqJ3qCXAD0fA"
      }
    },
    {
      "cell_type": "code",
      "source": [
        "import os\n",
        "import tensorflow as tf\n",
        "import soundfile as sf\n",
        "import numpy as np\n",
        "import librosa\n",
        "\n",
        "tf_dic_train = {}\n",
        "tf_dic_val = {}\n",
        "tf_dic_test = {}\n",
        "FILES_TO_LOAD = 500\n",
        "\n",
        "# Read file names from testing_list.txt and validation_list.txt\n",
        "with open(os.path.join(path, \"testing_list.txt\"), 'r') as file:\n",
        "    test_names = file.read().splitlines()\n",
        "with open(os.path.join(path, \"validation_list.txt\"), 'r') as file:\n",
        "    val_names = file.read().splitlines()\n",
        "\n",
        "for i, label in enumerate(classes):\n",
        "    train_tmp = []\n",
        "    val_tmp = []\n",
        "    test_tmp = []\n",
        "    for filename in os.listdir(os.path.join(path, label)):\n",
        "        file_path = os.path.join(path, label, filename)\n",
        "        if \"/\".join([label, filename]) in test_names:\n",
        "            if len(test_tmp) >= FILES_TO_LOAD * 0.1:\n",
        "                pass\n",
        "            else:\n",
        "                audio, sample_rate = librosa.load(file_path, sr=16000)\n",
        "                audio = librosa.util.fix_length(audio, size=16000)\n",
        "                test_tmp.append(librosa.feature.melspectrogram(y=audio, sr=sample_rate, hop_length=512))\n",
        "        elif \"/\".join([label, filename]) in val_names:\n",
        "            if len(val_tmp) >= FILES_TO_LOAD * 0.1:\n",
        "                pass\n",
        "            else:\n",
        "                audio, sample_rate = librosa.load(file_path, sr=16000)\n",
        "                audio = librosa.util.fix_length(audio, size=16000)\n",
        "                val_tmp.append(librosa.feature.melspectrogram(y=audio, sr=sample_rate, hop_length=512))\n",
        "        else:\n",
        "            if len(train_tmp) >= FILES_TO_LOAD * 0.8:\n",
        "                pass\n",
        "            else:\n",
        "                audio, sample_rate = librosa.load(file_path, sr=16000)\n",
        "                audio = librosa.util.fix_length(audio, size=16000)\n",
        "                train_tmp.append(librosa.feature.melspectrogram(y=audio, sr=sample_rate, hop_length=512))\n",
        "\n",
        "    train_tmp_tf = tf.data.Dataset.from_tensor_slices(train_tmp)\n",
        "    val_tmp_tf = tf.data.Dataset.from_tensor_slices(val_tmp)\n",
        "    test_tmp_tf = tf.data.Dataset.from_tensor_slices(test_tmp)\n",
        "\n",
        "    tf_dic_train[label] = tf.data.Dataset.zip((train_tmp_tf, tf.data.Dataset.from_tensor_slices(tf.fill((len(train_tmp_tf),), i))))\n",
        "    tf_dic_val[label] = tf.data.Dataset.zip((val_tmp_tf, tf.data.Dataset.from_tensor_slices(tf.fill((len(val_tmp_tf),), i))))\n",
        "    tf_dic_test[label] = tf.data.Dataset.zip((test_tmp_tf, tf.data.Dataset.from_tensor_slices(tf.fill((len(test_tmp_tf),), i))))\n",
        "\n",
        "datasets_train = list(tf_dic_train.values())\n",
        "datasets_val = list(tf_dic_val.values())\n",
        "datasets_test = list(tf_dic_test.values())"
      ],
      "metadata": {
        "id": "mSKdUBq_CoxZ"
      },
      "execution_count": null,
      "outputs": []
    },
    {
      "cell_type": "markdown",
      "source": [
        "**3. Preprocessing**"
      ],
      "metadata": {
        "id": "SyQot2xzD11w"
      }
    },
    {
      "cell_type": "code",
      "source": [
        "from functools import reduce\n",
        "\n",
        "def dataset_reduce(datasets):\n",
        "  merged_dataset_reduce = reduce(lambda d1, d2: d1.concatenate(d2), datasets)\n",
        "  return merged_dataset_reduce.shuffle(buffer_size=1000)"
      ],
      "metadata": {
        "id": "o-s6JHdFDcxA"
      },
      "execution_count": null,
      "outputs": []
    },
    {
      "cell_type": "code",
      "source": [
        "datasets_train = dataset_reduce(datasets_train)\n",
        "datasets_val = dataset_reduce(datasets_val)\n",
        "datasets_test = dataset_reduce(datasets_test)"
      ],
      "metadata": {
        "id": "-cj4v33hDJV_"
      },
      "execution_count": null,
      "outputs": []
    },
    {
      "cell_type": "code",
      "source": [
        "len(datasets_train), len(datasets_val), len(datasets_test)"
      ],
      "metadata": {
        "colab": {
          "base_uri": "https://localhost:8080/"
        },
        "id": "6MGtYOGbDgoG",
        "outputId": "f6a64b4d-f88b-4321-cf20-35b693d311ec"
      },
      "execution_count": null,
      "outputs": [
        {
          "output_type": "execute_result",
          "data": {
            "text/plain": [
              "(5171, 650, 650)"
            ]
          },
          "metadata": {},
          "execution_count": 6
        }
      ]
    },
    {
      "cell_type": "code",
      "source": [
        "def preprocess_multy(stft, label):\n",
        "  return stft, tf.one_hot(label, 13)"
      ],
      "metadata": {
        "id": "s_fdG15tF9Th"
      },
      "execution_count": null,
      "outputs": []
    },
    {
      "cell_type": "code",
      "source": [
        "# Train data:\n",
        "train_data = datasets_train.map(preprocess_multy)\n",
        "train_data = train_data.cache()\n",
        "train_data = train_data.shuffle(buffer_size=1000)\n",
        "train_data = train_data.batch(32)\n",
        "train_data = train_data.prefetch(16)"
      ],
      "metadata": {
        "id": "6ZcQhNGQGOeK"
      },
      "execution_count": null,
      "outputs": []
    },
    {
      "cell_type": "code",
      "source": [
        "# Validation data:\n",
        "val_data = datasets_val.map(preprocess_multy)\n",
        "val_data = val_data.cache()\n",
        "val_data = val_data.shuffle(buffer_size=1000)\n",
        "val_data = val_data.batch(32)\n",
        "val_data = val_data.prefetch(16)"
      ],
      "metadata": {
        "id": "aM8GYfNdGQf6"
      },
      "execution_count": null,
      "outputs": []
    },
    {
      "cell_type": "code",
      "source": [
        "# Test data:\n",
        "test_data = datasets_test.map(preprocess_multy)\n",
        "test_data = test_data.cache()\n",
        "test_data = test_data.shuffle(buffer_size=1000)\n",
        "test_data = test_data.batch(32)\n",
        "test_data = test_data.prefetch(16)"
      ],
      "metadata": {
        "id": "KMDVls6yGTxB"
      },
      "execution_count": null,
      "outputs": []
    },
    {
      "cell_type": "code",
      "source": [
        "samples, labels = train_data.as_numpy_iterator().next()\n",
        "samples.shape, labels.shape"
      ],
      "metadata": {
        "colab": {
          "base_uri": "https://localhost:8080/"
        },
        "id": "iYdRIaizGXo4",
        "outputId": "7c831936-6236-4f8d-9323-760b7c1c54a1"
      },
      "execution_count": null,
      "outputs": [
        {
          "output_type": "execute_result",
          "data": {
            "text/plain": [
              "((32, 128, 32), (32, 13))"
            ]
          },
          "metadata": {},
          "execution_count": 11
        }
      ]
    },
    {
      "cell_type": "markdown",
      "source": [
        "**4. The model**"
      ],
      "metadata": {
        "id": "N2W16ybHD5im"
      }
    },
    {
      "cell_type": "code",
      "source": [
        "import tensorflow as tf\n",
        "from tensorflow import keras\n",
        "from tensorflow.keras.models import Sequential\n",
        "from tensorflow.keras import layers"
      ],
      "metadata": {
        "id": "MM9PHi30R761"
      },
      "execution_count": null,
      "outputs": []
    },
    {
      "cell_type": "code",
      "source": [
        "model = tf.keras.Sequential([\n",
        "    layers.Reshape((128, 32, 1), input_shape=(128, 32)),\n",
        "    layers.Conv2D(32, (3, 3), activation='relu'),\n",
        "    # layers.MaxPooling2D((3, 3)),\n",
        "    # layers.Dropout(0.5),\n",
        "    layers.Conv2D(64, (3, 3), activation='relu'),\n",
        "    layers.MaxPooling2D((3, 3)),\n",
        "    layers.Dropout(0.5),\n",
        "    layers.Conv2D(128, (3, 3), activation='relu'),\n",
        "    layers.MaxPooling2D((3, 3)),\n",
        "    layers.Dropout(0.5),\n",
        "    layers.Flatten(),\n",
        "    # layers.Dense(128, activation='relu'),\n",
        "    #layers.Dropout(0.1),\n",
        "    layers.Dense(64, activation='relu'),\n",
        "    #layers.Dropout(0.5),\n",
        "    layers.Dense(13, activation='softmax')\n",
        "])"
      ],
      "metadata": {
        "id": "GOQ5EvuyRNjP"
      },
      "execution_count": null,
      "outputs": []
    },
    {
      "cell_type": "code",
      "source": [
        "# Define the learning rate schedule\n",
        "\n",
        "initial_learning_rate = 0.002\n",
        "lr_schedule = tf.keras.optimizers.schedules.ExponentialDecay(\n",
        "    initial_learning_rate, decay_steps=200, decay_rate=0.99, staircase=True)\n",
        "\n",
        "# Define the optimizer with the learning rate schedule\n",
        "optimizer_decay = tf.keras.optimizers.Adam(learning_rate=lr_schedule)"
      ],
      "metadata": {
        "id": "H-2Og7SuRUN1"
      },
      "execution_count": null,
      "outputs": []
    },
    {
      "cell_type": "code",
      "source": [
        "# Compile the model\n",
        "model.compile(optimizer=optimizer_decay,\n",
        "              loss=tf.keras.losses.CategoricalCrossentropy(),\n",
        "              metrics=['accuracy', tf.keras.metrics.Recall(),tf.keras.metrics.Precision()])\n",
        "\n",
        "# Print model summary\n",
        "model.summary()"
      ],
      "metadata": {
        "colab": {
          "base_uri": "https://localhost:8080/"
        },
        "id": "0w8yz7XHGdJJ",
        "outputId": "e3536215-e811-450e-826a-b627dac1df0e"
      },
      "execution_count": null,
      "outputs": [
        {
          "output_type": "stream",
          "name": "stdout",
          "text": [
            "Model: \"sequential\"\n",
            "_________________________________________________________________\n",
            " Layer (type)                Output Shape              Param #   \n",
            "=================================================================\n",
            " reshape (Reshape)           (None, 128, 32, 1)        0         \n",
            "                                                                 \n",
            " conv2d (Conv2D)             (None, 126, 30, 32)       320       \n",
            "                                                                 \n",
            " conv2d_1 (Conv2D)           (None, 124, 28, 64)       18496     \n",
            "                                                                 \n",
            " max_pooling2d (MaxPooling2D  (None, 41, 9, 64)        0         \n",
            " )                                                               \n",
            "                                                                 \n",
            " dropout (Dropout)           (None, 41, 9, 64)         0         \n",
            "                                                                 \n",
            " conv2d_2 (Conv2D)           (None, 39, 7, 128)        73856     \n",
            "                                                                 \n",
            " max_pooling2d_1 (MaxPooling  (None, 13, 2, 128)       0         \n",
            " 2D)                                                             \n",
            "                                                                 \n",
            " dropout_1 (Dropout)         (None, 13, 2, 128)        0         \n",
            "                                                                 \n",
            " flatten (Flatten)           (None, 3328)              0         \n",
            "                                                                 \n",
            " dense (Dense)               (None, 64)                213056    \n",
            "                                                                 \n",
            " dense_1 (Dense)             (None, 13)                845       \n",
            "                                                                 \n",
            "=================================================================\n",
            "Total params: 306,573\n",
            "Trainable params: 306,573\n",
            "Non-trainable params: 0\n",
            "_________________________________________________________________\n"
          ]
        }
      ]
    },
    {
      "cell_type": "markdown",
      "source": [
        "**5. Training the model**"
      ],
      "metadata": {
        "id": "MyoAlxRiD97s"
      }
    },
    {
      "cell_type": "code",
      "source": [
        "early_stopping = tf.keras.callbacks.EarlyStopping(monitor='val_loss', patience=10)\n",
        "model_checkpoint = tf.keras.callbacks.ModelCheckpoint('model.h5', monitor='val_accuracy', save_best_only=True)\n",
        "\n",
        "# Train the model with callbacks\n",
        "history = model.fit(train_data,\n",
        "                    epochs=50,\n",
        "                    validation_data=val_data,\n",
        "                    callbacks=[early_stopping, model_checkpoint])"
      ],
      "metadata": {
        "colab": {
          "base_uri": "https://localhost:8080/"
        },
        "id": "xBhAcZNEHvdu",
        "outputId": "04657e83-420d-4429-96f6-ea444d40d964"
      },
      "execution_count": null,
      "outputs": [
        {
          "output_type": "stream",
          "name": "stdout",
          "text": [
            "Epoch 1/50\n",
            "162/162 [==============================] - 15s 20ms/step - loss: 2.7638 - accuracy: 0.2365 - recall: 0.0383 - precision: 0.3517 - val_loss: 2.7829 - val_accuracy: 0.1000 - val_recall: 0.0031 - val_precision: 0.1818\n",
            "Epoch 2/50\n",
            "162/162 [==============================] - 2s 13ms/step - loss: 2.2257 - accuracy: 0.2591 - recall: 0.0364 - precision: 0.5311 - val_loss: 2.5451 - val_accuracy: 0.2031 - val_recall: 0.0400 - val_precision: 0.3095\n",
            "Epoch 3/50\n",
            "162/162 [==============================] - 2s 13ms/step - loss: 1.9557 - accuracy: 0.3297 - recall: 0.0789 - precision: 0.5939 - val_loss: 2.3654 - val_accuracy: 0.2415 - val_recall: 0.0538 - val_precision: 0.4545\n",
            "Epoch 4/50\n",
            "162/162 [==============================] - 2s 14ms/step - loss: 1.8573 - accuracy: 0.3686 - recall: 0.1116 - precision: 0.6067 - val_loss: 2.2407 - val_accuracy: 0.2308 - val_recall: 0.0631 - val_precision: 0.4659\n",
            "Epoch 5/50\n",
            "162/162 [==============================] - 2s 12ms/step - loss: 1.7536 - accuracy: 0.3986 - recall: 0.1555 - precision: 0.6306 - val_loss: 2.2915 - val_accuracy: 0.2446 - val_recall: 0.1185 - val_precision: 0.4031\n",
            "Epoch 6/50\n",
            "162/162 [==============================] - 2s 13ms/step - loss: 1.7220 - accuracy: 0.4169 - recall: 0.1704 - precision: 0.6445 - val_loss: 2.1195 - val_accuracy: 0.3308 - val_recall: 0.1523 - val_precision: 0.4783\n",
            "Epoch 7/50\n",
            "162/162 [==============================] - 2s 13ms/step - loss: 1.6409 - accuracy: 0.4483 - recall: 0.2060 - precision: 0.6478 - val_loss: 1.9828 - val_accuracy: 0.3185 - val_recall: 0.1185 - val_precision: 0.4639\n",
            "Epoch 8/50\n",
            "162/162 [==============================] - 2s 12ms/step - loss: 1.5879 - accuracy: 0.4680 - recall: 0.2288 - precision: 0.6443 - val_loss: 2.1305 - val_accuracy: 0.3231 - val_recall: 0.1969 - val_precision: 0.4339\n",
            "Epoch 9/50\n",
            "162/162 [==============================] - 2s 13ms/step - loss: 1.5779 - accuracy: 0.4753 - recall: 0.2468 - precision: 0.6547 - val_loss: 1.9383 - val_accuracy: 0.3123 - val_recall: 0.1292 - val_precision: 0.4828\n",
            "Epoch 10/50\n",
            "162/162 [==============================] - 2s 14ms/step - loss: 1.4958 - accuracy: 0.4941 - recall: 0.2783 - precision: 0.6589 - val_loss: 1.9759 - val_accuracy: 0.3523 - val_recall: 0.2246 - val_precision: 0.5069\n",
            "Epoch 11/50\n",
            "162/162 [==============================] - 2s 12ms/step - loss: 1.4433 - accuracy: 0.5187 - recall: 0.3059 - precision: 0.6875 - val_loss: 1.8463 - val_accuracy: 0.3908 - val_recall: 0.2569 - val_precision: 0.5387\n",
            "Epoch 12/50\n",
            "162/162 [==============================] - 2s 12ms/step - loss: 1.4331 - accuracy: 0.5140 - recall: 0.3166 - precision: 0.6878 - val_loss: 1.7218 - val_accuracy: 0.4046 - val_recall: 0.2031 - val_precision: 0.5764\n",
            "Epoch 13/50\n",
            "162/162 [==============================] - 2s 12ms/step - loss: 1.3376 - accuracy: 0.5461 - recall: 0.3676 - precision: 0.7144 - val_loss: 1.6676 - val_accuracy: 0.4308 - val_recall: 0.2631 - val_precision: 0.6333\n",
            "Epoch 14/50\n",
            "162/162 [==============================] - 2s 12ms/step - loss: 1.3186 - accuracy: 0.5595 - recall: 0.3756 - precision: 0.7222 - val_loss: 1.6503 - val_accuracy: 0.4431 - val_recall: 0.3092 - val_precision: 0.5947\n",
            "Epoch 15/50\n",
            "162/162 [==============================] - 2s 13ms/step - loss: 1.2604 - accuracy: 0.5740 - recall: 0.4061 - precision: 0.7410 - val_loss: 1.5487 - val_accuracy: 0.4646 - val_recall: 0.3108 - val_precision: 0.6372\n",
            "Epoch 16/50\n",
            "162/162 [==============================] - 2s 14ms/step - loss: 1.1817 - accuracy: 0.6059 - recall: 0.4547 - precision: 0.7430 - val_loss: 1.5777 - val_accuracy: 0.4615 - val_recall: 0.3215 - val_precision: 0.6276\n",
            "Epoch 17/50\n",
            "162/162 [==============================] - 2s 12ms/step - loss: 1.1764 - accuracy: 0.6080 - recall: 0.4603 - precision: 0.7419 - val_loss: 1.5213 - val_accuracy: 0.4923 - val_recall: 0.3600 - val_precision: 0.6393\n",
            "Epoch 18/50\n",
            "162/162 [==============================] - 2s 12ms/step - loss: 1.0774 - accuracy: 0.6482 - recall: 0.5144 - precision: 0.7668 - val_loss: 1.4938 - val_accuracy: 0.5185 - val_recall: 0.3800 - val_precision: 0.6466\n",
            "Epoch 19/50\n",
            "162/162 [==============================] - 2s 12ms/step - loss: 1.0278 - accuracy: 0.6536 - recall: 0.5347 - precision: 0.7795 - val_loss: 1.4015 - val_accuracy: 0.5292 - val_recall: 0.3908 - val_precision: 0.6791\n",
            "Epoch 20/50\n",
            "162/162 [==============================] - 2s 12ms/step - loss: 0.9942 - accuracy: 0.6687 - recall: 0.5560 - precision: 0.7830 - val_loss: 1.4624 - val_accuracy: 0.5215 - val_recall: 0.4062 - val_precision: 0.6584\n",
            "Epoch 21/50\n",
            "162/162 [==============================] - 2s 13ms/step - loss: 0.9598 - accuracy: 0.6869 - recall: 0.5802 - precision: 0.7987 - val_loss: 1.3635 - val_accuracy: 0.5600 - val_recall: 0.4231 - val_precision: 0.6773\n",
            "Epoch 22/50\n",
            "162/162 [==============================] - 2s 14ms/step - loss: 0.9355 - accuracy: 0.6960 - recall: 0.5904 - precision: 0.7973 - val_loss: 1.2154 - val_accuracy: 0.6092 - val_recall: 0.4646 - val_precision: 0.7420\n",
            "Epoch 23/50\n",
            "162/162 [==============================] - 2s 12ms/step - loss: 0.9058 - accuracy: 0.7109 - recall: 0.6094 - precision: 0.8153 - val_loss: 1.2252 - val_accuracy: 0.6015 - val_recall: 0.4862 - val_precision: 0.7215\n",
            "Epoch 24/50\n",
            "162/162 [==============================] - 2s 12ms/step - loss: 0.8495 - accuracy: 0.7208 - recall: 0.6314 - precision: 0.8146 - val_loss: 1.1388 - val_accuracy: 0.6431 - val_recall: 0.5200 - val_precision: 0.7445\n",
            "Epoch 25/50\n",
            "162/162 [==============================] - 2s 12ms/step - loss: 0.8701 - accuracy: 0.7124 - recall: 0.6190 - precision: 0.8106 - val_loss: 1.1857 - val_accuracy: 0.6246 - val_recall: 0.5154 - val_precision: 0.7251\n",
            "Epoch 26/50\n",
            "162/162 [==============================] - 2s 12ms/step - loss: 0.8441 - accuracy: 0.7264 - recall: 0.6426 - precision: 0.8185 - val_loss: 1.1187 - val_accuracy: 0.6492 - val_recall: 0.5308 - val_precision: 0.7372\n",
            "Epoch 27/50\n",
            "162/162 [==============================] - 2s 13ms/step - loss: 0.7817 - accuracy: 0.7428 - recall: 0.6643 - precision: 0.8255 - val_loss: 1.0875 - val_accuracy: 0.6692 - val_recall: 0.5600 - val_precision: 0.7615\n",
            "Epoch 28/50\n",
            "162/162 [==============================] - 2s 14ms/step - loss: 0.7560 - accuracy: 0.7544 - recall: 0.6714 - precision: 0.8360 - val_loss: 1.0194 - val_accuracy: 0.6969 - val_recall: 0.5877 - val_precision: 0.7860\n",
            "Epoch 29/50\n",
            "162/162 [==============================] - 2s 12ms/step - loss: 0.6992 - accuracy: 0.7716 - recall: 0.7055 - precision: 0.8490 - val_loss: 1.0128 - val_accuracy: 0.6862 - val_recall: 0.6015 - val_precision: 0.7697\n",
            "Epoch 30/50\n",
            "162/162 [==============================] - 2s 12ms/step - loss: 0.7030 - accuracy: 0.7675 - recall: 0.7101 - precision: 0.8438 - val_loss: 1.0624 - val_accuracy: 0.6800 - val_recall: 0.5892 - val_precision: 0.7569\n",
            "Epoch 31/50\n",
            "162/162 [==============================] - 2s 12ms/step - loss: 0.7056 - accuracy: 0.7691 - recall: 0.7049 - precision: 0.8463 - val_loss: 0.9983 - val_accuracy: 0.7046 - val_recall: 0.5800 - val_precision: 0.8073\n",
            "Epoch 32/50\n",
            "162/162 [==============================] - 2s 12ms/step - loss: 0.6783 - accuracy: 0.7871 - recall: 0.7275 - precision: 0.8566 - val_loss: 1.1212 - val_accuracy: 0.6846 - val_recall: 0.6000 - val_precision: 0.7573\n",
            "Epoch 33/50\n",
            "162/162 [==============================] - 2s 13ms/step - loss: 0.6754 - accuracy: 0.7790 - recall: 0.7204 - precision: 0.8518 - val_loss: 0.9996 - val_accuracy: 0.6831 - val_recall: 0.6046 - val_precision: 0.7736\n",
            "Epoch 34/50\n",
            "162/162 [==============================] - 2s 14ms/step - loss: 0.5960 - accuracy: 0.8031 - recall: 0.7474 - precision: 0.8685 - val_loss: 0.9968 - val_accuracy: 0.7046 - val_recall: 0.6431 - val_precision: 0.7712\n",
            "Epoch 35/50\n",
            "162/162 [==============================] - 2s 12ms/step - loss: 0.5996 - accuracy: 0.8051 - recall: 0.7515 - precision: 0.8668 - val_loss: 0.9544 - val_accuracy: 0.6908 - val_recall: 0.6169 - val_precision: 0.7624\n",
            "Epoch 36/50\n",
            "162/162 [==============================] - 2s 12ms/step - loss: 0.5655 - accuracy: 0.8182 - recall: 0.7681 - precision: 0.8759 - val_loss: 0.8934 - val_accuracy: 0.7215 - val_recall: 0.6385 - val_precision: 0.7890\n",
            "Epoch 37/50\n",
            "162/162 [==============================] - 2s 12ms/step - loss: 0.5590 - accuracy: 0.8138 - recall: 0.7633 - precision: 0.8721 - val_loss: 0.8832 - val_accuracy: 0.7308 - val_recall: 0.6754 - val_precision: 0.8085\n",
            "Epoch 38/50\n",
            "162/162 [==============================] - 2s 12ms/step - loss: 0.5522 - accuracy: 0.8142 - recall: 0.7693 - precision: 0.8760 - val_loss: 0.8896 - val_accuracy: 0.7323 - val_recall: 0.6569 - val_precision: 0.7996\n",
            "Epoch 39/50\n",
            "162/162 [==============================] - 2s 13ms/step - loss: 0.5218 - accuracy: 0.8304 - recall: 0.7890 - precision: 0.8833 - val_loss: 0.8861 - val_accuracy: 0.7369 - val_recall: 0.6738 - val_precision: 0.7935\n",
            "Epoch 40/50\n",
            "162/162 [==============================] - 2s 14ms/step - loss: 0.5396 - accuracy: 0.8258 - recall: 0.7840 - precision: 0.8811 - val_loss: 0.9078 - val_accuracy: 0.7292 - val_recall: 0.6769 - val_precision: 0.7857\n",
            "Epoch 41/50\n",
            "162/162 [==============================] - 2s 12ms/step - loss: 0.5178 - accuracy: 0.8321 - recall: 0.7884 - precision: 0.8823 - val_loss: 0.8539 - val_accuracy: 0.7446 - val_recall: 0.6754 - val_precision: 0.8115\n",
            "Epoch 42/50\n",
            "162/162 [==============================] - 2s 12ms/step - loss: 0.5206 - accuracy: 0.8302 - recall: 0.7886 - precision: 0.8821 - val_loss: 0.9011 - val_accuracy: 0.7492 - val_recall: 0.7123 - val_precision: 0.8195\n",
            "Epoch 43/50\n",
            "162/162 [==============================] - 2s 12ms/step - loss: 0.5116 - accuracy: 0.8368 - recall: 0.7917 - precision: 0.8917 - val_loss: 0.8709 - val_accuracy: 0.7400 - val_recall: 0.6800 - val_precision: 0.7935\n",
            "Epoch 44/50\n",
            "162/162 [==============================] - 2s 12ms/step - loss: 0.4905 - accuracy: 0.8436 - recall: 0.8045 - precision: 0.8906 - val_loss: 0.8107 - val_accuracy: 0.7631 - val_recall: 0.7169 - val_precision: 0.8262\n",
            "Epoch 45/50\n",
            "162/162 [==============================] - 2s 13ms/step - loss: 0.4927 - accuracy: 0.8358 - recall: 0.7991 - precision: 0.8859 - val_loss: 0.8069 - val_accuracy: 0.7523 - val_recall: 0.7015 - val_precision: 0.8085\n",
            "Epoch 46/50\n",
            "162/162 [==============================] - 2s 14ms/step - loss: 0.4527 - accuracy: 0.8495 - recall: 0.8130 - precision: 0.8998 - val_loss: 0.7964 - val_accuracy: 0.7677 - val_recall: 0.7246 - val_precision: 0.8263\n",
            "Epoch 47/50\n",
            "162/162 [==============================] - 2s 13ms/step - loss: 0.4516 - accuracy: 0.8523 - recall: 0.8167 - precision: 0.8968 - val_loss: 0.8352 - val_accuracy: 0.7631 - val_recall: 0.7246 - val_precision: 0.8278\n",
            "Epoch 48/50\n",
            "162/162 [==============================] - 2s 12ms/step - loss: 0.4554 - accuracy: 0.8511 - recall: 0.8149 - precision: 0.8926 - val_loss: 0.8332 - val_accuracy: 0.7431 - val_recall: 0.7062 - val_precision: 0.8010\n",
            "Epoch 49/50\n",
            "162/162 [==============================] - 2s 12ms/step - loss: 0.4336 - accuracy: 0.8581 - recall: 0.8234 - precision: 0.8993 - val_loss: 0.8933 - val_accuracy: 0.7354 - val_recall: 0.6923 - val_precision: 0.7759\n",
            "Epoch 50/50\n",
            "162/162 [==============================] - 2s 12ms/step - loss: 0.4372 - accuracy: 0.8596 - recall: 0.8287 - precision: 0.9084 - val_loss: 0.8478 - val_accuracy: 0.7508 - val_recall: 0.6985 - val_precision: 0.7965\n"
          ]
        }
      ]
    },
    {
      "cell_type": "code",
      "source": [
        "# Save the model\n",
        "\n",
        "model.save(path + \"model_stft_77\")"
      ],
      "metadata": {
        "colab": {
          "base_uri": "https://localhost:8080/"
        },
        "id": "lkTDIDHaJL6W",
        "outputId": "2fdfbf48-3e09-4ddd-878a-17a7b1eb7828"
      },
      "execution_count": null,
      "outputs": [
        {
          "output_type": "stream",
          "name": "stderr",
          "text": [
            "WARNING:absl:Found untraced functions such as _jit_compiled_convolution_op, _jit_compiled_convolution_op, _jit_compiled_convolution_op while saving (showing 3 of 3). These functions will not be directly callable after loading.\n"
          ]
        }
      ]
    },
    {
      "cell_type": "markdown",
      "source": [
        "**6. Results**"
      ],
      "metadata": {
        "id": "xY457hNrECOc"
      }
    },
    {
      "cell_type": "code",
      "source": [
        "# Evaluate the model on the test data\n",
        "test_loss, test_accuracy, test_recall, test_precision = model.evaluate(test_data)\n",
        "\n",
        "print('Test Loss:', test_loss)\n",
        "print('Test Accuracy:', test_accuracy)\n",
        "print('Test Recall:', test_recall)\n",
        "print('Test Precision:', test_precision)"
      ],
      "metadata": {
        "colab": {
          "base_uri": "https://localhost:8080/"
        },
        "id": "XrFIQ4GwKDLN",
        "outputId": "e7098b53-7bc7-41d9-bf3a-61858fa23c0b"
      },
      "execution_count": null,
      "outputs": [
        {
          "output_type": "stream",
          "name": "stdout",
          "text": [
            "21/21 [==============================] - 0s 6ms/step - loss: 0.7405 - accuracy: 0.7723 - recall: 0.7338 - precision: 0.8398\n",
            "Test Loss: 0.7405123710632324\n",
            "Test Accuracy: 0.7723076939582825\n",
            "Test Recall: 0.733846127986908\n",
            "Test Precision: 0.8397887349128723\n"
          ]
        }
      ]
    },
    {
      "cell_type": "code",
      "source": [
        "import matplotlib.pyplot as plt\n",
        "\n",
        "# Access the loss and accuracy values from the history object\n",
        "train_loss = history.history['loss']\n",
        "val_loss = history.history['val_loss']\n",
        "train_accuracy = history.history['accuracy']\n",
        "val_accuracy = history.history['val_accuracy']\n",
        "\n",
        "# Plot training and validation loss\n",
        "plt.figure()\n",
        "plt.plot(train_loss, label='Training Loss')\n",
        "plt.plot(val_loss, label='Validation Loss')\n",
        "plt.xlabel('Epoch')\n",
        "plt.ylabel('Loss')\n",
        "plt.title('Training and Validation Loss without Noise')\n",
        "plt.legend()\n",
        "plt.show()\n",
        "\n",
        "# Plot training and validation accuracy\n",
        "plt.figure()\n",
        "plt.plot(train_accuracy, label='Training Accuracy')\n",
        "plt.plot(val_accuracy, label='Validation Accuracy')\n",
        "plt.xlabel('Epoch')\n",
        "plt.ylabel('Accuracy')\n",
        "plt.title('Training and Validation Accuracy without Noise')\n",
        "plt.legend()\n",
        "plt.show()"
      ],
      "metadata": {
        "id": "pEKixR_lKHt3",
        "colab": {
          "base_uri": "https://localhost:8080/",
          "height": 927
        },
        "outputId": "6100aea1-f137-4133-c424-1e85e50edc20"
      },
      "execution_count": null,
      "outputs": [
        {
          "output_type": "display_data",
          "data": {
            "text/plain": [
              "<Figure size 640x480 with 1 Axes>"
            ],
            "image/png": "[encoded data removed]"
          },
          "metadata": {}
        },
        {
          "output_type": "display_data",
          "data": {
            "text/plain": [
              "<Figure size 640x480 with 1 Axes>"
            ],
            "image/png": "[encoded data removed]"
          },
          "metadata": {}
        }
      ]
    }
  ]
}