{
  "nbformat": 4,
  "nbformat_minor": 0,
  "metadata": {
    "colab": {
      "provenance": [],
      "gpuType": "T4"
    },
    "kernelspec": {
      "name": "python3",
      "display_name": "Python 3"
    },
    "language_info": {
      "name": "python"
    },
    "accelerator": "GPU"
  },
  "cells": [
    {
      "cell_type": "markdown",
      "source": [
        "**1. Import**"
      ],
      "metadata": {
        "id": "BnJTfWpcAQPX"
      }
    },
    {
      "cell_type": "code",
      "execution_count": null,
      "metadata": {
        "colab": {
          "base_uri": "https://localhost:8080/"
        },
        "id": "M-CZAqAXLCrv",
        "outputId": "37ebcf76-171c-4503-c592-6ab95497b8b1"
      },
      "outputs": [
        {
          "output_type": "stream",
          "name": "stdout",
          "text": [
            "Requirement already satisfied: pydub in /usr/local/lib/python3.10/dist-packages (0.25.1)\n"
          ]
        }
      ],
      "source": [
        "!pip install pydub"
      ]
    },
    {
      "cell_type": "code",
      "source": [
        "path = '/content/gdrive/MyDrive/Final_Project/speech_recognition/'\n",
        "classes = ['yes', 'no', 'one', 'two', 'three', 'four', 'five', 'six', 'seven', 'eight', 'nine', 'up', 'down']"
      ],
      "metadata": {
        "id": "iFUDuDBnLmGV"
      },
      "execution_count": null,
      "outputs": []
    },
    {
      "cell_type": "code",
      "source": [
        "from google.colab import drive\n",
        "drive.mount('/content/gdrive')"
      ],
      "metadata": {
        "id": "08qAo1wvLzdI",
        "outputId": "22e66fbd-b9af-441f-887c-4d7d39450969",
        "colab": {
          "base_uri": "https://localhost:8080/"
        }
      },
      "execution_count": null,
      "outputs": [
        {
          "output_type": "stream",
          "name": "stdout",
          "text": [
            "Drive already mounted at /content/gdrive; to attempt to forcibly remount, call drive.mount(\"/content/gdrive\", force_remount=True).\n"
          ]
        }
      ]
    },
    {
      "cell_type": "code",
      "source": [
        "import os\n",
        "import tensorflow as tf\n",
        "import soundfile as sf\n",
        "import numpy as np\n",
        "import librosa\n",
        "from glob import glob\n",
        "from IPython.display import Audio\n",
        "from pydub import AudioSegment\n",
        "import random\n",
        "from math import sqrt"
      ],
      "metadata": {
        "id": "wcJJjFmVL1FY"
      },
      "execution_count": null,
      "outputs": []
    },
    {
      "cell_type": "markdown",
      "source": [
        "**2. Creating the dataset**"
      ],
      "metadata": {
        "id": "PvCUBwjEAUDX"
      }
    },
    {
      "cell_type": "code",
      "source": [
        "import os\n",
        "import tensorflow as tf\n",
        "import soundfile as sf\n",
        "import numpy as np\n",
        "import librosa\n",
        "\n",
        "tf_dic_train = {}\n",
        "tf_dic_val = {}\n",
        "tf_dic_test = {}\n",
        "FILES_TO_LOAD = 500\n",
        "\n",
        "# Read file names from testing_list.txt and validation_list.txt\n",
        "with open(os.path.join(path, \"testing_list.txt\"), 'r') as file:\n",
        "    test_names = file.read().splitlines()\n",
        "with open(os.path.join(path, \"validation_list.txt\"), 'r') as file:\n",
        "    val_names = file.read().splitlines()\n",
        "\n",
        "for i, label in enumerate(classes):\n",
        "    train_tmp = []\n",
        "    val_tmp = []\n",
        "    test_tmp = []\n",
        "    for filename in os.listdir(os.path.join(path, label)):\n",
        "        file_path = os.path.join(path, label, filename)\n",
        "        if \"/\".join([label, filename]) in test_names:\n",
        "            if len(test_tmp) >= FILES_TO_LOAD * 0.1:\n",
        "                pass\n",
        "            else:\n",
        "                audio, sample_rate = librosa.load(file_path, sr=16000)\n",
        "                audio = librosa.util.fix_length(audio, size=16000)\n",
        "                test_tmp.append(librosa.feature.mfcc(y=audio, sr=sample_rate))\n",
        "        elif \"/\".join([label, filename]) in val_names:\n",
        "            if len(val_tmp) >= FILES_TO_LOAD * 0.1:\n",
        "                pass\n",
        "            else:\n",
        "                audio, sample_rate = librosa.load(file_path, sr=16000)\n",
        "                audio = librosa.util.fix_length(audio, size=16000)\n",
        "                val_tmp.append(librosa.feature.mfcc(y=audio, sr=sample_rate))\n",
        "        else:\n",
        "            if len(train_tmp) >= FILES_TO_LOAD * 0.8:\n",
        "                pass\n",
        "            else:\n",
        "                audio, sample_rate = librosa.load(file_path, sr=16000)\n",
        "                audio = librosa.util.fix_length(audio, size=16000)\n",
        "                train_tmp.append(librosa.feature.mfcc(y=audio, sr=sample_rate))\n",
        "\n",
        "    train_tmp_tf = tf.data.Dataset.from_tensor_slices(train_tmp)\n",
        "    val_tmp_tf = tf.data.Dataset.from_tensor_slices(val_tmp)\n",
        "    test_tmp_tf = tf.data.Dataset.from_tensor_slices(test_tmp)\n",
        "\n",
        "    tf_dic_train[label] = tf.data.Dataset.zip((train_tmp_tf, tf.data.Dataset.from_tensor_slices(tf.fill((len(train_tmp_tf),), i))))\n",
        "    tf_dic_val[label] = tf.data.Dataset.zip((val_tmp_tf, tf.data.Dataset.from_tensor_slices(tf.fill((len(val_tmp_tf),), i))))\n",
        "    tf_dic_test[label] = tf.data.Dataset.zip((test_tmp_tf, tf.data.Dataset.from_tensor_slices(tf.fill((len(test_tmp_tf),), i))))\n",
        "\n",
        "datasets_train = list(tf_dic_train.values())\n",
        "datasets_val = list(tf_dic_val.values())\n",
        "datasets_test = list(tf_dic_test.values())"
      ],
      "metadata": {
        "id": "qTtX8ri8L6v8"
      },
      "execution_count": null,
      "outputs": []
    },
    {
      "cell_type": "code",
      "source": [
        "from functools import reduce\n",
        "\n",
        "def dataset_reduce(datasets):\n",
        "  merged_dataset_reduce = reduce(lambda d1, d2: d1.concatenate(d2), datasets)\n",
        "  return merged_dataset_reduce.shuffle(buffer_size=1000)"
      ],
      "metadata": {
        "id": "x5IEQj0CNcE7"
      },
      "execution_count": null,
      "outputs": []
    },
    {
      "cell_type": "code",
      "source": [
        "datasets_train = dataset_reduce(datasets_train)\n",
        "datasets_val = dataset_reduce(datasets_val)\n",
        "datasets_test = dataset_reduce(datasets_test)"
      ],
      "metadata": {
        "id": "kBEEktpIObsQ"
      },
      "execution_count": null,
      "outputs": []
    },
    {
      "cell_type": "code",
      "source": [
        "len(datasets_train), len(datasets_val), len(datasets_test)"
      ],
      "metadata": {
        "id": "Zkj5SECLOdIV",
        "outputId": "6ff5bed8-e6d8-4e18-eb28-66fa498f4a44",
        "colab": {
          "base_uri": "https://localhost:8080/"
        }
      },
      "execution_count": null,
      "outputs": [
        {
          "output_type": "execute_result",
          "data": {
            "text/plain": [
              "(5171, 650, 650)"
            ]
          },
          "metadata": {},
          "execution_count": 12
        }
      ]
    },
    {
      "cell_type": "markdown",
      "source": [
        "**3. Preprocessing**"
      ],
      "metadata": {
        "id": "Kd3rOzi9AVmy"
      }
    },
    {
      "cell_type": "code",
      "source": [
        "def preprocess_multy(mfcc, label):\n",
        "  return mfcc, tf.one_hot(label, 13)"
      ],
      "metadata": {
        "id": "MyaGvhZSOe1F"
      },
      "execution_count": null,
      "outputs": []
    },
    {
      "cell_type": "code",
      "source": [
        "train_data = datasets_train.map(preprocess_multy)\n",
        "train_data = train_data.cache()\n",
        "train_data = train_data.shuffle(buffer_size=1000)\n",
        "train_data = train_data.batch(32)\n",
        "train_data = train_data.prefetch(16)"
      ],
      "metadata": {
        "id": "4ovYFtA0OgPs"
      },
      "execution_count": null,
      "outputs": []
    },
    {
      "cell_type": "code",
      "source": [
        "# Validation data:\n",
        "val_data = datasets_val.map(preprocess_multy)\n",
        "val_data = val_data.cache()\n",
        "val_data = val_data.shuffle(buffer_size=1000)\n",
        "val_data = val_data.batch(32)\n",
        "val_data = val_data.prefetch(8)"
      ],
      "metadata": {
        "id": "JmPswAkxOh8X"
      },
      "execution_count": null,
      "outputs": []
    },
    {
      "cell_type": "code",
      "source": [
        "# Test data:\n",
        "test_data = datasets_test.map(preprocess_multy)\n",
        "test_data = test_data.cache()\n",
        "test_data = test_data.shuffle(buffer_size=1000)\n",
        "test_data = test_data.batch(32)\n",
        "test_data = test_data.prefetch(8)"
      ],
      "metadata": {
        "id": "qwCiVLQPOjiF"
      },
      "execution_count": null,
      "outputs": []
    },
    {
      "cell_type": "code",
      "source": [
        "samples, labels = train_data.as_numpy_iterator().next()\n",
        "samples.shape, labels.shape"
      ],
      "metadata": {
        "id": "tZ1_uJIXOlok",
        "outputId": "05f79877-3ec8-45ff-d98c-6cf03ca7f660",
        "colab": {
          "base_uri": "https://localhost:8080/"
        }
      },
      "execution_count": null,
      "outputs": [
        {
          "output_type": "execute_result",
          "data": {
            "text/plain": [
              "((32, 20, 32), (32, 13))"
            ]
          },
          "metadata": {},
          "execution_count": 17
        }
      ]
    },
    {
      "cell_type": "markdown",
      "source": [
        "**4. The model**"
      ],
      "metadata": {
        "id": "UPrBPr2KAcB_"
      }
    },
    {
      "cell_type": "code",
      "source": [
        "import tensorflow as tf\n",
        "from tensorflow.keras import layers\n",
        "\n",
        "model_test_2 = tf.keras.Sequential([\n",
        "    layers.Reshape((20, 32, 1), input_shape=(20, 32)),\n",
        "    layers.Conv2D(32, (3, 3), activation='relu'),\n",
        "    layers.MaxPooling2D((2, 2)),\n",
        "    layers.Conv2D(64, (3, 3), activation='relu'),\n",
        "    layers.MaxPooling2D((2, 2)),\n",
        "    layers.Conv2D(128, (3, 3), activation='relu'),\n",
        "    layers.Flatten(),\n",
        "    layers.Dense(128, activation='relu'),\n",
        "    layers.Dropout(0.1),\n",
        "    layers.Dense(64, activation='relu'),\n",
        "    layers.Dropout(0.5),\n",
        "    layers.Dense(13, activation='softmax')\n",
        "])"
      ],
      "metadata": {
        "id": "hbiTJ5roOnvj"
      },
      "execution_count": null,
      "outputs": []
    },
    {
      "cell_type": "markdown",
      "source": [
        "**5. Training the model**"
      ],
      "metadata": {
        "id": "jSMMC-boAh2p"
      }
    },
    {
      "cell_type": "code",
      "source": [
        "\n",
        "initial_learning_rate = 0.001\n",
        "lr_schedule = tf.keras.optimizers.schedules.ExponentialDecay(\n",
        "    initial_learning_rate, decay_steps=200, decay_rate=0.99, staircase=True)\n",
        "\n",
        "# Define the optimizer with the learning rate schedule\n",
        "optimizer_decay = tf.keras.optimizers.Adam(learning_rate=lr_schedule)"
      ],
      "metadata": {
        "id": "FckWQ2rVO0BN"
      },
      "execution_count": null,
      "outputs": []
    },
    {
      "cell_type": "code",
      "source": [
        "model_test_2.compile(optimizer=optimizer_decay,\n",
        "              loss=tf.keras.losses.CategoricalCrossentropy(),\n",
        "              metrics=['accuracy'])"
      ],
      "metadata": {
        "id": "TV3hZhCaO1fM"
      },
      "execution_count": null,
      "outputs": []
    },
    {
      "cell_type": "code",
      "source": [
        "model_checkpoint = tf.keras.callbacks.ModelCheckpoint('model.h5', monitor='val_accuracy', save_best_only=True)\n",
        "\n",
        "# Train the model with callbacks\n",
        "history = model_test_2.fit(train_data,\n",
        "                    epochs=100,\n",
        "                    validation_data=val_data,\n",
        "                    callbacks=[model_checkpoint])"
      ],
      "metadata": {
        "id": "u52WxtcCO24R",
        "outputId": "9b7e21e0-73bc-471a-8aa8-8fd4b73ddace",
        "colab": {
          "base_uri": "https://localhost:8080/"
        }
      },
      "execution_count": null,
      "outputs": [
        {
          "output_type": "stream",
          "name": "stdout",
          "text": [
            "Epoch 1/100\n",
            "162/162 [==============================] - 18s 13ms/step - loss: 2.3987 - accuracy: 0.2108 - val_loss: 2.3456 - val_accuracy: 0.2508\n",
            "Epoch 2/100\n",
            "162/162 [==============================] - 1s 5ms/step - loss: 1.9655 - accuracy: 0.3334 - val_loss: 1.9692 - val_accuracy: 0.3462\n",
            "Epoch 3/100\n",
            "162/162 [==============================] - 1s 5ms/step - loss: 1.5625 - accuracy: 0.4802 - val_loss: 1.6121 - val_accuracy: 0.4938\n",
            "Epoch 4/100\n",
            "162/162 [==============================] - 1s 5ms/step - loss: 1.1007 - accuracy: 0.6438 - val_loss: 1.3287 - val_accuracy: 0.6492\n",
            "Epoch 5/100\n",
            "162/162 [==============================] - 1s 5ms/step - loss: 0.8463 - accuracy: 0.7389 - val_loss: 1.0689 - val_accuracy: 0.7000\n",
            "Epoch 6/100\n",
            "162/162 [==============================] - 1s 6ms/step - loss: 0.6664 - accuracy: 0.8012 - val_loss: 0.8937 - val_accuracy: 0.7369\n",
            "Epoch 7/100\n",
            "162/162 [==============================] - 1s 5ms/step - loss: 0.5123 - accuracy: 0.8416 - val_loss: 0.8416 - val_accuracy: 0.7692\n",
            "Epoch 8/100\n",
            "162/162 [==============================] - 1s 6ms/step - loss: 0.4806 - accuracy: 0.8515 - val_loss: 0.8973 - val_accuracy: 0.7600\n",
            "Epoch 9/100\n",
            "162/162 [==============================] - 1s 8ms/step - loss: 0.4118 - accuracy: 0.8737 - val_loss: 0.8623 - val_accuracy: 0.7538\n",
            "Epoch 10/100\n",
            "162/162 [==============================] - 1s 8ms/step - loss: 0.3614 - accuracy: 0.8905 - val_loss: 0.8118 - val_accuracy: 0.7738\n",
            "Epoch 11/100\n",
            "162/162 [==============================] - 1s 6ms/step - loss: 0.3355 - accuracy: 0.8983 - val_loss: 0.9086 - val_accuracy: 0.7938\n",
            "Epoch 12/100\n",
            "162/162 [==============================] - 1s 6ms/step - loss: 0.2704 - accuracy: 0.9265 - val_loss: 0.8468 - val_accuracy: 0.8015\n",
            "Epoch 13/100\n",
            "162/162 [==============================] - 1s 5ms/step - loss: 0.2556 - accuracy: 0.9288 - val_loss: 0.8800 - val_accuracy: 0.8000\n",
            "Epoch 14/100\n",
            "162/162 [==============================] - 1s 6ms/step - loss: 0.2613 - accuracy: 0.9215 - val_loss: 0.8100 - val_accuracy: 0.8323\n",
            "Epoch 15/100\n",
            "162/162 [==============================] - 1s 5ms/step - loss: 0.2132 - accuracy: 0.9344 - val_loss: 0.7773 - val_accuracy: 0.8185\n",
            "Epoch 16/100\n",
            "162/162 [==============================] - 1s 5ms/step - loss: 0.1599 - accuracy: 0.9491 - val_loss: 0.6993 - val_accuracy: 0.8385\n",
            "Epoch 17/100\n",
            "162/162 [==============================] - 1s 5ms/step - loss: 0.1747 - accuracy: 0.9476 - val_loss: 0.8067 - val_accuracy: 0.8477\n",
            "Epoch 18/100\n",
            "162/162 [==============================] - 1s 5ms/step - loss: 0.1662 - accuracy: 0.9495 - val_loss: 0.8099 - val_accuracy: 0.8138\n",
            "Epoch 19/100\n",
            "162/162 [==============================] - 1s 5ms/step - loss: 0.1736 - accuracy: 0.9499 - val_loss: 0.9474 - val_accuracy: 0.8231\n",
            "Epoch 20/100\n",
            "162/162 [==============================] - 1s 5ms/step - loss: 0.1494 - accuracy: 0.9567 - val_loss: 0.8058 - val_accuracy: 0.8462\n",
            "Epoch 21/100\n",
            "162/162 [==============================] - 1s 7ms/step - loss: 0.1051 - accuracy: 0.9696 - val_loss: 0.8333 - val_accuracy: 0.8585\n",
            "Epoch 22/100\n",
            "162/162 [==============================] - 1s 7ms/step - loss: 0.0843 - accuracy: 0.9756 - val_loss: 0.9695 - val_accuracy: 0.8354\n",
            "Epoch 23/100\n",
            "162/162 [==============================] - 1s 8ms/step - loss: 0.0867 - accuracy: 0.9756 - val_loss: 0.9012 - val_accuracy: 0.8692\n",
            "Epoch 24/100\n",
            "162/162 [==============================] - 1s 5ms/step - loss: 0.1070 - accuracy: 0.9704 - val_loss: 1.2168 - val_accuracy: 0.8262\n",
            "Epoch 25/100\n",
            "162/162 [==============================] - 1s 5ms/step - loss: 0.0679 - accuracy: 0.9803 - val_loss: 0.9941 - val_accuracy: 0.8585\n",
            "Epoch 26/100\n",
            "162/162 [==============================] - 1s 5ms/step - loss: 0.0978 - accuracy: 0.9710 - val_loss: 0.9950 - val_accuracy: 0.8569\n",
            "Epoch 27/100\n",
            "162/162 [==============================] - 1s 5ms/step - loss: 0.0714 - accuracy: 0.9797 - val_loss: 1.0834 - val_accuracy: 0.8585\n",
            "Epoch 28/100\n",
            "162/162 [==============================] - 1s 5ms/step - loss: 0.0744 - accuracy: 0.9783 - val_loss: 1.0798 - val_accuracy: 0.8554\n",
            "Epoch 29/100\n",
            "162/162 [==============================] - 1s 5ms/step - loss: 0.1000 - accuracy: 0.9749 - val_loss: 0.9177 - val_accuracy: 0.8538\n",
            "Epoch 30/100\n",
            "162/162 [==============================] - 1s 5ms/step - loss: 0.0771 - accuracy: 0.9799 - val_loss: 0.8127 - val_accuracy: 0.8677\n",
            "Epoch 31/100\n",
            "162/162 [==============================] - 1s 5ms/step - loss: 0.0530 - accuracy: 0.9851 - val_loss: 1.0661 - val_accuracy: 0.8569\n",
            "Epoch 32/100\n",
            "162/162 [==============================] - 1s 5ms/step - loss: 0.0635 - accuracy: 0.9849 - val_loss: 1.1798 - val_accuracy: 0.8262\n",
            "Epoch 33/100\n",
            "162/162 [==============================] - 1s 7ms/step - loss: 0.0482 - accuracy: 0.9853 - val_loss: 1.0566 - val_accuracy: 0.8431\n",
            "Epoch 34/100\n",
            "162/162 [==============================] - 1s 8ms/step - loss: 0.0425 - accuracy: 0.9878 - val_loss: 1.1052 - val_accuracy: 0.8446\n",
            "Epoch 35/100\n",
            "162/162 [==============================] - 1s 9ms/step - loss: 0.0615 - accuracy: 0.9834 - val_loss: 1.1722 - val_accuracy: 0.8431\n",
            "Epoch 36/100\n",
            "162/162 [==============================] - 2s 10ms/step - loss: 0.0887 - accuracy: 0.9758 - val_loss: 1.1285 - val_accuracy: 0.8338\n",
            "Epoch 37/100\n",
            "162/162 [==============================] - 1s 6ms/step - loss: 0.0649 - accuracy: 0.9822 - val_loss: 1.0381 - val_accuracy: 0.8569\n",
            "Epoch 38/100\n",
            "162/162 [==============================] - 1s 5ms/step - loss: 0.0626 - accuracy: 0.9841 - val_loss: 0.8855 - val_accuracy: 0.8523\n",
            "Epoch 39/100\n",
            "162/162 [==============================] - 1s 5ms/step - loss: 0.0331 - accuracy: 0.9909 - val_loss: 1.0359 - val_accuracy: 0.8708\n",
            "Epoch 40/100\n",
            "162/162 [==============================] - 1s 5ms/step - loss: 0.0312 - accuracy: 0.9907 - val_loss: 1.2045 - val_accuracy: 0.8615\n",
            "Epoch 41/100\n",
            "162/162 [==============================] - 1s 5ms/step - loss: 0.0242 - accuracy: 0.9928 - val_loss: 1.2113 - val_accuracy: 0.8585\n",
            "Epoch 42/100\n",
            "162/162 [==============================] - 1s 5ms/step - loss: 0.0212 - accuracy: 0.9940 - val_loss: 1.1139 - val_accuracy: 0.8631\n",
            "Epoch 43/100\n",
            "162/162 [==============================] - 1s 5ms/step - loss: 0.0177 - accuracy: 0.9956 - val_loss: 1.1530 - val_accuracy: 0.8738\n",
            "Epoch 44/100\n",
            "162/162 [==============================] - 1s 5ms/step - loss: 0.0383 - accuracy: 0.9911 - val_loss: 1.1539 - val_accuracy: 0.8754\n",
            "Epoch 45/100\n",
            "162/162 [==============================] - 1s 6ms/step - loss: 0.0636 - accuracy: 0.9845 - val_loss: 1.3646 - val_accuracy: 0.8477\n",
            "Epoch 46/100\n",
            "162/162 [==============================] - 2s 12ms/step - loss: 0.0475 - accuracy: 0.9882 - val_loss: 1.1480 - val_accuracy: 0.8662\n",
            "Epoch 47/100\n",
            "162/162 [==============================] - 1s 8ms/step - loss: 0.0181 - accuracy: 0.9936 - val_loss: 1.3565 - val_accuracy: 0.8723\n",
            "Epoch 48/100\n",
            "162/162 [==============================] - 1s 5ms/step - loss: 0.0184 - accuracy: 0.9940 - val_loss: 1.3079 - val_accuracy: 0.8723\n",
            "Epoch 49/100\n",
            "162/162 [==============================] - 1s 5ms/step - loss: 0.0146 - accuracy: 0.9950 - val_loss: 1.4519 - val_accuracy: 0.8554\n",
            "Epoch 50/100\n",
            "162/162 [==============================] - 1s 5ms/step - loss: 0.0455 - accuracy: 0.9888 - val_loss: 1.2870 - val_accuracy: 0.8600\n",
            "Epoch 51/100\n",
            "162/162 [==============================] - 1s 6ms/step - loss: 0.0567 - accuracy: 0.9870 - val_loss: 1.2993 - val_accuracy: 0.8646\n",
            "Epoch 52/100\n",
            "162/162 [==============================] - 1s 5ms/step - loss: 0.0408 - accuracy: 0.9894 - val_loss: 1.3001 - val_accuracy: 0.8554\n",
            "Epoch 53/100\n",
            "162/162 [==============================] - 1s 5ms/step - loss: 0.0749 - accuracy: 0.9841 - val_loss: 1.2805 - val_accuracy: 0.8569\n",
            "Epoch 54/100\n",
            "162/162 [==============================] - 1s 5ms/step - loss: 0.0558 - accuracy: 0.9867 - val_loss: 1.4625 - val_accuracy: 0.8123\n",
            "Epoch 55/100\n",
            "162/162 [==============================] - 1s 5ms/step - loss: 0.0223 - accuracy: 0.9930 - val_loss: 1.1590 - val_accuracy: 0.8754\n",
            "Epoch 56/100\n",
            "162/162 [==============================] - 1s 6ms/step - loss: 0.0105 - accuracy: 0.9979 - val_loss: 1.1797 - val_accuracy: 0.8877\n",
            "Epoch 57/100\n",
            "162/162 [==============================] - 1s 7ms/step - loss: 0.0230 - accuracy: 0.9940 - val_loss: 1.3529 - val_accuracy: 0.8585\n",
            "Epoch 58/100\n",
            "162/162 [==============================] - 1s 8ms/step - loss: 0.0115 - accuracy: 0.9963 - val_loss: 1.6595 - val_accuracy: 0.8477\n",
            "Epoch 59/100\n",
            "162/162 [==============================] - 1s 7ms/step - loss: 0.0198 - accuracy: 0.9950 - val_loss: 1.5258 - val_accuracy: 0.8646\n",
            "Epoch 60/100\n",
            "162/162 [==============================] - 1s 6ms/step - loss: 0.0271 - accuracy: 0.9928 - val_loss: 1.2396 - val_accuracy: 0.8769\n",
            "Epoch 61/100\n",
            "162/162 [==============================] - 1s 5ms/step - loss: 0.0166 - accuracy: 0.9946 - val_loss: 1.2638 - val_accuracy: 0.8769\n",
            "Epoch 62/100\n",
            "162/162 [==============================] - 1s 5ms/step - loss: 0.0134 - accuracy: 0.9969 - val_loss: 1.3583 - val_accuracy: 0.8708\n",
            "Epoch 63/100\n",
            "162/162 [==============================] - 1s 5ms/step - loss: 0.0628 - accuracy: 0.9849 - val_loss: 1.5117 - val_accuracy: 0.8585\n",
            "Epoch 64/100\n",
            "162/162 [==============================] - 1s 5ms/step - loss: 0.0230 - accuracy: 0.9936 - val_loss: 1.2532 - val_accuracy: 0.8785\n",
            "Epoch 65/100\n",
            "162/162 [==============================] - 1s 5ms/step - loss: 0.0219 - accuracy: 0.9938 - val_loss: 1.6180 - val_accuracy: 0.8538\n",
            "Epoch 66/100\n",
            "162/162 [==============================] - 1s 6ms/step - loss: 0.0357 - accuracy: 0.9907 - val_loss: 1.4961 - val_accuracy: 0.8646\n",
            "Epoch 67/100\n",
            "162/162 [==============================] - 1s 5ms/step - loss: 0.0232 - accuracy: 0.9940 - val_loss: 1.3891 - val_accuracy: 0.8692\n",
            "Epoch 68/100\n",
            "162/162 [==============================] - 1s 5ms/step - loss: 0.0095 - accuracy: 0.9965 - val_loss: 1.7552 - val_accuracy: 0.8585\n",
            "Epoch 69/100\n",
            "162/162 [==============================] - 1s 5ms/step - loss: 0.0169 - accuracy: 0.9957 - val_loss: 1.4722 - val_accuracy: 0.8738\n",
            "Epoch 70/100\n",
            "162/162 [==============================] - 1s 8ms/step - loss: 0.0075 - accuracy: 0.9977 - val_loss: 1.6170 - val_accuracy: 0.8554\n",
            "Epoch 71/100\n",
            "162/162 [==============================] - 1s 6ms/step - loss: 0.0105 - accuracy: 0.9973 - val_loss: 1.6105 - val_accuracy: 0.8769\n",
            "Epoch 72/100\n",
            "162/162 [==============================] - 1s 8ms/step - loss: 0.0073 - accuracy: 0.9979 - val_loss: 1.5526 - val_accuracy: 0.8692\n",
            "Epoch 73/100\n",
            "162/162 [==============================] - 1s 6ms/step - loss: 0.0392 - accuracy: 0.9930 - val_loss: 1.6478 - val_accuracy: 0.8462\n",
            "Epoch 74/100\n",
            "162/162 [==============================] - 1s 5ms/step - loss: 0.0323 - accuracy: 0.9911 - val_loss: 1.2868 - val_accuracy: 0.8708\n",
            "Epoch 75/100\n",
            "162/162 [==============================] - 1s 5ms/step - loss: 0.0221 - accuracy: 0.9956 - val_loss: 1.2112 - val_accuracy: 0.8800\n",
            "Epoch 76/100\n",
            "162/162 [==============================] - 1s 5ms/step - loss: 0.0118 - accuracy: 0.9959 - val_loss: 1.2591 - val_accuracy: 0.8569\n",
            "Epoch 77/100\n",
            "162/162 [==============================] - 1s 5ms/step - loss: 0.0127 - accuracy: 0.9967 - val_loss: 1.4958 - val_accuracy: 0.8785\n",
            "Epoch 78/100\n",
            "162/162 [==============================] - 1s 5ms/step - loss: 0.0390 - accuracy: 0.9915 - val_loss: 1.6183 - val_accuracy: 0.8708\n",
            "Epoch 79/100\n",
            "162/162 [==============================] - 1s 5ms/step - loss: 0.0158 - accuracy: 0.9963 - val_loss: 1.4471 - val_accuracy: 0.8692\n",
            "Epoch 80/100\n",
            "162/162 [==============================] - 1s 5ms/step - loss: 0.0300 - accuracy: 0.9948 - val_loss: 1.7984 - val_accuracy: 0.8538\n",
            "Epoch 81/100\n",
            "162/162 [==============================] - 1s 5ms/step - loss: 0.0309 - accuracy: 0.9928 - val_loss: 1.3598 - val_accuracy: 0.8692\n",
            "Epoch 82/100\n",
            "162/162 [==============================] - 1s 5ms/step - loss: 0.0162 - accuracy: 0.9956 - val_loss: 1.2685 - val_accuracy: 0.8754\n",
            "Epoch 83/100\n",
            "162/162 [==============================] - 1s 7ms/step - loss: 0.0047 - accuracy: 0.9988 - val_loss: 1.2968 - val_accuracy: 0.8815\n",
            "Epoch 84/100\n",
            "162/162 [==============================] - 1s 8ms/step - loss: 0.0040 - accuracy: 0.9994 - val_loss: 1.4477 - val_accuracy: 0.8769\n",
            "Epoch 85/100\n",
            "162/162 [==============================] - 1s 8ms/step - loss: 0.0049 - accuracy: 0.9988 - val_loss: 1.4662 - val_accuracy: 0.8831\n",
            "Epoch 86/100\n",
            "162/162 [==============================] - 1s 5ms/step - loss: 0.0061 - accuracy: 0.9975 - val_loss: 1.5409 - val_accuracy: 0.8831\n",
            "Epoch 87/100\n",
            "162/162 [==============================] - 1s 5ms/step - loss: 0.0037 - accuracy: 0.9988 - val_loss: 1.4499 - val_accuracy: 0.8892\n",
            "Epoch 88/100\n",
            "162/162 [==============================] - 1s 5ms/step - loss: 0.0029 - accuracy: 0.9985 - val_loss: 1.5086 - val_accuracy: 0.8892\n",
            "Epoch 89/100\n",
            "162/162 [==============================] - 1s 5ms/step - loss: 0.0067 - accuracy: 0.9979 - val_loss: 1.6217 - val_accuracy: 0.8677\n",
            "Epoch 90/100\n",
            "162/162 [==============================] - 1s 5ms/step - loss: 0.0093 - accuracy: 0.9977 - val_loss: 1.9907 - val_accuracy: 0.8631\n",
            "Epoch 91/100\n",
            "162/162 [==============================] - 1s 5ms/step - loss: 0.0162 - accuracy: 0.9956 - val_loss: 1.3954 - val_accuracy: 0.8800\n",
            "Epoch 92/100\n",
            "162/162 [==============================] - 1s 5ms/step - loss: 0.0120 - accuracy: 0.9961 - val_loss: 1.7959 - val_accuracy: 0.8615\n",
            "Epoch 93/100\n",
            "162/162 [==============================] - 1s 5ms/step - loss: 0.0318 - accuracy: 0.9930 - val_loss: 2.0493 - val_accuracy: 0.8477\n",
            "Epoch 94/100\n",
            "162/162 [==============================] - 1s 5ms/step - loss: 0.0292 - accuracy: 0.9927 - val_loss: 1.8877 - val_accuracy: 0.8492\n",
            "Epoch 95/100\n",
            "162/162 [==============================] - 1s 8ms/step - loss: 0.0175 - accuracy: 0.9956 - val_loss: 1.4661 - val_accuracy: 0.8723\n",
            "Epoch 96/100\n",
            "162/162 [==============================] - 1s 8ms/step - loss: 0.0042 - accuracy: 0.9981 - val_loss: 1.5448 - val_accuracy: 0.8800\n",
            "Epoch 97/100\n",
            "162/162 [==============================] - 1s 7ms/step - loss: 0.0098 - accuracy: 0.9983 - val_loss: 1.6997 - val_accuracy: 0.8754\n",
            "Epoch 98/100\n",
            "162/162 [==============================] - 1s 6ms/step - loss: 0.0081 - accuracy: 0.9979 - val_loss: 1.9276 - val_accuracy: 0.8708\n",
            "Epoch 99/100\n",
            "162/162 [==============================] - 1s 5ms/step - loss: 0.0197 - accuracy: 0.9959 - val_loss: 1.6572 - val_accuracy: 0.8754\n",
            "Epoch 100/100\n",
            "162/162 [==============================] - 1s 5ms/step - loss: 0.0027 - accuracy: 0.9992 - val_loss: 1.6072 - val_accuracy: 0.8769\n"
          ]
        }
      ]
    },
    {
      "cell_type": "markdown",
      "source": [
        "**6. Results**"
      ],
      "metadata": {
        "id": "DNbiN1b6Ajqi"
      }
    },
    {
      "cell_type": "code",
      "source": [
        "import matplotlib.pyplot as plt\n",
        "\n",
        "# Access the loss and accuracy values from the history object\n",
        "train_loss = history.history['loss']\n",
        "val_loss = history.history['val_loss']\n",
        "train_accuracy = history.history['accuracy']\n",
        "val_accuracy = history.history['val_accuracy']\n",
        "\n",
        "# Plot training and validation loss\n",
        "plt.figure()\n",
        "plt.plot(train_loss, label='Training Loss')\n",
        "plt.plot(val_loss, label='Validation Loss')\n",
        "plt.xlabel('Epoch')\n",
        "plt.ylabel('Loss')\n",
        "plt.title('Training and Validation Loss without Noise')\n",
        "plt.legend()\n",
        "plt.show()\n",
        "\n",
        "# Plot training and validation accuracy\n",
        "plt.figure()\n",
        "plt.plot(train_accuracy, label='Training Accuracy')\n",
        "plt.plot(val_accuracy, label='Validation Accuracy')\n",
        "plt.xlabel('Epoch')\n",
        "plt.ylabel('Accuracy')\n",
        "plt.title('Training and Validation Accuracy without Noise')\n",
        "plt.legend()\n",
        "plt.show()\n"
      ],
      "metadata": {
        "id": "cGmLN4QfO4Ni",
        "outputId": "69cd123d-a506-468b-8615-1f2045240bf6",
        "colab": {
          "base_uri": "https://localhost:8080/",
          "height": 927
        }
      },
      "execution_count": null,
      "outputs": [
        {
          "output_type": "display_data",
          "data": {
            "text/plain": [
              "<Figure size 640x480 with 1 Axes>"
            ],
            "image/png": "[encoded data removed]"
          },
          "metadata": {}
        },
        {
          "output_type": "display_data",
          "data": {
            "text/plain": [
              "<Figure size 640x480 with 1 Axes>"
            ],
            "image/png": "[encoded data removed]"
          },
          "metadata": {}
        }
      ]
    },
    {
      "cell_type": "code",
      "source": [],
      "metadata": {
        "id": "OvOCSPh5PbTa"
      },
      "execution_count": null,
      "outputs": []
    }
  ]
}